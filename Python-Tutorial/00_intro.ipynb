{
 "cells": [
  {
   "cell_type": "markdown",
   "metadata": {
    "slideshow": {
     "slide_type": "slide"
    }
   },
   "source": [
    "# 00 - 程式 與 Python 簡介\n",
    "- 什麼是程式？\n",
    "- 為什麼選擇 Python ?\n",
    "- 學習地圖\n",
    "- Let's Coding!"
   ]
  },
  {
   "cell_type": "markdown",
   "metadata": {
    "slideshow": {
     "slide_type": "slide"
    }
   },
   "source": [
    "# 什麼是程式？\n",
    "一連串的指令，指示電腦(個人電腦、手機、遊戲機)，完成目標。\n",
    "\n",
    "## 程式設計\n",
    "幫我們自動化處理事情，減少重複或大量計算的動作"
   ]
  },
  {
   "cell_type": "markdown",
   "metadata": {
    "slideshow": {
     "slide_type": "slide"
    }
   },
   "source": [
    "# 為什麼選擇 Python ?"
   ]
  },
  {
   "cell_type": "markdown",
   "metadata": {
    "slideshow": {
     "slide_type": "fragment"
    }
   },
   "source": [
    "- 簡潔易懂\n",
    "- 要求程式碼寫作風格\n",
    "- 可以做很多事情\n",
    "    - 資料分析：統計應用、機器學習、(網路爬蟲、資料庫)\n",
    "    - 外幣/股票到價通知：網路爬蟲、(資料庫)\n",
    "    - 購物網站：網站架設、資料庫\n",
    "    - 智慧家電、智慧溫室：軟硬整合\n",
    "    - 區塊鏈：網站架設\n",
    "    - ..."
   ]
  },
  {
   "cell_type": "markdown",
   "metadata": {
    "slideshow": {
     "slide_type": "subslide"
    }
   },
   "source": [
    "## 站在巨人的肩膀上\n",
    "- [網路爬蟲]：urllib、requests、lxml、beautiful_soup、scrapy\n",
    "- [自動化控制]：selenium、pyautogui\n",
    "- [資料庫串接]：sqlite3(sqlite)、MySQLdb(MySQL)、pymssql(MSSQL)、Psycopg(PostgreSQL)\n",
    "- [自然語言]：NLTK、jieba\n",
    "- [統計應用]：pandas、numpy、scipy、matplotlib\n",
    "- [機器學習]：scikit-learn、TensorFlow\n",
    "- [影像處理]：PIL、opencv\n",
    "- [網站架設]：Django、Flask\n",
    "- [網路分析]：scapy\n",
    "- [GUI設計]：tkinter、PyQt\n",
    "- [軟硬整合]：raspberry pi 樹莓派、Arduino\n",
    "- [遊戲開發]：pygame\n",
    "- [App開發]：kivy\n",
    "- [各種服務的API串接]：Bot"
   ]
  },
  {
   "cell_type": "markdown",
   "metadata": {
    "slideshow": {
     "slide_type": "slide"
    }
   },
   "source": [
    "# 學習地圖"
   ]
  },
  {
   "cell_type": "markdown",
   "metadata": {
    "slideshow": {
     "slide_type": "-"
    }
   },
   "source": [
    "<img src=\"images/00_roadmap.png\" width=\"95%\"/>"
   ]
  },
  {
   "cell_type": "markdown",
   "metadata": {
    "slideshow": {
     "slide_type": "slide"
    }
   },
   "source": [
    "# Let's Coding!\n",
    "- [repl.it](https://repl.it/languages/python3)：線上 Python 編譯環境\n",
    "- [colab](https://research.google.com/colaboratory/)：Google 線上 Python 編譯環境\n",
    "- [Anaconda](http://tw.pyladies.com/~marsw/jupyter_install.slides.html#/)：在自己電腦上安裝，方便離線操作"
   ]
  }
 ],
 "metadata": {
  "celltoolbar": "Slideshow",
  "kernelspec": {
   "display_name": "Python 3",
   "language": "python",
   "name": "python3"
  },
  "language_info": {
   "codemirror_mode": {
    "name": "ipython",
    "version": 3
   },
   "file_extension": ".py",
   "mimetype": "text/x-python",
   "name": "python",
   "nbconvert_exporter": "python",
   "pygments_lexer": "ipython3",
   "version": "3.6.12"
  }
 },
 "nbformat": 4,
 "nbformat_minor": 1
}
