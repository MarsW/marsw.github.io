{
 "cells": [
  {
   "cell_type": "markdown",
   "metadata": {
    "slideshow": {
     "slide_type": "slide"
    }
   },
   "source": [
    "# 01 - 常見物件與輸入輸出\n",
    "- 第一支Python程式\n",
    "- 字串與數值型別操作\n",
    "- 物件命名與型別查看\n",
    "- 型別轉換\n",
    "- 輸入與輸出\n",
    "- 字串好用的方法\n",
    "- 布林型別、比較&邏輯運算"
   ]
  },
  {
   "cell_type": "markdown",
   "metadata": {
    "slideshow": {
     "slide_type": "slide"
    }
   },
   "source": [
    "# 第一支Python程式\n",
    "###  \n",
    "``` python \n",
    "print(\"Hello PyLadies\")\n",
    "```"
   ]
  },
  {
   "cell_type": "markdown",
   "metadata": {
    "slideshow": {
     "slide_type": "fragment"
    }
   },
   "source": [
    "- `print(想印的東西)`：`print` 叫做函式，Python 有內建需多好用的函式\n",
    "- Hello PyLadies 前後都有 雙引號包著，這種型別我們叫做「字串」"
   ]
  },
  {
   "cell_type": "markdown",
   "metadata": {
    "slideshow": {
     "slide_type": "slide"
    }
   },
   "source": [
    "# 字串與數值型別操作"
   ]
  },
  {
   "cell_type": "markdown",
   "metadata": {
    "slideshow": {
     "slide_type": "subslide"
    }
   },
   "source": [
    "## 字串(string)\n",
    "- 可以直接給定詞句\n",
    "- 也可以給空白句\n",
    "- 可以相+、相*"
   ]
  },
  {
   "cell_type": "code",
   "execution_count": 1,
   "metadata": {
    "scrolled": true
   },
   "outputs": [
    {
     "name": "stdout",
     "output_type": "stream",
     "text": [
      "Hi\n",
      "PyLadies\n",
      "HelloHelloHelloHello\n"
     ]
    }
   ],
   "source": [
    "print(\"Hi\")\n",
    "print(\"\" + \"Py\" + 'Ladies')\n",
    "print(\"Hello\"*4)"
   ]
  },
  {
   "cell_type": "markdown",
   "metadata": {
    "slideshow": {
     "slide_type": "fragment"
    }
   },
   "source": [
    "### !注意\n",
    "- 用「成對的」雙引號`\"`或是單引號`'`，將字串包住"
   ]
  },
  {
   "cell_type": "markdown",
   "metadata": {
    "slideshow": {
     "slide_type": "subslide"
    }
   },
   "source": [
    "而電腦 Computer 其實另外一種翻譯方式叫做「計算機」，  \n",
    "所以想當然「數值」也是字串之外常用的型別。"
   ]
  },
  {
   "cell_type": "markdown",
   "metadata": {
    "slideshow": {
     "slide_type": "subslide"
    }
   },
   "source": [
    "# 數值\n",
    "- 整數 integer：**`int`**\n",
    "- 浮點數 float：**`float`**\n",
    "- 運算元<b>+ - * / // % **</b> \n",
    "- 在Python裡面整數interger可以儲存的位數，取決於電腦記憶體有多大"
   ]
  },
  {
   "cell_type": "code",
   "execution_count": 2,
   "metadata": {
    "scrolled": true
   },
   "outputs": [
    {
     "name": "stdout",
     "output_type": "stream",
     "text": [
      "13\n",
      "7\n",
      "30\n",
      "3.3333333333333335\n",
      "3\n",
      "1\n",
      "1000\n"
     ]
    }
   ],
   "source": [
    "print(10+3)  # 加法\n",
    "print(10-3)  # 減法\n",
    "print(10*3)  # 乘法\n",
    "print(10/3)  # 除法\n",
    "print(10//3) # 除法(取整數，無條件捨去)\n",
    "print(10%3)  # 取餘數\n",
    "print(10**3) # 次方"
   ]
  },
  {
   "cell_type": "markdown",
   "metadata": {
    "slideshow": {
     "slide_type": "subslide"
    }
   },
   "source": [
    "### [練習]\n",
    "在學校的時候，調成績很常喜歡`開根號後再*10`，  \n",
    "我們就來練習看看 70 分調分之後是多少\n",
    "\n",
    "#### Hint:\n",
    "- 開根號 = 0.5 次方"
   ]
  },
  {
   "cell_type": "markdown",
   "metadata": {
    "slideshow": {
     "slide_type": "notes"
    }
   },
   "source": [
    "``` python\n",
    "print(70**0.5*10)\n",
    "```"
   ]
  },
  {
   "cell_type": "markdown",
   "metadata": {
    "slideshow": {
     "slide_type": "subslide"
    }
   },
   "source": [
    "### [練習]\n",
    "鉛筆 1 支 5 元，一打(12支) 50 元。  \n",
    "要買 42 支請問最少要花多少錢？"
   ]
  },
  {
   "cell_type": "markdown",
   "metadata": {
    "slideshow": {
     "slide_type": "fragment"
    }
   },
   "source": [
    "#### Hint:\n",
    "- 打數 = 42 除以 12 的整數\n",
    "- `打數*50 + 剩下的支數*5`"
   ]
  },
  {
   "cell_type": "markdown",
   "metadata": {
    "slideshow": {
     "slide_type": "notes"
    }
   },
   "source": [
    "``` python\n",
    "print((42//12)*50+(42%12)*5)\n",
    "```"
   ]
  },
  {
   "cell_type": "markdown",
   "metadata": {
    "slideshow": {
     "slide_type": "subslide"
    }
   },
   "source": [
    "``` python \n",
    "print(10+3)  # 加法\n",
    "print(10-3)  # 減法\n",
    "print(10*3)  # 乘法\n",
    "print(10/3)  # 除法\n",
    "print(10//3) # 除法(取整數，無條件捨去)\n",
    "print(10%3)  # 取餘數\n",
    "print(10**3) # 次方\n",
    "```\n",
    "現在的舉例是10跟3的各種運算，\n",
    "那如果我想換成55跟5呢？"
   ]
  },
  {
   "cell_type": "markdown",
   "metadata": {
    "slideshow": {
     "slide_type": "slide"
    }
   },
   "source": [
    "# 物件命名與型別查看"
   ]
  },
  {
   "cell_type": "markdown",
   "metadata": {
    "slideshow": {
     "slide_type": "subslide"
    }
   },
   "source": [
    "## 物件命名"
   ]
  },
  {
   "cell_type": "code",
   "execution_count": 3,
   "metadata": {
    "slideshow": {
     "slide_type": "-"
    }
   },
   "outputs": [
    {
     "name": "stdout",
     "output_type": "stream",
     "text": [
      "13\n",
      "7\n",
      "30\n"
     ]
    }
   ],
   "source": [
    "a=10\n",
    "b=3\n",
    "print(a+b)  # 加法\n",
    "print(a-b)  # 減法\n",
    "print(a*b)  # 乘法"
   ]
  },
  {
   "cell_type": "markdown",
   "metadata": {
    "slideshow": {
     "slide_type": "-"
    }
   },
   "source": [
    "- 在Python程式中「=」可以想像成是「貼標籤」的意思\n",
    "- 在右邊的「物件」(資料內容)存放位置貼上左邊「名稱」的標籤，亦即名稱指向物件。\n",
    "- 可以讓物件(資料內容)重複利用，程式碼可以更為簡潔\n",
    "    - Python有垃圾收集(garbage collection)機制，沒有名稱指向的物件會被回收\n",
    "\n",
    "``` python\n",
    "a=10\n",
    "url = \"http://blog.marsw.tw\"\n",
    "```\n",
    "- a、url 都是自行命名的物件\n",
    "- 可以命名的字元：_、0~9、a~Z (中文也行，但不建議)"
   ]
  },
  {
   "cell_type": "markdown",
   "metadata": {
    "slideshow": {
     "slide_type": "subslide"
    }
   },
   "source": [
    "### 特別注意！！！\n",
    "- 不能以數字開頭\n",
    "- 不能與保留字相同\n",
    "- 好的命名方式會讓程式碼容易閱讀 \n",
    "    - `xyz = \"http://blog.marsw.tw\"` vs.   \n",
    "    `url = \"http://blog.marsw.tw\"`\n",
    "\n",
    "### 保留字\n",
    "<table align=\"left\">\n",
    "    <tr><td>and</td><td>as</td><td>assert</td><td>break</td><td>class</td></tr>\n",
    "    <tr><td>continue</td><td>def</td><td>del</td><td>elif</td><td>else</td></tr>\n",
    "    <tr><td>except</td><td>finally</td><td>for</td><td>from</td><td>global</td></tr>\n",
    "    <tr><td>if</td><td>import</td><td>in</td><td>is</td><td>lambda</td></tr>\n",
    "    <tr><td>nonlocal</td><td>not</td><td>or</td><td>pass</td><td>raise</td></tr>\n",
    "    <tr><td>return</td><td>try</td><td>while</td><td>with</td><td>yield</td></tr>\n",
    "    <tr><td>None</td><td>False</td><td>True</td><td>exec</td><td>print</td></tr>\n",
    "</table>"
   ]
  },
  {
   "cell_type": "markdown",
   "metadata": {
    "slideshow": {
     "slide_type": "subslide"
    }
   },
   "source": [
    "<img src=\"http://tw.pyladies.com/~marsw/slide_image/object_variable.png\" width=\"65%\"  />"
   ]
  },
  {
   "cell_type": "code",
   "execution_count": 4,
   "metadata": {
    "scrolled": true,
    "slideshow": {
     "slide_type": "-"
    }
   },
   "outputs": [
    {
     "name": "stdout",
     "output_type": "stream",
     "text": [
      "4477814896 4477814896\n",
      "4477814928 4477814896\n"
     ]
    }
   ],
   "source": [
    "a=3\n",
    "b=a\n",
    "print(id(a),id(b))\n",
    "a=4\n",
    "print(id(a),id(b))"
   ]
  },
  {
   "cell_type": "markdown",
   "metadata": {
    "slideshow": {
     "slide_type": "subslide"
    }
   },
   "source": [
    "## 內建函數-型別查看\n",
    "- **`type(物件)`**：印出此物件的型別"
   ]
  },
  {
   "cell_type": "code",
   "execution_count": 5,
   "metadata": {
    "scrolled": false
   },
   "outputs": [
    {
     "name": "stdout",
     "output_type": "stream",
     "text": [
      "<class 'int'>\n",
      "<class 'float'>\n",
      "<class 'str'>\n",
      "<class 'builtin_function_or_method'>\n"
     ]
    }
   ],
   "source": [
    "my_score = 96\n",
    "pi = 3.14159\n",
    "url = \"http://blog.marsw.tw\"\n",
    "\n",
    "print(type(my_score))\n",
    "print(type(pi))\n",
    "print(type(url))\n",
    "print(type(print))"
   ]
  },
  {
   "cell_type": "markdown",
   "metadata": {
    "slideshow": {
     "slide_type": "fragment"
    }
   },
   "source": [
    "### 在 Python 中，所有東西都是物件！！！"
   ]
  },
  {
   "cell_type": "markdown",
   "metadata": {
    "slideshow": {
     "slide_type": "subslide"
    }
   },
   "source": [
    "## Python 是一個動態性的語言\n",
    "- 同樣的物件可以隨時更動他的型別"
   ]
  },
  {
   "cell_type": "code",
   "execution_count": 6,
   "metadata": {
    "scrolled": false
   },
   "outputs": [
    {
     "name": "stdout",
     "output_type": "stream",
     "text": [
      "<class 'int'>\n",
      "<class 'float'>\n",
      "<class 'str'>\n"
     ]
    }
   ],
   "source": [
    "my_score = 96\n",
    "print(type(my_score))\n",
    "\n",
    "my_score = 96.0\n",
    "print(type(my_score))\n",
    "\n",
    "my_score = \"96\"\n",
    "print(type(my_score))"
   ]
  },
  {
   "cell_type": "markdown",
   "metadata": {
    "slideshow": {
     "slide_type": "slide"
    }
   },
   "source": [
    "# 型別轉換"
   ]
  },
  {
   "cell_type": "markdown",
   "metadata": {
    "slideshow": {
     "slide_type": "subslide"
    }
   },
   "source": [
    "### !注意\n",
    "- 字串與數值不可一同運算"
   ]
  },
  {
   "cell_type": "code",
   "execution_count": 7,
   "metadata": {
    "scrolled": true
   },
   "outputs": [
    {
     "ename": "TypeError",
     "evalue": "must be str, not int",
     "output_type": "error",
     "traceback": [
      "\u001b[0;31m---------------------------------------------------------------------------\u001b[0m",
      "\u001b[0;31mTypeError\u001b[0m                                 Traceback (most recent call last)",
      "\u001b[0;32m<ipython-input-7-151fbba3d316>\u001b[0m in \u001b[0;36m<module>\u001b[0;34m()\u001b[0m\n\u001b[1;32m      1\u001b[0m \u001b[0mmy_string\u001b[0m \u001b[0;34m=\u001b[0m \u001b[0;34m\"123\"\u001b[0m\u001b[0;34m\u001b[0m\u001b[0m\n\u001b[1;32m      2\u001b[0m \u001b[0mmy_int_number\u001b[0m \u001b[0;34m=\u001b[0m \u001b[0;36m456\u001b[0m\u001b[0;34m\u001b[0m\u001b[0m\n\u001b[0;32m----> 3\u001b[0;31m \u001b[0mprint\u001b[0m \u001b[0;34m(\u001b[0m\u001b[0mmy_string\u001b[0m\u001b[0;34m+\u001b[0m\u001b[0mmy_int_number\u001b[0m\u001b[0;34m)\u001b[0m\u001b[0;34m\u001b[0m\u001b[0m\n\u001b[0m",
      "\u001b[0;31mTypeError\u001b[0m: must be str, not int"
     ]
    }
   ],
   "source": [
    "my_string = \"123\"\n",
    "my_int_number = 456\n",
    "print(my_string+my_int_number)"
   ]
  },
  {
   "cell_type": "markdown",
   "metadata": {
    "slideshow": {
     "slide_type": "subslide"
    }
   },
   "source": [
    "## 內建函式-型別轉換\n",
    "- **`int(物件)`**：將物件轉成整數(integer)型別\n",
    "- **`float(物件)`**：將物件轉成浮點數(float)型別\n",
    "- **`str(物件)`**：將物件轉成字串(string)型別\n",
    "  \n",
    "### !注意\n",
    "- 字串轉數字，需要符合整數、浮點數的格式"
   ]
  },
  {
   "cell_type": "code",
   "execution_count": 8,
   "metadata": {
    "scrolled": true
   },
   "outputs": [
    {
     "name": "stdout",
     "output_type": "stream",
     "text": [
      "123456\n",
      "579\n",
      "5689.123\n"
     ]
    },
    {
     "ename": "ValueError",
     "evalue": "invalid literal for int() with base 10: '5566.123'",
     "output_type": "error",
     "traceback": [
      "\u001b[0;31m---------------------------------------------------------------------------\u001b[0m",
      "\u001b[0;31mValueError\u001b[0m                                Traceback (most recent call last)",
      "\u001b[0;32m<ipython-input-8-347d8eaf9d2b>\u001b[0m in \u001b[0;36m<module>\u001b[0;34m()\u001b[0m\n\u001b[1;32m      5\u001b[0m \u001b[0mprint\u001b[0m \u001b[0;34m(\u001b[0m\u001b[0minput1\u001b[0m\u001b[0;34m+\u001b[0m\u001b[0mint\u001b[0m\u001b[0;34m(\u001b[0m\u001b[0minput2\u001b[0m\u001b[0;34m)\u001b[0m\u001b[0;34m)\u001b[0m\u001b[0;34m\u001b[0m\u001b[0m\n\u001b[1;32m      6\u001b[0m \u001b[0mprint\u001b[0m \u001b[0;34m(\u001b[0m\u001b[0mfloat\u001b[0m\u001b[0;34m(\u001b[0m\u001b[0minput3\u001b[0m\u001b[0;34m)\u001b[0m\u001b[0;34m+\u001b[0m\u001b[0minput1\u001b[0m\u001b[0;34m)\u001b[0m\u001b[0;34m\u001b[0m\u001b[0m\n\u001b[0;32m----> 7\u001b[0;31m \u001b[0mprint\u001b[0m \u001b[0;34m(\u001b[0m\u001b[0mint\u001b[0m\u001b[0;34m(\u001b[0m\u001b[0minput3\u001b[0m\u001b[0;34m)\u001b[0m\u001b[0;34m)\u001b[0m\u001b[0;34m\u001b[0m\u001b[0m\n\u001b[0m",
      "\u001b[0;31mValueError\u001b[0m: invalid literal for int() with base 10: '5566.123'"
     ]
    }
   ],
   "source": [
    "input1 = 123\n",
    "input2 = \"456\"\n",
    "input3 = \"5566.123\"\n",
    "print(str(input1)+input2)\n",
    "print(input1+int(input2))\n",
    "print(float(input3)+input1)\n",
    "print(int(input3))"
   ]
  },
  {
   "cell_type": "markdown",
   "metadata": {
    "slideshow": {
     "slide_type": "subslide"
    }
   },
   "source": [
    "### [練習]\n",
    "請修正以下程式碼，讓字串相加變成是數值相加，也就是結果會是 120\n",
    "```python\n",
    "a = \"70\"\n",
    "b = \"50\"\n",
    "print(a+b)\n",
    "```"
   ]
  },
  {
   "cell_type": "markdown",
   "metadata": {
    "slideshow": {
     "slide_type": "notes"
    }
   },
   "source": [
    "```python\n",
    "a = \"70\"\n",
    "b = \"50\"\n",
    "print(int(a)+int(b))\n",
    "```"
   ]
  },
  {
   "cell_type": "markdown",
   "metadata": {
    "slideshow": {
     "slide_type": "subslide"
    }
   },
   "source": [
    "這對已經會寫程式的你，這或許不是難事，  \n",
    "但假設你希望把你寫的好用程式也讓其他人能使用呢？  "
   ]
  },
  {
   "cell_type": "markdown",
   "metadata": {
    "slideshow": {
     "slide_type": "fragment"
    }
   },
   "source": [
    "如果有個跟我們平常在用的計算機一樣，  \n",
    "可以有個介面輸入數字、想要運算的方式，  \n",
    "程式就能產生我想要的結果，好像很不錯～"
   ]
  },
  {
   "cell_type": "markdown",
   "metadata": {
    "slideshow": {
     "slide_type": "slide"
    }
   },
   "source": [
    "# 輸入與輸出\n",
    "- **`物件 = input(提示字)`**：從鍵盤輸入值\n",
    "    - 輸入的值會儲存為字串型別\n",
    "    - 貼上「物件名稱」的標籤才能知道輸入的資料在哪\n",
    "- **`print(物件)`**：輸出物件到螢幕上\n",
    "    - 可以用`,`印出多個物件(印出後，會以空格分隔物件)"
   ]
  },
  {
   "cell_type": "code",
   "execution_count": 9,
   "metadata": {},
   "outputs": [
    {
     "name": "stdout",
     "output_type": "stream",
     "text": [
      "a=5\n",
      "b=2\n",
      "a+b= 52\n"
     ]
    }
   ],
   "source": [
    "a = input(\"a=\")    # \"a=\" 是提示字，讓我們知道電腦在等我們輸入\n",
    "b = input(\"b=\")\n",
    "print(\"a+b=\",a+b) # input進來是字串"
   ]
  },
  {
   "cell_type": "code",
   "execution_count": 10,
   "metadata": {
    "scrolled": false
   },
   "outputs": [
    {
     "name": "stdout",
     "output_type": "stream",
     "text": [
      "a=Hello\n",
      "b=PyLadies\n",
      "a+b= HelloPyLadies\n"
     ]
    }
   ],
   "source": [
    "a = input(\"a=\")    # \"a=\" 是提示字，讓我們知道電腦在等我們輸入\n",
    "b = input(\"b=\")\n",
    "print(\"a+b=\",a+b) # input進來是字串"
   ]
  },
  {
   "cell_type": "markdown",
   "metadata": {
    "slideshow": {
     "slide_type": "subslide"
    }
   },
   "source": [
    "### [練習]\n",
    "請修正以下程式碼，讓他是計算機的功能  \n",
    "eg. 我分別輸入 5 (按下Enter) 10 (按下Enter) 結果會是 15\n",
    "```python\n",
    "a = input(\"a=\")\n",
    "b = input(\"b=\")\n",
    "print(\"a+b=\",a+b)\n",
    "```"
   ]
  },
  {
   "cell_type": "markdown",
   "metadata": {
    "slideshow": {
     "slide_type": "notes"
    }
   },
   "source": [
    "```python\n",
    "a = input(\"a=\")\n",
    "b = input(\"b=\")\n",
    "print(\"a+b=\",int(a)+int(b))\n",
    "```"
   ]
  },
  {
   "cell_type": "markdown",
   "metadata": {
    "slideshow": {
     "slide_type": "subslide"
    }
   },
   "source": [
    "input()可以讓我們跟電腦互動  \n",
    "而不單單只是讓電腦print()東西出來而已"
   ]
  },
  {
   "cell_type": "markdown",
   "metadata": {
    "slideshow": {
     "slide_type": "-"
    }
   },
   "source": [
    "#### 互動的計算機"
   ]
  },
  {
   "cell_type": "code",
   "execution_count": 11,
   "metadata": {},
   "outputs": [
    {
     "name": "stdout",
     "output_type": "stream",
     "text": [
      "a=5\n",
      "a*2= 10\n",
      "a^2= 25\n"
     ]
    }
   ],
   "source": [
    "a = input(\"a=\") # \"a=\" 是提示字，讓我們知道電腦在等我們輸入\n",
    "a = int(a)      # input進來是字串，要做數值運算要用int()轉換   \n",
    "# 以上也可以簡寫為 a = int(input(\"a=\"))\n",
    "print(\"a*2=\",a*2)\n",
    "print(\"a^2=\",a**2)"
   ]
  },
  {
   "cell_type": "markdown",
   "metadata": {
    "slideshow": {
     "slide_type": "-"
    }
   },
   "source": [
    "#### 問候機器人"
   ]
  },
  {
   "cell_type": "code",
   "execution_count": 12,
   "metadata": {},
   "outputs": [
    {
     "name": "stdout",
     "output_type": "stream",
     "text": [
      "請問你的名字是? Mars\n",
      "你好 Mars\n"
     ]
    }
   ],
   "source": [
    "a = input(\"請問你的名字是? \") \n",
    "print(\"你好\",a)      # 用,分隔會印出空格\n",
    "# print(\"你好\"+a)     # 可以用字串相加，就不會有空格"
   ]
  },
  {
   "cell_type": "markdown",
   "metadata": {
    "slideshow": {
     "slide_type": "slide"
    }
   },
   "source": [
    "# 字串好用的方法"
   ]
  },
  {
   "cell_type": "markdown",
   "metadata": {
    "slideshow": {
     "slide_type": "subslide"
    }
   },
   "source": [
    "## 取代 replace\n",
    "### **`原字串.replace(舊字串,新字串,取代次數)`**  \n",
    "- 將「原字串」中「舊字串」都取代為「新字串」，  \n",
    "產生一個新的「處理後字串」，並不會改變原來字串\n",
    "- 取代次數預設是無限次"
   ]
  },
  {
   "cell_type": "code",
   "execution_count": 13,
   "metadata": {},
   "outputs": [
    {
     "name": "stdout",
     "output_type": "stream",
     "text": [
      "PyLAdies TAiwAn\n",
      "PyLAdies TAiwan\n",
      "PyLadies Taiwan\n"
     ]
    }
   ],
   "source": [
    "my_string = \"PyLadies Taiwan\"\n",
    "print(my_string.replace(\"a\",\"A\"))\n",
    "print(my_string.replace(\"a\",\"A\",2))\n",
    "print(my_string)"
   ]
  },
  {
   "cell_type": "code",
   "execution_count": 14,
   "metadata": {},
   "outputs": [
    {
     "name": "stdout",
     "output_type": "stream",
     "text": [
      "PyLAdies TAiwAn\n",
      "PyLAdies LAiwAn\n",
      "Pydies iwAn\n"
     ]
    }
   ],
   "source": [
    "my_string = \"PyLadies Taiwan\"\n",
    "my_string = my_string.replace(\"a\",\"A\") # 讓原來命名的標籤，貼到新的字串\n",
    "print(my_string)\n",
    "my_string = my_string.replace(\"T\",\"L\")\n",
    "print(my_string)\n",
    "my_string = my_string.replace(\"LA\",\"\")\n",
    "print(my_string)"
   ]
  },
  {
   "cell_type": "markdown",
   "metadata": {
    "slideshow": {
     "slide_type": "subslide"
    }
   },
   "source": [
    "### replace 應用情境"
   ]
  },
  {
   "cell_type": "markdown",
   "metadata": {},
   "source": [
    "#### 景點改名"
   ]
  },
  {
   "cell_type": "code",
   "execution_count": 15,
   "metadata": {
    "scrolled": true
   },
   "outputs": [
    {
     "name": "stdout",
     "output_type": "stream",
     "text": [
      "\n",
      "臺灣民主紀念園區，位於臺北市中正區，全區250,000平方公尺，主樓高76公尺。\n",
      "臺灣民主紀念園區全區面積達250,000平方公尺，除了高76公尺的主建築外，還有國家戲劇院、國家音樂廳（合稱「兩廳院」），以及....等。\n",
      "\n"
     ]
    }
   ],
   "source": [
    "article=\"\"\"\n",
    "中正紀念堂，位於臺北市中正區，全區250,000平方公尺，主樓高76公尺。\n",
    "中正紀念堂全區面積達250,000平方公尺，除了高76公尺的主建築外，還有國家戲劇院、國家音樂廳（合稱「兩廳院」），以及....等。\n",
    "\"\"\"\n",
    "# 字串太長，或有換行，可以用三個 雙引號\" 或是 單引號' 包起來\n",
    "article=article.replace(\"中正紀念堂\",\"臺灣民主紀念園區\")\n",
    "print(article)"
   ]
  },
  {
   "cell_type": "markdown",
   "metadata": {},
   "source": [
    "#### 資料正規化"
   ]
  },
  {
   "cell_type": "code",
   "execution_count": 16,
   "metadata": {},
   "outputs": [
    {
     "name": "stdout",
     "output_type": "stream",
     "text": [
      "APPLE\n"
     ]
    }
   ],
   "source": [
    "brand = \"ＡＰＰＬＥ\"\n",
    "brand = brand.replace(\"Ａ\",\"A\").replace(\"Ｐ\",\"P\").replace(\"Ｌ\",\"L\").replace(\"Ｅ\",\"E\")\n",
    "print(brand)"
   ]
  },
  {
   "cell_type": "markdown",
   "metadata": {
    "slideshow": {
     "slide_type": "subslide"
    }
   },
   "source": [
    "### [練習]\n",
    "試著把以下這篇[演講逐字稿](https://www.ted.com/talks/reshma_saujani_teach_girls_bravery_not_perfection?language=zh-tw)，\n",
    "- 把前面出現的三個「女孩」取代成「女生」\n",
    "- 然後印出"
   ]
  },
  {
   "cell_type": "markdown",
   "metadata": {},
   "source": [
    "``` python\n",
    "article = \"\"\"2012年我創立了一間公司 來教女孩寫程式 我發現到，透過教程式編寫 其實我是在培養她們變得勇敢 \n",
    "程式編寫是一個「不斷檢測 與發現錯誤」的無止境過程 \n",
    "要設法在對的地方，輸入正確的指令 有時候只是差一個分號 就足以決定成敗 \n",
    "程式碼錯了，就全盤皆錯 時常要嘗試很多很多次 奇蹟才會出現 \n",
    "你試著建構的東西總算活了起來 這項工作需要毅力 需要不完美\n",
    "\n",
    "我們馬上就發現 參與學程的女孩都害怕犯錯 害怕不完美 「寫程式的女孩」計畫的每個老師 都告訴我一樣的故事 \n",
    "第一週，女孩們還在學 怎麼編寫程式碼時 學生會請她過去跟她說 「我不知道要寫什麼程式碼」 \n",
    "老師看了看她的螢幕 只會看到一片空白 \n",
    "假如她不夠瞭解，她會覺得她的學生 花了20分鐘，只是盯著螢幕發呆 \n",
    "但如果她多按幾下復原鍵 她會看見學生其實 寫下程式碼又刪除了 \n",
    "她試過，她逼近了 可是還沒做到完全正確 \n",
    "她不呈現編寫的進展 卻寧願給人看一片空白 寧缺勿濫\"\"\"\n",
    "```"
   ]
  },
  {
   "cell_type": "markdown",
   "metadata": {
    "slideshow": {
     "slide_type": "notes"
    }
   },
   "source": [
    "```python\n",
    "print(article.replace(\"女孩\",\"女生\",3))\n",
    "```"
   ]
  },
  {
   "cell_type": "markdown",
   "metadata": {
    "slideshow": {
     "slide_type": "fragment"
    }
   },
   "source": [
    "#### 進階挑戰\n",
    "- 如果我希望把前面三個出現「女孩」的地方保留，而其他地方的「女孩」都取代成「女生」呢？"
   ]
  },
  {
   "cell_type": "markdown",
   "metadata": {
    "slideshow": {
     "slide_type": "subslide"
    }
   },
   "source": [
    "## 格式化-format\n",
    "### **`包含{}的字串.format(將{}取代的值)`**  \n",
    "format裡可以放數值、字串，不用特別再將數值轉換成字串型別"
   ]
  },
  {
   "cell_type": "markdown",
   "metadata": {},
   "source": [
    "#### 產生各股票網址(股票代號是在網址中，不是在尾端) "
   ]
  },
  {
   "cell_type": "code",
   "execution_count": 17,
   "metadata": {},
   "outputs": [
    {
     "name": "stdout",
     "output_type": "stream",
     "text": [
      "http://www.wantgoo.com/stock/2330?searchType=stocks\n",
      "http://www.wantgoo.com/stock/2371?searchType=stocks\n"
     ]
    }
   ],
   "source": [
    "# 使用字串相加\n",
    "url = \"http://www.wantgoo.com/stock/\"+str(2330)+\"?searchType=stocks\"\n",
    "print(url)\n",
    "url = \"http://www.wantgoo.com/stock/\"+str(2371)+\"?searchType=stocks\"\n",
    "print(url)"
   ]
  },
  {
   "cell_type": "code",
   "execution_count": 18,
   "metadata": {},
   "outputs": [
    {
     "name": "stdout",
     "output_type": "stream",
     "text": [
      "http://www.wantgoo.com/stock/2330?searchType=stocks\n",
      "http://www.wantgoo.com/stock/2371?searchType=stocks\n"
     ]
    }
   ],
   "source": [
    "# 使用格式化方法\n",
    "url = \"http://www.wantgoo.com/stock/{}?searchType=stocks\".format(2330)\n",
    "print(url)\n",
    "url = \"http://www.wantgoo.com/stock/{}?searchType=stocks\".format(2371)\n",
    "print(url)"
   ]
  },
  {
   "cell_type": "markdown",
   "metadata": {
    "slideshow": {
     "slide_type": "subslide"
    }
   },
   "source": [
    "#### 可以傳遞很多參數\n",
    "- 按照順序取用參數"
   ]
  },
  {
   "cell_type": "code",
   "execution_count": 19,
   "metadata": {},
   "outputs": [
    {
     "name": "stdout",
     "output_type": "stream",
     "text": [
      "颱風就是要泛舟呀，不然要幹嘛？\n",
      "夏天就是要吃冰呀，不然要幹嘛？\n"
     ]
    }
   ],
   "source": [
    "word1 = \"颱風\"\n",
    "word2 = \"泛舟\"\n",
    "my_sentence = \"{}就是要{}呀，不然要幹嘛？\".format(word1,word2)\n",
    "my_sentence = word1+\"就是要\"+word2+\"呀，不然要幹嘛？\"           # 用字串相加，程式碼會比較凌亂\n",
    "print(my_sentence)\n",
    "\n",
    "word1 = \"夏天\"\n",
    "word2 = \"吃冰\"\n",
    "my_sentence = \"{}就是要{}呀，不然要幹嘛？\".format(word1,word2)\n",
    "print(my_sentence)"
   ]
  },
  {
   "cell_type": "markdown",
   "metadata": {
    "slideshow": {
     "slide_type": "subslide"
    }
   },
   "source": [
    "### [練習]\n",
    "第一次會輸入<姓名>，  \n",
    "第二次會輸入<喜好>，  \n",
    "利用字串的`format`方法，  \n",
    "讓程式印出「我是PyLadies的<姓名>，我喜歡<喜好>，很高興認識大家！」"
   ]
  },
  {
   "cell_type": "markdown",
   "metadata": {
    "slideshow": {
     "slide_type": "fragment"
    }
   },
   "source": [
    "#### Hint:\n",
    "- `input()`：輸入，要記得要用個命名物件去接，儲存的型別為字串\n",
    "- 字串前後記得要有雙引號或單引號"
   ]
  },
  {
   "cell_type": "markdown",
   "metadata": {
    "slideshow": {
     "slide_type": "fragment"
    }
   },
   "source": [
    "``` python\n",
    "name = input()\n",
    "hobby = _____\n",
    "print(\"我是PyLadies的___，我喜歡___，很高興認識大家！\"_______)\n",
    "```"
   ]
  },
  {
   "cell_type": "markdown",
   "metadata": {
    "slideshow": {
     "slide_type": "notes"
    }
   },
   "source": [
    "``` python\n",
    "name = input()\n",
    "hobby = input()\n",
    "print(\"我是PyLadies的{}，我喜歡{}，很高興認識大家！\".format(name,hobby))\n",
    "```"
   ]
  },
  {
   "cell_type": "markdown",
   "metadata": {
    "slideshow": {
     "slide_type": "slide"
    }
   },
   "source": [
    "# 布林型別、比較&邏輯運算"
   ]
  },
  {
   "cell_type": "markdown",
   "metadata": {
    "slideshow": {
     "slide_type": "subslide"
    }
   },
   "source": [
    "## 布林型別\n",
    "- True\n",
    "- False"
   ]
  },
  {
   "cell_type": "markdown",
   "metadata": {
    "slideshow": {
     "slide_type": "-"
    }
   },
   "source": [
    "## 比較運算\n",
    "- 產生的結果為bool布林型別\n",
    "- <, <=, >, >=, ==, !="
   ]
  },
  {
   "cell_type": "code",
   "execution_count": 20,
   "metadata": {
    "slideshow": {
     "slide_type": "-"
    }
   },
   "outputs": [
    {
     "name": "stdout",
     "output_type": "stream",
     "text": [
      "True\n",
      "False\n",
      "True\n",
      "False\n",
      "False\n"
     ]
    }
   ],
   "source": [
    "print(10>3)\n",
    "print(10==3) #<左邊的物件>「是否等於」<右邊的物件>  \n",
    "print(10!=3) #不等於\n",
    "print(10<=3)\n",
    "print(\"Hi\"==\"hi\")"
   ]
  },
  {
   "cell_type": "markdown",
   "metadata": {
    "slideshow": {
     "slide_type": "subslide"
    }
   },
   "source": [
    "## 邏輯運算\n",
    "- 產生的結果為bool布林型別\n",
    "- and：左右物件都為True=>True\n",
    "- or：左右物件其一為True=>True\n",
    "- not：反轉True/False"
   ]
  },
  {
   "cell_type": "code",
   "execution_count": 21,
   "metadata": {},
   "outputs": [
    {
     "name": "stdout",
     "output_type": "stream",
     "text": [
      "False\n",
      "True\n",
      "True\n"
     ]
    }
   ],
   "source": [
    "print(10>3 and 10==3)\n",
    "print(10>3 or 10==3)\n",
    "print(not 10==3)"
   ]
  },
  {
   "cell_type": "markdown",
   "metadata": {
    "slideshow": {
     "slide_type": "subslide"
    }
   },
   "source": [
    "## 內建函數-型別判定\n",
    "- `isinstance(數值,型別)`：產生的結果為bool布林型別"
   ]
  },
  {
   "cell_type": "code",
   "execution_count": 22,
   "metadata": {},
   "outputs": [
    {
     "name": "stdout",
     "output_type": "stream",
     "text": [
      "True\n",
      "False\n",
      "True\n",
      "True\n"
     ]
    }
   ],
   "source": [
    "print(isinstance(222,int))\n",
    "print(isinstance(3.14,int))\n",
    "print(isinstance(3.14,float))\n",
    "print(isinstance('3.14',str))"
   ]
  },
  {
   "cell_type": "markdown",
   "metadata": {
    "slideshow": {
     "slide_type": "subslide"
    }
   },
   "source": [
    "## 布林型別轉換\n",
    "可以用來判斷常見的型別是否有資料\n",
    "- 數值是否不等於0\n",
    "- 字串是否有值\n",
    "- ..."
   ]
  },
  {
   "cell_type": "code",
   "execution_count": 23,
   "metadata": {
    "slideshow": {
     "slide_type": "-"
    }
   },
   "outputs": [
    {
     "name": "stdout",
     "output_type": "stream",
     "text": [
      "False False\n",
      "True True True True\n"
     ]
    }
   ],
   "source": [
    "print(bool(\"\"), bool(0))\n",
    "print(bool(-1), bool(0.01), bool(1), bool(\"Hi\"))"
   ]
  },
  {
   "cell_type": "markdown",
   "metadata": {},
   "source": [
    "### [練習]\n",
    "輸入一個數字，如果是奇數，印出 True；\n",
    "否則印出 False(也就是偶數的意思)\n",
    "\n",
    "#### Hint:\n",
    "- `input()`：輸入，要記得要用個命名物件去接，儲存的型別為字串\n",
    "- bool(數值不等於0) = True\n",
    "- 奇數：除以二的餘數不等於0"
   ]
  },
  {
   "cell_type": "markdown",
   "metadata": {
    "slideshow": {
     "slide_type": "fragment"
    }
   },
   "source": [
    "``` python\n",
    "a = input()\n",
    "print(___(___(a)__2))\n",
    "```"
   ]
  },
  {
   "cell_type": "markdown",
   "metadata": {
    "slideshow": {
     "slide_type": "notes"
    }
   },
   "source": [
    "``` python\n",
    "a = input()\n",
    "print(bool(int(a)%2))\n",
    "```"
   ]
  },
  {
   "cell_type": "markdown",
   "metadata": {
    "slideshow": {
     "slide_type": "subslide"
    }
   },
   "source": [
    "### [進階練習]\n",
    "忘了些東西在公司，但末班的公車快來了，不知道是否來得及～  \n",
    "分別輸入五個數字，分別是\n",
    "- 現在的時間-小時部分\n",
    "- 現在的時間-分鐘部分\n",
    "- 末班車時間-小時部分\n",
    "- 末班車時間-分鐘部分\n",
    "- 公車站往返公司所需的分鐘\n",
    "\n",
    "請寫一隻程式判斷是否來得及(剛好到達也算)：\n",
    "來得及就印 True，否則印 False！\n",
    "\n",
    "eg. 21 00 21 15 13 => True  \n",
    "現在時間是 21:00，末班車發車時間是 21:15，往返時間需要 13 分鐘 => 來得及  "
   ]
  },
  {
   "cell_type": "markdown",
   "metadata": {
    "slideshow": {
     "slide_type": "fragment"
    }
   },
   "source": [
    "#### Hint:\n",
    "我們還不知道怎麼寫程式讓分鐘超過60就進位，小時也有0~23的限制\n",
    "- 可以全部都換算成分鐘 eg. 00:01 => 1 , 01:02 => 62 \n",
    "- `input()`：輸入，要記得要用個命名物件去接，儲存的型別為字串\n",
    "- 小於等於是`<=`符號、大於是`>`符號"
   ]
  },
  {
   "cell_type": "markdown",
   "metadata": {
    "slideshow": {
     "slide_type": "notes"
    }
   },
   "source": [
    "``` python\n",
    "# 21 00 21 15 13 => True\n",
    "# 20 55 21 12 20 => False\n",
    "now_hour = int(input())\n",
    "now_mins = int(input())\n",
    "bus_hour = int(input())\n",
    "bus_mins = int(input())\n",
    "time = int(input())\n",
    "print(((now_hour*60+now_mins)+time)<=(bus_hour*60+bus_mins))\n",
    "```"
   ]
  }
 ],
 "metadata": {
  "celltoolbar": "Slideshow",
  "kernelspec": {
   "display_name": "Python 3",
   "language": "python",
   "name": "python3"
  },
  "language_info": {
   "codemirror_mode": {
    "name": "ipython",
    "version": 3
   },
   "file_extension": ".py",
   "mimetype": "text/x-python",
   "name": "python",
   "nbconvert_exporter": "python",
   "pygments_lexer": "ipython3",
   "version": "3.6.3"
  }
 },
 "nbformat": 4,
 "nbformat_minor": 1
}
