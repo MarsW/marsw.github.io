{
 "cells": [
  {
   "cell_type": "markdown",
   "metadata": {
    "slideshow": {
     "slide_type": "slide"
    }
   },
   "source": [
    "# 02 - 判斷式\n",
    "- if/elif/else\n",
    "- 運算優先順序\n",
    "- 更多判斷式使用情境 "
   ]
  },
  {
   "cell_type": "markdown",
   "metadata": {
    "slideshow": {
     "slide_type": "slide"
    }
   },
   "source": [
    "# if/elif/else"
   ]
  },
  {
   "cell_type": "markdown",
   "metadata": {
    "slideshow": {
     "slide_type": "subslide"
    }
   },
   "source": [
    "```\n",
    "if 布林型別:\n",
    "    如果布林型別==True，就做這裡面的事情\n",
    "```\n",
    "\n",
    "if是判斷式必備的：\n",
    "- if：一種選項，滿足條件，才執行某動作\n",
    "- elif：有更多條件，滿足的話執行某動作，須伴隨if存在\n",
    "- else：當以上條件都不滿足，執行某動作，須伴隨if存在"
   ]
  },
  {
   "cell_type": "code",
   "execution_count": 1,
   "metadata": {},
   "outputs": [
    {
     "name": "stdout",
     "output_type": "stream",
     "text": [
      "及格\n"
     ]
    }
   ],
   "source": [
    "# 基本的判斷式是由 if 構成\n",
    "a = 61\n",
    "if a>=60:\n",
    "    print (\"及格\")"
   ]
  },
  {
   "cell_type": "code",
   "execution_count": 2,
   "metadata": {
    "collapsed": true
   },
   "outputs": [],
   "source": [
    "# 不符合條件，因此什麼都沒有印出\n",
    "a = 58\n",
    "if a>=60:\n",
    "    print (\"及格\")"
   ]
  },
  {
   "cell_type": "code",
   "execution_count": 3,
   "metadata": {},
   "outputs": [
    {
     "name": "stdout",
     "output_type": "stream",
     "text": [
      "不及格\n"
     ]
    }
   ],
   "source": [
    "# 如果希望處理判斷條件之外的狀況，可以用else\n",
    "a = 58\n",
    "if a>=60:\n",
    "    print (\"及格\")\n",
    "else:\n",
    "    print (\"不及格\")"
   ]
  },
  {
   "cell_type": "markdown",
   "metadata": {},
   "source": [
    "Python是靠「縮排」(四個空格)，來斷定程式碼屬於那一個區塊。  \n",
    "if/else 後面記得要有冒號:"
   ]
  },
  {
   "cell_type": "code",
   "execution_count": 4,
   "metadata": {
    "scrolled": true,
    "slideshow": {
     "slide_type": "subslide"
    }
   },
   "outputs": [
    {
     "name": "stdout",
     "output_type": "stream",
     "text": [
      "a=11｜b=8\n",
      "a>b\n",
      "這是判斷式外的區塊\n"
     ]
    }
   ],
   "source": [
    "a = 11\n",
    "b = 8\n",
    "if a>b:\n",
    "    print(\"a={}｜b={}\".format(a,b))\n",
    "    print(\"a>b\")\n",
    "elif a<b:\n",
    "    print(\"a={}，b={}\".format(a,b))\n",
    "    print(\"a<b\")\n",
    "else:\n",
    "    print(\"a={}、b={}\".format(a,b))\n",
    "    print(\"a<=b\")\n",
    "print (\"這是判斷式外的區塊\")"
   ]
  },
  {
   "cell_type": "markdown",
   "metadata": {
    "slideshow": {
     "slide_type": "-"
    }
   },
   "source": [
    "如果有很多個條件，一個 if 不夠用，可以用 elif\n",
    "### !注意\n",
    "- Python是靠「縮排」(四個空格)，來斷定程式碼屬於那一個區塊\n",
    "- if/elif/else 後面記得都要有冒號:"
   ]
  },
  {
   "cell_type": "code",
   "execution_count": 5,
   "metadata": {
    "scrolled": false,
    "slideshow": {
     "slide_type": "subslide"
    }
   },
   "outputs": [
    {
     "name": "stdout",
     "output_type": "stream",
     "text": [
      "a>b\n"
     ]
    }
   ],
   "source": [
    "a = 11\n",
    "b = 8\n",
    "# 第1組判斷式\n",
    "if a%2==0:\n",
    "    print(\"a is even\")\n",
    "# 第2組判斷式\n",
    "if a>b:\n",
    "    print(\"a>b\")\n",
    "elif a<b:\n",
    "    print(\"a<b\")\n",
    "else:\n",
    "    print(\"a==b\")"
   ]
  },
  {
   "cell_type": "markdown",
   "metadata": {},
   "source": [
    "- 一個 `if` 就是一組判斷式\n",
    "- 兩組判斷式是不互相影響的\n",
    "    - 如果 `a = 11, b = 8` ，  \n",
    "        第1組判斷式沒有符合任何條件就什麼事都不會做，  \n",
    "        第2組判斷式會印出「`a>b`」，不受到第1組判斷式任何結果的影響\n",
    "    - 如果 `a =  6, b = 8` ，  \n",
    "         第1組判斷式會印出 「`a is even`」，  \n",
    "         第2組判斷式會印出 「`a<b`」"
   ]
  },
  {
   "cell_type": "markdown",
   "metadata": {
    "slideshow": {
     "slide_type": "subslide"
    }
   },
   "source": [
    "### 想想看\n",
    "以下狀況是要用幾組判斷式呢？\n",
    "- 聊天機器人、Siri...\n",
    "- 商店打折可以共用優惠的..."
   ]
  },
  {
   "cell_type": "code",
   "execution_count": 6,
   "metadata": {
    "slideshow": {
     "slide_type": "subslide"
    }
   },
   "outputs": [
    {
     "name": "stdout",
     "output_type": "stream",
     "text": [
      "建議你可以吃??\n"
     ]
    }
   ],
   "source": [
    "keyword = \"我想吃飯\"\n",
    "\n",
    "if keyword==\"我想吃飯\":\n",
    "    print(\"建議你可以吃??\")\n",
    "    \n",
    "elif keyword==\"天氣如何\":\n",
    "    print(\"今天的天氣...\")\n",
    "    \n",
    "elif keyword==\"7-11\":\n",
    "    print(\"最近的7-11在oo\")\n",
    "    \n",
    "else:\n",
    "    print(\"我聽不懂你在說什麼\")"
   ]
  },
  {
   "cell_type": "markdown",
   "metadata": {},
   "source": [
    "如果有很多個條件，一個if不夠用，可以用elif，  \n",
    "一個elif不夠用，可以繼續用很多個elif"
   ]
  },
  {
   "cell_type": "markdown",
   "metadata": {
    "slideshow": {
     "slide_type": "fragment"
    }
   },
   "source": [
    "應該沒有看過Siri回答你今天天氣之後，又說我聽不懂你在說什麼吧？  "
   ]
  },
  {
   "cell_type": "code",
   "execution_count": 7,
   "metadata": {
    "slideshow": {
     "slide_type": "subslide"
    }
   },
   "outputs": [
    {
     "name": "stdout",
     "output_type": "stream",
     "text": [
      "900\n",
      "購物袋\n"
     ]
    }
   ],
   "source": [
    "cost = 1000\n",
    "gift = \"\"\n",
    "# 第1組判斷式\n",
    "if cost>=500:   # 滿500，送購物袋\n",
    "    gift = gift+\"購物袋\"\n",
    "# 第2組判斷式\n",
    "if cost>=1000:  # 滿1000折100\n",
    "    cost = cost-100\n",
    "print(cost)\n",
    "print(gift)"
   ]
  },
  {
   "cell_type": "markdown",
   "metadata": {
    "slideshow": {
     "slide_type": "subslide"
    }
   },
   "source": [
    "### [練習]\n",
    "請寫一個會打招呼的門禁系統：  \n",
    "如果現在的時間 \"2203\"\n",
    "- 超過晚上10點，會說兩句話「現在很晚了」、「怎麼還在外面遊蕩」\n",
    "- 先不要理會凌晨時間\n",
    "\n",
    "#### Hint:\n",
    "- 記得把字串轉成數字才能比較"
   ]
  },
  {
   "cell_type": "markdown",
   "metadata": {
    "slideshow": {
     "slide_type": "fragment"
    }
   },
   "source": [
    "``` python\n",
    "time = \"2205\"\n",
    "if _____(time) > _____(\"2200\"):\n",
    "    _____\n",
    "    _____\n",
    "```"
   ]
  },
  {
   "cell_type": "markdown",
   "metadata": {
    "slideshow": {
     "slide_type": "notes"
    }
   },
   "source": [
    "``` python\n",
    "time = \"2205\"\n",
    "if int(time) > int(\"2200\"):\n",
    "    print(\"現在很晚了\")\n",
    "    print(\"怎麼還在外面遊蕩\")\n",
    "```"
   ]
  },
  {
   "cell_type": "markdown",
   "metadata": {
    "slideshow": {
     "slide_type": "subslide"
    }
   },
   "source": [
    "#### 進階挑戰\n",
    "如果現在還要加進判斷凌晨5點之前也說同樣的話呢？"
   ]
  },
  {
   "cell_type": "markdown",
   "metadata": {
    "slideshow": {
     "slide_type": "fragment"
    }
   },
   "source": [
    "- 可以用 `if` / `elif`\n",
    "- 可以用 `or` "
   ]
  },
  {
   "cell_type": "markdown",
   "metadata": {
    "slideshow": {
     "slide_type": "slide"
    }
   },
   "source": [
    "# 運算優先順序"
   ]
  },
  {
   "cell_type": "markdown",
   "metadata": {
    "slideshow": {
     "slide_type": "subslide"
    }
   },
   "source": [
    "#### 越上面越優先\n",
    "<table align=\"left\">\n",
    "    <tr>\n",
    "        <td>[a,b,c]</td>\n",
    "        <td>字串轉換、串列、tuple、字典、集合</td>\n",
    "    </tr>\n",
    "    <tr>\n",
    "        <td>x[index], x[i1:i2], x(parameter), x.attr </td>\n",
    "        <td>索引、切片、函式呼叫、存取屬性項</td>\n",
    "    </tr>\n",
    "    <tr>\n",
    "        <td>**</td>\n",
    "        <td>次方</td>\n",
    "    </tr>\n",
    "    <tr>\n",
    "        <td>+x, -x, ~x</td>\n",
    "        <td>正數、負數、位元NOT運算</td>\n",
    "    </tr>\n",
    "    <tr>\n",
    "        <td>*, /, //, % </td>\n",
    "        <td>乘法、除法、餘數、字串格式化</td>\n",
    "    </tr>\n",
    "    <tr>\n",
    "        <td>+, -</td>\n",
    "        <td>加法、減法</td>\n",
    "    </tr>\n",
    "    <tr>\n",
    "        <td> >>, << </td>\n",
    "        <td>位元位移運算</td>\n",
    "    </tr>\n",
    "    <tr>\n",
    "        <td>&</td>\n",
    "        <td>位元AND運算</td>\n",
    "    </tr>\n",
    "    <tr>\n",
    "        <td>^</td>\n",
    "        <td>位元XOR運算</td>\n",
    "    </tr>\n",
    "    <tr>\n",
    "        <td>|</td>\n",
    "        <td>位元OR運算</td>\n",
    "    </tr>\n",
    "    <tr>\n",
    "        <td>in, is, <, ==, > </td>\n",
    "        <td>比較運算</td>\n",
    "    </tr>\n",
    "    <tr>\n",
    "        <td>not x </td>\n",
    "        <td>布林NOT邏輯運算</td>\n",
    "    </tr>\n",
    "    <tr>\n",
    "        <td>and</td>\n",
    "        <td>布林AND邏輯運算</td>\n",
    "    </tr>\n",
    "    <tr>\n",
    "        <td>or</td>\n",
    "        <td>布林OR邏輯運算</td>\n",
    "    </tr>\n",
    "    <tr>\n",
    "        <td>if/else</td>\n",
    "        <td>條件運算式</td>\n",
    "    </tr>\n",
    "    <tr>\n",
    "        <td>lambda</td>\n",
    "        <td>lambda運算式</td>\n",
    "    </tr>\n",
    "</table>"
   ]
  },
  {
   "cell_type": "code",
   "execution_count": 8,
   "metadata": {
    "slideshow": {
     "slide_type": "subslide"
    }
   },
   "outputs": [
    {
     "name": "stdout",
     "output_type": "stream",
     "text": [
      "19.0\n"
     ]
    }
   ],
   "source": [
    "print(3+5*4-8/2)"
   ]
  },
  {
   "cell_type": "code",
   "execution_count": 9,
   "metadata": {},
   "outputs": [
    {
     "name": "stdout",
     "output_type": "stream",
     "text": [
      "1\n"
     ]
    }
   ],
   "source": [
    "a=5\n",
    "b=5\n",
    "c=2\n",
    "# (c==3) or (a==b and (not a==3)) or (b==4)\n",
    "if c==3 or a==b and not a==3 or b==4: \n",
    "    print (\"1\")\n",
    "else:\n",
    "    print (\"2\")"
   ]
  },
  {
   "cell_type": "markdown",
   "metadata": {},
   "source": [
    "### !建議\n",
    "可以用()來方便閱讀，也能確保自己的想法是正確的\n",
    "- `(c==3) or (a==b and (not a==3)) or (b==4)`\n",
    "- `((c==3) or (a==b)) and ((not a==3) or (b==4))`"
   ]
  },
  {
   "cell_type": "markdown",
   "metadata": {
    "slideshow": {
     "slide_type": "subslide"
    }
   },
   "source": [
    "### [練習] - 判斷是否為閏年\n",
    "- 西元年份可被400整除\n",
    "- 西元年份可被4整除，但不能被100整除\n",
    "- 西元2000年、2060年都是閏年，但1900、2057不是"
   ]
  },
  {
   "cell_type": "markdown",
   "metadata": {
    "slideshow": {
     "slide_type": "fragment"
    }
   },
   "source": [
    "\n",
    "#### Hint:\n",
    "- 版本1\n",
    "``` python\n",
    "year = 2060\n",
    "if \"西元年份可被400整除\":\n",
    "    print(\"{}是閏年\".format(year))\n",
    "elif \"西元年份可被4整除\" or/and/not? \"不能被100整除\":\n",
    "    print(\"{}是閏年\".format(year))\n",
    "```\n",
    "- 版本2\n",
    "``` python\n",
    "year = 2060\n",
    "if (\"西元年份可被400整除\") or/and/not? (\"西元年份可被4整除\" or/and/not? \"不能被100整除\"):\n",
    "    print(\"{}是閏年\".format(year))\n",
    "```"
   ]
  },
  {
   "cell_type": "markdown",
   "metadata": {
    "slideshow": {
     "slide_type": "notes"
    }
   },
   "source": [
    "- 版本1\n",
    "``` python\n",
    "year = 2060\n",
    "if year%400==0:\n",
    "    print(\"{}是閏年\".format(year))\n",
    "elif year%4==0 and year%100!=0:\n",
    "    print(\"{}是閏年\".format(year))\n",
    "```\n",
    "- 版本2\n",
    "``` python\n",
    "year = 2060\n",
    "if (year%400==0) or (year%4==0 and year%100!=0):\n",
    "    print(\"{}是閏年\".format(year))\n",
    "```"
   ]
  },
  {
   "cell_type": "markdown",
   "metadata": {
    "slideshow": {
     "slide_type": "slide"
    }
   },
   "source": [
    "# 更多判斷式使用情境 "
   ]
  },
  {
   "cell_type": "markdown",
   "metadata": {
    "slideshow": {
     "slide_type": "subslide"
    }
   },
   "source": [
    "### [練習] - 棄保效應\n",
    "台灣的選舉法令禁止各陣營及媒體在投票日前的一個星期內公佈民調結果，其中最重要的一個因素是要避免「棄保效應」。  \n",
    "所謂的「棄保效應」是指選民在得知自己所支持的候選人當選無望時，有可能會把票投給其他比較可能當選的人，以免浪費了自己的一票。  \n",
    "假設某選舉有三位候選人來競選一個職位，在「棄保效應」發揮到極致的情形下，所有民調第三名的候選人的支持者都會把票投民調第二名的候選人，也就是他們都會「棄三保二」。給你 A, B, C 三個候選人的支持者人數，請判斷誰會當選？(不考慮支持數一樣)  \n",
    "\n",
    "我們先試試，A,B 候選人的支持數都比 C 候選人低 (`a+b<c`) 的情況：\n",
    "- a=3, b=4, c=5 => b\n",
    "- a=1, b=3, c=5 => c"
   ]
  },
  {
   "cell_type": "markdown",
   "metadata": {
    "slideshow": {
     "slide_type": "subslide"
    }
   },
   "source": [
    "#### Hint:\n",
    "- 如果 (第二三名支持總票數) < 第一名 => 第一名\n",
    "- 如果 (第二三名支持總票數) > 第一名 \n",
    "    - 判斷誰是第二名 "
   ]
  },
  {
   "cell_type": "markdown",
   "metadata": {
    "slideshow": {
     "slide_type": "fragment"
    }
   },
   "source": [
    "- 如果 a+b < c => c 當選\n",
    "- 如果 a+b > c \n",
    "    - a > b => a 當選\n",
    "    - a < b => b 當選"
   ]
  },
  {
   "cell_type": "markdown",
   "metadata": {
    "slideshow": {
     "slide_type": "fragment"
    }
   },
   "source": [
    "``` python\n",
    "a=3\n",
    "b=4\n",
    "c=5\n",
    "\n",
    "if ____:\n",
    "    if ____:\n",
    "        print(\"a\")\n",
    "    else:\n",
    "        print(\"b\")\n",
    "else:\n",
    "    print(\"c\")\n",
    "```"
   ]
  },
  {
   "cell_type": "markdown",
   "metadata": {
    "slideshow": {
     "slide_type": "notes"
    }
   },
   "source": [
    "``` python\n",
    "a=3\n",
    "b=4\n",
    "c=5\n",
    "\n",
    "if a+b>c:\n",
    "    if a>b:\n",
    "        print(\"a\")\n",
    "    else:\n",
    "        print(\"b\")\n",
    "else:\n",
    "    print(\"c\")\n",
    "```"
   ]
  },
  {
   "cell_type": "markdown",
   "metadata": {
    "slideshow": {
     "slide_type": "subslide"
    }
   },
   "source": [
    "## 範圍轉換\n",
    "遊戲中的角色能力值想從 0~255 轉換到 0~100：\n",
    "- 能力良好：200-255 vs. 85-100\n",
    "- 能力差勁：0-130 vs. 0-60\n",
    "\n",
    "### 在做資料視覺化也有可能會把0~n的數值轉換成色碼表示！"
   ]
  },
  {
   "cell_type": "code",
   "execution_count": 10,
   "metadata": {
    "slideshow": {
     "slide_type": "-"
    }
   },
   "outputs": [
    {
     "name": "stdout",
     "output_type": "stream",
     "text": [
      "58\n"
     ]
    }
   ],
   "source": [
    "origin = 127\n",
    "new = 0\n",
    "if origin<=130:\n",
    "    new = ((origin-0)*(60-0)/(130-0))+0\n",
    "elif origin>=200:\n",
    "    new = ((origin-200)*(100-85)/(255-200))+85\n",
    "else:\n",
    "    new = ((origin-130)*(85-60)/(200-130))+60\n",
    "print(int(new))"
   ]
  },
  {
   "cell_type": "markdown",
   "metadata": {
    "slideshow": {
     "slide_type": "subslide"
    }
   },
   "source": [
    "## 還有好多例子\n",
    "- 電梯只停某些樓層、上下層都有人往上還往下？\n",
    "- Alphago 下棋\n",
    "- 飲料販賣機\n",
    "- 球場上的鷹眼\n",
    "- ..."
   ]
  },
  {
   "cell_type": "markdown",
   "metadata": {
    "slideshow": {
     "slide_type": "fragment"
    }
   },
   "source": [
    "### 會發覺程式中幾乎都有「判斷式」的身影！！！"
   ]
  },
  {
   "cell_type": "markdown",
   "metadata": {
    "slideshow": {
     "slide_type": "fragment"
    }
   },
   "source": [
    "其實我們生活中每天也都在用到判斷式：要不要再賴床一下、等下晚餐要吃什麼..."
   ]
  }
 ],
 "metadata": {
  "celltoolbar": "Slideshow",
  "kernelspec": {
   "display_name": "Python 3",
   "language": "python",
   "name": "python3"
  },
  "language_info": {
   "codemirror_mode": {
    "name": "ipython",
    "version": 3
   },
   "file_extension": ".py",
   "mimetype": "text/x-python",
   "name": "python",
   "nbconvert_exporter": "python",
   "pygments_lexer": "ipython3",
   "version": "3.6.3"
  }
 },
 "nbformat": 4,
 "nbformat_minor": 1
}
