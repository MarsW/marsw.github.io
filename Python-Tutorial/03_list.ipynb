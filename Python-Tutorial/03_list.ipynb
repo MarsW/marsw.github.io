{
 "cells": [
  {
   "cell_type": "markdown",
   "metadata": {
    "slideshow": {
     "slide_type": "slide"
    }
   },
   "source": [
    "# 03 - 串列\n",
    "- 序列型別\n",
    "- 可變與不可變\n",
    "- 序列共同介面\n",
    "- 序列的應用\n",
    "- 附錄-進階練習"
   ]
  },
  {
   "cell_type": "markdown",
   "metadata": {
    "slideshow": {
     "slide_type": "slide"
    }
   },
   "source": [
    "# 序列型別\n",
    "常見序列型別的有字串(string)、串列(list)\n",
    "<img src=\"https://upload.wikimedia.org/wikipedia/commons/8/86/BNSF_5350_20040808_Prairie_du_Chien_WI.jpg\" width=\"80%\"/>\n",
    "<center>來源：wiki</center>"
   ]
  },
  {
   "cell_type": "markdown",
   "metadata": {
    "slideshow": {
     "slide_type": "subslide"
    }
   },
   "source": [
    "## 串列(list)\n",
    "- 可以直接給定有值的串列\n",
    "- 也可以給空串列\n",
    "- 可以相+、相*\n",
    "\n",
    "### !注意\n",
    "- 串列的組成可以不必都是同樣類型的元素"
   ]
  },
  {
   "cell_type": "code",
   "execution_count": 1,
   "metadata": {
    "slideshow": {
     "slide_type": "-"
    }
   },
   "outputs": [
    {
     "name": "stdout",
     "output_type": "stream",
     "text": [
      "['a', 2016, 5566, 'PyLadies'] True\n",
      "[] False\n",
      "['a', 2016, 5566, 'PyLadies', 2016, 2016.0]\n",
      "[1, 2, 3, 1, 2, 3, 1, 2, 3]\n"
     ]
    }
   ],
   "source": [
    "my_list1 = [\"a\",2016,5566,\"PyLadies\"]\n",
    "my_list2 = []\n",
    "my_list3 = my_list1+[2016,2016.0]\n",
    "my_list4 = [1,2,3]*3\n",
    "print (my_list1,bool(my_list1))\n",
    "print (my_list2,bool(my_list2))\n",
    "print (my_list3)\n",
    "print (my_list4)"
   ]
  },
  {
   "cell_type": "markdown",
   "metadata": {
    "slideshow": {
     "slide_type": "subslide"
    }
   },
   "source": [
    "## 存取串列元素\n",
    "- `my_list[i]`：取得索引(index)在i的元素\n",
    "- 索引可以是負數，如果是索引為`-i`，會被當作拿取索引為「`串列長度-i`」的元素\n",
    "\n",
    "### !注意\n",
    "- Python 是從0開始數"
   ]
  },
  {
   "cell_type": "code",
   "execution_count": 2,
   "metadata": {},
   "outputs": [
    {
     "name": "stdout",
     "output_type": "stream",
     "text": [
      "The 4th  element PyLadies\n",
      "The last element 2016.0\n",
      "The second-last element 2016\n"
     ]
    }
   ],
   "source": [
    "# 索引值     0 , 1  ,  2 ,    3     ,  4 ,  5   \n",
    "my_list = [\"a\",2016,5566,\"PyLadies\",2016,2016.0] # 這是一個長度為6的串列\n",
    "print (\"The 4th  element\",my_list[3])\n",
    "print (\"The last element\",my_list[-1])           # 等同於拿取索引=6-1=5的元素\n",
    "print (\"The second-last element\",my_list[-2])    # 等同於拿取索引=6-2=4的元素"
   ]
  },
  {
   "cell_type": "code",
   "execution_count": 3,
   "metadata": {},
   "outputs": [
    {
     "name": "stdout",
     "output_type": "stream",
     "text": [
      "2016\n",
      "['a', 2016, 2017, 'PyLadies', 2016, 2016.0]\n"
     ]
    }
   ],
   "source": [
    "my_list = [\"a\",2016,5566,\"PyLadies\",2016,2016.0]\n",
    "b = my_list[1]\n",
    "my_list[2] = 2017\n",
    "print(b)\n",
    "print(my_list)"
   ]
  },
  {
   "cell_type": "markdown",
   "metadata": {
    "slideshow": {
     "slide_type": "subslide"
    }
   },
   "source": [
    "## 「字串」跟「串列」很像\n",
    "- 字串的每個元素都是一個字元(字母或符號)\n",
    "- 用同樣的方式存取元素"
   ]
  },
  {
   "cell_type": "code",
   "execution_count": 4,
   "metadata": {
    "scrolled": false,
    "slideshow": {
     "slide_type": "-"
    }
   },
   "outputs": [
    {
     "name": "stdout",
     "output_type": "stream",
     "text": [
      "The 1st  element of my_string =  P\n",
      "The 8th  element of my_string =  s\n",
      "The last element of my_string =  n\n"
     ]
    }
   ],
   "source": [
    "my_string = \"PyLadies Taiwan\"\n",
    "print (\"The 1st  element of my_string = \",my_string[0])\n",
    "print (\"The 8th  element of my_string = \",my_string[7])\n",
    "print (\"The last element of my_string = \",my_string[-1]) "
   ]
  },
  {
   "cell_type": "markdown",
   "metadata": {},
   "source": [
    "### !注意\n",
    "- 索引不能超過界線"
   ]
  },
  {
   "cell_type": "code",
   "execution_count": 5,
   "metadata": {
    "scrolled": false
   },
   "outputs": [
    {
     "ename": "IndexError",
     "evalue": "string index out of range",
     "output_type": "error",
     "traceback": [
      "\u001b[0;31m---------------------------------------------------------------------------\u001b[0m",
      "\u001b[0;31mIndexError\u001b[0m                                Traceback (most recent call last)",
      "\u001b[0;32m<ipython-input-5-071b8d4e8c76>\u001b[0m in \u001b[0;36m<module>\u001b[0;34m()\u001b[0m\n\u001b[0;32m----> 1\u001b[0;31m \u001b[0mprint\u001b[0m\u001b[0;34m(\u001b[0m\u001b[0mmy_string\u001b[0m\u001b[0;34m[\u001b[0m\u001b[0;36m20\u001b[0m\u001b[0;34m]\u001b[0m\u001b[0;34m)\u001b[0m\u001b[0;34m\u001b[0m\u001b[0m\n\u001b[0m",
      "\u001b[0;31mIndexError\u001b[0m: string index out of range"
     ]
    }
   ],
   "source": [
    "print(my_string[20])"
   ]
  },
  {
   "cell_type": "markdown",
   "metadata": {
    "slideshow": {
     "slide_type": "subslide"
    }
   },
   "source": [
    "### [練習]\n",
    "這裡有一群按照身高排序的人，可以告訴我最高和最矮差了幾公分嗎？  \n",
    "(請不要直接 `print(192-145)，試試看剛才學的串列取值`)\n",
    "``` python\n",
    "people = [145,148,151,153,158,161,163,164,166,168,170,172,175,192]\n",
    "```"
   ]
  },
  {
   "cell_type": "markdown",
   "metadata": {
    "slideshow": {
     "slide_type": "fragment"
    }
   },
   "source": [
    "#### Hint:\n",
    "- 因為身高是有排序過的，最矮是第一個元素，最高是最後一個   \n",
    "  => 最後一個減第一個"
   ]
  },
  {
   "cell_type": "markdown",
   "metadata": {
    "slideshow": {
     "slide_type": "notes"
    }
   },
   "source": [
    "``` python\n",
    "people = [145,148,151,153,158,161,163,164,166,168,170,172,175,192]\n",
    "print(people[-1]-people[0])\n",
    "```"
   ]
  },
  {
   "cell_type": "markdown",
   "metadata": {
    "slideshow": {
     "slide_type": "slide"
    }
   },
   "source": [
    "# 可變與不可變\n",
    "`int`、`float`、`str`、是不可變(immutable)物件，在建立之後就不能更改他的值，  \n",
    "而`list`是可變(mutable)物件。\n",
    "\n",
    "### !注意\n",
    "以下這段程式碼，是讓`a`這個名稱，指向別的物件，  \n",
    "也就是把標籤撕下來貼到別人身上，並不是更改`a`的值喔！\n",
    "```python\n",
    "a = 3  \n",
    "a = 4 \n",
    "```\n",
    "原先的3這個物件，如果沒有其他名稱指到他，就會成為垃圾，被系統回收。"
   ]
  },
  {
   "cell_type": "markdown",
   "metadata": {
    "slideshow": {
     "slide_type": "subslide"
    }
   },
   "source": [
    "## 判斷是否指向同一個物件\n",
    "- `s is t`、`s is not t`"
   ]
  },
  {
   "cell_type": "code",
   "execution_count": 6,
   "metadata": {
    "scrolled": true
   },
   "outputs": [
    {
     "name": "stdout",
     "output_type": "stream",
     "text": [
      "True True\n",
      "4377921648 4377921648 4377921648\n",
      "False False\n",
      "4377921712 4377921680 4377921648\n"
     ]
    }
   ],
   "source": [
    "a = 3\n",
    "b = 3\n",
    "c = a\n",
    "print(a is b,a is c)\n",
    "print(id(a),id(b),id(c))\n",
    "a += 2  # a = 5\n",
    "b = 4   \n",
    "print(a is b,a is c)\n",
    "print(id(a),id(b),id(c))"
   ]
  },
  {
   "cell_type": "markdown",
   "metadata": {},
   "source": [
    "不可變物件，進行運算、或是重新指向，都是直接指向新的物件。"
   ]
  },
  {
   "cell_type": "code",
   "execution_count": 7,
   "metadata": {
    "slideshow": {
     "slide_type": "subslide"
    }
   },
   "outputs": [
    {
     "name": "stdout",
     "output_type": "stream",
     "text": [
      "True 4427711240 4427711240\n"
     ]
    }
   ],
   "source": [
    "l1 = [\"a\",2016,5566,\"PyLadies\"]\n",
    "l2 = l1\n",
    "print(l1 is l2,id(l1),id(l2))"
   ]
  },
  {
   "cell_type": "code",
   "execution_count": 8,
   "metadata": {
    "scrolled": true
   },
   "outputs": [
    {
     "name": "stdout",
     "output_type": "stream",
     "text": [
      "True 4427711240 4427711240\n",
      "['a', 2016, 5566, 'PyLadies', 'Hi']\n",
      "['a', 2016, 5566, 'PyLadies', 'Hi']\n"
     ]
    }
   ],
   "source": [
    "l1 += [\"Hi\"]\n",
    "print(l1 is l2,id(l1),id(l2))\n",
    "print(l1)\n",
    "print(l2)"
   ]
  },
  {
   "cell_type": "code",
   "execution_count": 9,
   "metadata": {},
   "outputs": [
    {
     "name": "stdout",
     "output_type": "stream",
     "text": [
      "True 4427711240 4427711240\n",
      "['a', 2016, 2017, 'PyLadies', 'Hi']\n",
      "['a', 2016, 2017, 'PyLadies', 'Hi']\n"
     ]
    }
   ],
   "source": [
    "l2[2] = 2017\n",
    "print(l1 is l2,id(l1),id(l2))\n",
    "print(l1)\n",
    "print(l2)"
   ]
  },
  {
   "cell_type": "markdown",
   "metadata": {},
   "source": [
    "### !注意\n",
    "- 可變物件不管怎麼修改，位置還是不會變的\n",
    "- 如果有兩個名稱指向同一個可變物件，物件一修改，  \n",
    "兩個名稱取到的都會是同樣一個修改之後的物件"
   ]
  },
  {
   "cell_type": "markdown",
   "metadata": {
    "slideshow": {
     "slide_type": "slide"
    }
   },
   "source": [
    "# 序列共同介面\n",
    "前面提到的利用 **`序列[索引]`** 存取元素，也是共同介面之一！"
   ]
  },
  {
   "cell_type": "markdown",
   "metadata": {
    "slideshow": {
     "slide_type": "subslide"
    }
   },
   "source": [
    "## 序列長度\n",
    "### `len(s)`"
   ]
  },
  {
   "cell_type": "code",
   "execution_count": 10,
   "metadata": {
    "scrolled": true
   },
   "outputs": [
    {
     "name": "stdout",
     "output_type": "stream",
     "text": [
      "Length of my_string =  15\n",
      "Length of my_list =  6\n"
     ]
    }
   ],
   "source": [
    "my_string = \"PyLadies Taiwan\"\n",
    "my_list = [\"a\",2016,5566,\"PyLadies\",2016,2016.0]\n",
    "print (\"Length of my_string = \",len(my_string))\n",
    "print (\"Length of my_list = \",len(my_list))"
   ]
  },
  {
   "cell_type": "markdown",
   "metadata": {
    "slideshow": {
     "slide_type": "subslide"
    }
   },
   "source": [
    "## 數值計算\n",
    "- **`max(串列)`**：序列中最大值\n",
    "- **`min(串列)`**：序列中最小值\n",
    "- **`sum(串列)`**：序列總和，針對全數字序列才有用"
   ]
  },
  {
   "cell_type": "code",
   "execution_count": 11,
   "metadata": {
    "scrolled": false
   },
   "outputs": [
    {
     "name": "stdout",
     "output_type": "stream",
     "text": [
      "4 1 10.1\n",
      "4 1 10.1\n",
      "y L\n"
     ]
    },
    {
     "ename": "TypeError",
     "evalue": "unsupported operand type(s) for +: 'int' and 'str'",
     "output_type": "error",
     "traceback": [
      "\u001b[0;31m---------------------------------------------------------------------------\u001b[0m",
      "\u001b[0;31mTypeError\u001b[0m                                 Traceback (most recent call last)",
      "\u001b[0;32m<ipython-input-11-b1315ad1dd8c>\u001b[0m in \u001b[0;36m<module>\u001b[0;34m()\u001b[0m\n\u001b[1;32m      5\u001b[0m \u001b[0mprint\u001b[0m\u001b[0;34m(\u001b[0m\u001b[0mmax\u001b[0m\u001b[0;34m(\u001b[0m\u001b[0mt\u001b[0m\u001b[0;34m)\u001b[0m\u001b[0;34m,\u001b[0m\u001b[0mmin\u001b[0m\u001b[0;34m(\u001b[0m\u001b[0mt\u001b[0m\u001b[0;34m)\u001b[0m\u001b[0;34m,\u001b[0m\u001b[0msum\u001b[0m\u001b[0;34m(\u001b[0m\u001b[0mt\u001b[0m\u001b[0;34m)\u001b[0m\u001b[0;34m)\u001b[0m\u001b[0;34m\u001b[0m\u001b[0m\n\u001b[1;32m      6\u001b[0m \u001b[0mprint\u001b[0m\u001b[0;34m(\u001b[0m\u001b[0mmax\u001b[0m\u001b[0;34m(\u001b[0m\u001b[0ms\u001b[0m\u001b[0;34m)\u001b[0m\u001b[0;34m,\u001b[0m\u001b[0mmin\u001b[0m\u001b[0;34m(\u001b[0m\u001b[0ms\u001b[0m\u001b[0;34m)\u001b[0m\u001b[0;34m)\u001b[0m\u001b[0;34m\u001b[0m\u001b[0m\n\u001b[0;32m----> 7\u001b[0;31m \u001b[0mprint\u001b[0m\u001b[0;34m(\u001b[0m\u001b[0msum\u001b[0m\u001b[0;34m(\u001b[0m\u001b[0ms\u001b[0m\u001b[0;34m)\u001b[0m\u001b[0;34m)\u001b[0m\u001b[0;34m\u001b[0m\u001b[0m\n\u001b[0m",
      "\u001b[0;31mTypeError\u001b[0m: unsupported operand type(s) for +: 'int' and 'str'"
     ]
    }
   ],
   "source": [
    "l = [3, 4, 2.1, 1]\n",
    "t = (3, 4, 2.1, 1)\n",
    "s = \"PyLadies\"\n",
    "print(max(l),min(l),sum(l))\n",
    "print(max(t),min(t),sum(t))\n",
    "print(max(s),min(s))\n",
    "print(sum(s))"
   ]
  },
  {
   "cell_type": "markdown",
   "metadata": {
    "slideshow": {
     "slide_type": "subslide"
    }
   },
   "source": [
    "### [練習]\n",
    "統計全班的成績狀況：\n",
    "- 全班最高分與最低分的落差為？ (Ans. 58)\n",
    "- 全班分數的平均為？ (Ans. 71.4285...)\n",
    "\n",
    "``` python\n",
    "score_of_each_student = [85,70,54,87,98,66,40]\n",
    "```"
   ]
  },
  {
   "cell_type": "markdown",
   "metadata": {
    "slideshow": {
     "slide_type": "fragment"
    }
   },
   "source": [
    "#### Hint:\n",
    "- 平均：學生分數總和/學生總數\n",
    "- 總數：序列長度\n",
    "- 最高分：序列最大值\n",
    "- 最低分：序列最小值"
   ]
  },
  {
   "cell_type": "code",
   "execution_count": 12,
   "metadata": {
    "slideshow": {
     "slide_type": "notes"
    }
   },
   "outputs": [
    {
     "name": "stdout",
     "output_type": "stream",
     "text": [
      "全班分數落差為 58\n",
      "全班平均為 71.42857142857143\n"
     ]
    }
   ],
   "source": [
    "score_of_each_student = [85,70,54,87,98,66,40]\n",
    "avg_score = sum(score_of_each_student) / len(score_of_each_student)\n",
    "print (\"全班分數落差為\",max(score_of_each_student)-min(score_of_each_student))\n",
    "print (\"全班平均為\",avg_score)"
   ]
  },
  {
   "cell_type": "markdown",
   "metadata": {
    "slideshow": {
     "slide_type": "subslide"
    }
   },
   "source": [
    "## 判斷序列中是否存在某元素\n",
    "### `x in s`、`x not in s`"
   ]
  },
  {
   "cell_type": "code",
   "execution_count": 13,
   "metadata": {},
   "outputs": [
    {
     "name": "stdout",
     "output_type": "stream",
     "text": [
      "\"PyLadies\" found\n",
      "\"Taiwan\" found\n"
     ]
    }
   ],
   "source": [
    "my_string = \"PyLadies Taiwan\"\n",
    "\n",
    "if \"PyLadies\" in my_string:\n",
    "    print (\"\\\"PyLadies\\\" found\")\n",
    "if \"Python\" in my_string:\n",
    "    print (\"\\\"Python\\\" found\")\n",
    "if \"Taiwan\" in my_string:\n",
    "    print (\"\\\"Taiwan\\\" found\")"
   ]
  },
  {
   "cell_type": "code",
   "execution_count": 14,
   "metadata": {},
   "outputs": [
    {
     "name": "stdout",
     "output_type": "stream",
     "text": [
      "True\n",
      "False\n"
     ]
    }
   ],
   "source": [
    "my_list = [\"a\",2016,5566,\"PyLadies\",2016,2016.0]\n",
    "print(2016 in my_list)\n",
    "print(\"2016\" in my_list)"
   ]
  },
  {
   "cell_type": "markdown",
   "metadata": {
    "slideshow": {
     "slide_type": "subslide"
    }
   },
   "source": [
    "## 序列出現某元素的次數\n",
    "### `s.count(x)`"
   ]
  },
  {
   "cell_type": "code",
   "execution_count": 15,
   "metadata": {
    "slideshow": {
     "slide_type": "-"
    }
   },
   "outputs": [
    {
     "name": "stdout",
     "output_type": "stream",
     "text": [
      "The time 'a' appears in my_string =  3\n",
      "The time '2016' appears in my_string =  3\n"
     ]
    }
   ],
   "source": [
    "my_string = \"PyLadies Taiwan\"\n",
    "my_list = [\"a\",2016,5566,\"PyLadies\",2016,2016.0]\n",
    "print (\"The time 'a' appears in my_string = \",my_string.count('a'))\n",
    "print (\"The time '2016' appears in my_string = \",my_list.count(2016))"
   ]
  },
  {
   "cell_type": "markdown",
   "metadata": {
    "slideshow": {
     "slide_type": "subslide"
    }
   },
   "source": [
    "### 想想看\n",
    "要用什麼序列方法，找出以下這篇文章，出現幾次「in」  \n",
    "``` python\n",
    "article = \"\"\"\n",
    "Bubble tea represents the \"QQ\" food texture that Taiwanese love. \n",
    "The phrase refers to something that is especially chewy, like the tapioca balls that form the 'bubbles' in bubble tea. \n",
    "It's said this unusual drink was invented out of boredom. \n",
    "\"\"\"\n",
    "```"
   ]
  },
  {
   "cell_type": "code",
   "execution_count": 16,
   "metadata": {
    "slideshow": {
     "slide_type": "fragment"
    }
   },
   "outputs": [
    {
     "ename": "NameError",
     "evalue": "name 'article' is not defined",
     "output_type": "error",
     "traceback": [
      "\u001b[0;31m---------------------------------------------------------------------------\u001b[0m",
      "\u001b[0;31mNameError\u001b[0m                                 Traceback (most recent call last)",
      "\u001b[0;32m<ipython-input-16-62027095057c>\u001b[0m in \u001b[0;36m<module>\u001b[0;34m()\u001b[0m\n\u001b[0;32m----> 1\u001b[0;31m \u001b[0mprint\u001b[0m \u001b[0;34m(\u001b[0m\u001b[0marticle\u001b[0m\u001b[0;34m.\u001b[0m\u001b[0mcount\u001b[0m\u001b[0;34m(\u001b[0m\u001b[0;34m\"in\"\u001b[0m\u001b[0;34m)\u001b[0m\u001b[0;34m)\u001b[0m\u001b[0;34m\u001b[0m\u001b[0m\n\u001b[0m",
      "\u001b[0;31mNameError\u001b[0m: name 'article' is not defined"
     ]
    }
   ],
   "source": [
    "print (article.count(\"in\"))"
   ]
  },
  {
   "cell_type": "markdown",
   "metadata": {
    "slideshow": {
     "slide_type": "fragment"
    }
   },
   "source": [
    "「in」的確在文章出現4次：someth\"in\"g、\"in\"、dr\"in\"k、\"in\"vented  \n",
    "但如果我們想要的是代表單字的「in」，就需要把文章分割，再來計算！  "
   ]
  },
  {
   "cell_type": "markdown",
   "metadata": {
    "slideshow": {
     "slide_type": "slide"
    }
   },
   "source": [
    "# 序列的應用"
   ]
  },
  {
   "cell_type": "markdown",
   "metadata": {
    "slideshow": {
     "slide_type": "subslide"
    }
   },
   "source": [
    "## 分割\n",
    "### `串列 = 原字串.split(子字串,最多分割次數)`\n",
    "- 將「原字串」以「子字串」切割，產生一個新的「串列」(不改變原本字串)\n",
    "- 最多分割次數預設為無限"
   ]
  },
  {
   "cell_type": "code",
   "execution_count": 17,
   "metadata": {
    "slideshow": {
     "slide_type": "-"
    }
   },
   "outputs": [
    {
     "name": "stdout",
     "output_type": "stream",
     "text": [
      "['Hi', 'PyLadies', 'Taiwan']\n",
      "['Hi', 'PyLadies Taiwan']\n",
      "Hi PyLadies Taiwan\n",
      "Hi\n",
      "Taiwan\n"
     ]
    }
   ],
   "source": [
    "s = \"Hi PyLadies Taiwan\"\n",
    "l = s.split(\" \")\n",
    "print (l)\n",
    "print (s.split(\" \",1))\n",
    "print (s)\n",
    "print (l[0])\n",
    "print (l[-1])"
   ]
  },
  {
   "cell_type": "markdown",
   "metadata": {
    "slideshow": {
     "slide_type": "subslide"
    }
   },
   "source": [
    "### [練習]\n",
    "所以再想想看要用哪些序列方法，找出以下這篇文章，出現幾次單字「in」\n",
    "- 把文章切割成單字串列 (英文單字間會有一個空白字元)\n",
    "- 算出單字串列中，「in」出現幾次"
   ]
  },
  {
   "cell_type": "code",
   "execution_count": 18,
   "metadata": {
    "collapsed": true
   },
   "outputs": [],
   "source": [
    "article = \"\"\"\n",
    "Bubble tea represents the \"QQ\" food texture that Taiwanese love. \n",
    "The phrase refers to something that is especially chewy, like the tapioca balls that form the 'bubbles' in bubble tea. \n",
    "It's said this unusual drink was invented out of boredom. \n",
    "\"\"\""
   ]
  },
  {
   "cell_type": "code",
   "execution_count": 19,
   "metadata": {
    "slideshow": {
     "slide_type": "notes"
    }
   },
   "outputs": [
    {
     "name": "stdout",
     "output_type": "stream",
     "text": [
      "1\n"
     ]
    }
   ],
   "source": [
    "word_of_article = article.split(\" \")\n",
    "print (word_of_article.count(\"in\"))"
   ]
  },
  {
   "cell_type": "markdown",
   "metadata": {
    "slideshow": {
     "slide_type": "subslide"
    }
   },
   "source": [
    "那這篇文章出現幾次「`tea`」呢？"
   ]
  },
  {
   "cell_type": "code",
   "execution_count": 20,
   "metadata": {
    "collapsed": true
   },
   "outputs": [],
   "source": [
    "article = \"\"\"\n",
    "Bubble tea represents the \"QQ\" food texture that Taiwanese love. \n",
    "The phrase refers to something that is especially chewy, like the tapioca balls that form the 'bubbles' in bubble tea. \n",
    "It's said this unusual drink was invented out of boredom. \n",
    "\"\"\""
   ]
  },
  {
   "cell_type": "code",
   "execution_count": 21,
   "metadata": {
    "slideshow": {
     "slide_type": "notes"
    }
   },
   "outputs": [
    {
     "name": "stdout",
     "output_type": "stream",
     "text": [
      "1\n"
     ]
    }
   ],
   "source": [
    "word_of_article = article.split(\" \")\n",
    "print (word_of_article.count(\"tea\"))"
   ]
  },
  {
   "cell_type": "markdown",
   "metadata": {
    "slideshow": {
     "slide_type": "fragment"
    }
   },
   "source": [
    "可是文章中我們有看到兩次的tea，怎麼只算一次?  \n",
    "原因是因為split之後，是分成「tea」、「tea.」  \n",
    "這兩個是不同的字串，以`count(\"tea\")`來說，就只會算到剛好等於「tea」的字  \n",
    "\n",
    "所以可以先將常用標點符號取代之後再來計算！"
   ]
  },
  {
   "cell_type": "markdown",
   "metadata": {
    "slideshow": {
     "slide_type": "subslide"
    }
   },
   "source": [
    "### [練習]\n",
    "所以再想想看要用哪些序列方法，找出以下這篇文章，出現幾次單字「tea」\n",
    "- 把標點符號取代\n",
    "- 把文章切割成單字\n",
    "- 算出單字中，「tea」出現幾次"
   ]
  },
  {
   "cell_type": "code",
   "execution_count": 22,
   "metadata": {
    "slideshow": {
     "slide_type": "notes"
    }
   },
   "outputs": [
    {
     "name": "stdout",
     "output_type": "stream",
     "text": [
      "2\n"
     ]
    }
   ],
   "source": [
    "clean_article = article\n",
    "clean_article = clean_article.replace(\".\",\"\").replace(\",\",\"\").replace(\":\",\"\")\n",
    "clean_article = clean_article.replace(\"?\",\"\").replace(\"\\\"\",\"\").replace(\"\\'\",\"\")\n",
    "word_of_article = clean_article.split(\" \")\n",
    "print (word_of_article.count(\"tea\"))"
   ]
  },
  {
   "cell_type": "markdown",
   "metadata": {
    "slideshow": {
     "slide_type": "subslide"
    }
   },
   "source": [
    "### 應用情境 - 日期正規化 (年-月-日 時:分:秒)"
   ]
  },
  {
   "cell_type": "code",
   "execution_count": 23,
   "metadata": {},
   "outputs": [
    {
     "name": "stdout",
     "output_type": "stream",
     "text": [
      "2016-10-17 17:00:00\n",
      "2016-10-11 19:55:00\n",
      "2016-10-18 23:22:05\n"
     ]
    }
   ],
   "source": [
    "ebc_datetime = \"2016-10-17 17:00\"\n",
    "back_datetime = \"2016-10-11, 19:55\"\n",
    "ptt_datatime = \"Tue Oct 18 23:22:05 2016\"\n",
    "\n",
    "format_ebc_datetime = ebc_datetime+\":00\"\n",
    "format_back_datetime = back_datetime.replace(\",\",\"\")+\":00\"\n",
    "\n",
    "# ptt\n",
    "ptt_split_list = ptt_datatime.split(\" \")\n",
    "ptt_year = ptt_split_list[-1]\n",
    "ptt_month = ptt_split_list[1].replace(\"Oct\",\"10\")\n",
    "ptt_date = ptt_split_list[2]\n",
    "ptt_time = ptt_split_list[3]\n",
    "format_ptt_datetime = \"{}-{}-{} {}\".format(ptt_year,ptt_month,ptt_date,ptt_time)\n",
    "\n",
    "print (format_ebc_datetime)\n",
    "print (format_back_datetime)\n",
    "print (format_ptt_datetime)"
   ]
  },
  {
   "cell_type": "markdown",
   "metadata": {
    "slideshow": {
     "slide_type": "subslide"
    }
   },
   "source": [
    "同樣道理，  \n",
    "如果是用要用`in`判斷，找「單字」是否存在字串中，  \n",
    "記得先分割成單字的字串才使用"
   ]
  },
  {
   "cell_type": "code",
   "execution_count": 24,
   "metadata": {
    "scrolled": true
   },
   "outputs": [
    {
     "name": "stdout",
     "output_type": "stream",
     "text": [
      "\"Py\" found in my_string\n"
     ]
    }
   ],
   "source": [
    "my_string = \"PyLadies Taiwan\"\n",
    "if \"Py\" in my_string:\n",
    "    print (\"\\\"Py\\\" found in my_string\")\n",
    "\n",
    "my_string_list = my_string.split(\" \")\n",
    "if \"Py\" in my_string_list:\n",
    "    print (\"\\\"Py\\\" found in my_string_list\")"
   ]
  },
  {
   "cell_type": "markdown",
   "metadata": {
    "slideshow": {
     "slide_type": "subslide"
    }
   },
   "source": [
    "### 應用情境 - 日期正規化 (年-月-日 時:分:秒) 24小時制"
   ]
  },
  {
   "cell_type": "code",
   "execution_count": 25,
   "metadata": {},
   "outputs": [
    {
     "name": "stdout",
     "output_type": "stream",
     "text": [
      "2016-10-18 22:33:00\n"
     ]
    }
   ],
   "source": [
    "yahoo_datetime = \"2016年10月18日 下午10:33\"\n",
    "temp_yahoo_date = yahoo_datetime.split(\" \")[0].replace(\"年\",\"-\").replace(\"月\",\"-\")\n",
    "temp_yahoo_date = temp_yahoo_date.replace(\"日\",\"\")\n",
    "temp_yahoo_time = yahoo_datetime.split(\" \")[-1]\n",
    "temp_yahoo_hour = temp_yahoo_time.split(\":\")[0]\n",
    "temp_yahoo_mins = temp_yahoo_time.split(\":\")[-1]\n",
    "\n",
    "if \"下午\" in temp_yahoo_hour:\n",
    "    temp_yahoo_hour_int = int(temp_yahoo_hour.replace(\"下午\",\"\"))+12\n",
    "    temp_yahoo_hour = str(temp_yahoo_hour_int)\n",
    "else:\n",
    "    temp_yahoo_hour_int = int(temp_yahoo_hour.replace(\"上午\",\"\"))\n",
    "    temp_yahoo_hour = str(temp_yahoo_hour_int)\n",
    "\n",
    "format_yahoo_datetime = \"{} {}:{}:00\".format(temp_yahoo_date,temp_yahoo_hour,temp_yahoo_mins)\n",
    "print (format_yahoo_datetime)\n",
    "    "
   ]
  },
  {
   "cell_type": "markdown",
   "metadata": {
    "slideshow": {
     "slide_type": "subslide"
    }
   },
   "source": [
    "## 組合\n",
    "### `字串 = 間隔字串.join(序列)`\n",
    "- 與split分割相反，是將字串串列以某個字串組合起來\n",
    "- 針對全字串串列才有用"
   ]
  },
  {
   "cell_type": "code",
   "execution_count": 26,
   "metadata": {},
   "outputs": [
    {
     "name": "stdout",
     "output_type": "stream",
     "text": [
      "Hello PyLadies Taiwan\n",
      "Hello,.PyLadies,.Taiwan\n",
      "H.i. .P.y.L.a.d.i.e.s\n"
     ]
    }
   ],
   "source": [
    "l = [\"Hello\",\"PyLadies\",\"Taiwan\"]\n",
    "t = (\"Hello\",\"PyLadies\",\"Taiwan\")\n",
    "s = \"Hi PyLadies\"\n",
    "print (\" \".join(l))\n",
    "print (\",.\".join(t))\n",
    "print (\".\".join(s))"
   ]
  },
  {
   "cell_type": "markdown",
   "metadata": {
    "slideshow": {
     "slide_type": "subslide"
    }
   },
   "source": [
    "### 應用情境 - 正規化 (`'人名1','人名2','人名3'`) \n",
    "- 常用在SQL語法"
   ]
  },
  {
   "cell_type": "code",
   "execution_count": 27,
   "metadata": {},
   "outputs": [
    {
     "name": "stdout",
     "output_type": "stream",
     "text": [
      "Kelly','Mars','Maomao\n",
      "('Kelly','Mars','Maomao')\n"
     ]
    }
   ],
   "source": [
    "l = [\"Kelly\",\"Mars\",\"Maomao\"]\n",
    "s = \"','\".join(l)\n",
    "print(s)\n",
    "print(\"('{}')\".format(s))"
   ]
  },
  {
   "cell_type": "markdown",
   "metadata": {
    "slideshow": {
     "slide_type": "slide"
    }
   },
   "source": [
    "### 想想看\n",
    "如果我要算這篇文章，每個單字出現幾次："
   ]
  },
  {
   "cell_type": "code",
   "execution_count": 28,
   "metadata": {},
   "outputs": [
    {
     "name": "stdout",
     "output_type": "stream",
     "text": [
      "Bubble 1\n",
      "tea 1\n",
      "represents 1\n"
     ]
    }
   ],
   "source": [
    "article = \"\"\"Bubble tea represents the \"QQ\" food texture that Taiwanese love. \n",
    "The phrase refers to something that is especially chewy, like the tapioca balls that form the 'bubbles' in bubble tea. \n",
    "It's said this unusual drink was invented out of boredom. \n",
    "\"\"\"\n",
    "word_of_article = article.split(\" \")\n",
    "print(word_of_article[0],word_of_article.count(word_of_article[0]))\n",
    "print(word_of_article[1],word_of_article.count(word_of_article[1]))\n",
    "print(word_of_article[2],word_of_article.count(word_of_article[2]))"
   ]
  },
  {
   "cell_type": "markdown",
   "metadata": {
    "slideshow": {
     "slide_type": "fragment"
    }
   },
   "source": [
    "總不能一個個慢慢寫吧...   \n",
    "下一章節就會教到程式語言中很厲害的技巧：「迴圈」，  \n",
    "在任何程式語言中「串列」+「迴圈」基本上可以解決大部分的問題！"
   ]
  },
  {
   "cell_type": "markdown",
   "metadata": {
    "slideshow": {
     "slide_type": "slide"
    }
   },
   "source": [
    "# 附錄-進階練習\n",
    "### 簡易計算機\n",
    "輸入一行文字，印出計算結果  \n",
    "- 只做加減乘除、次方、餘數\n",
    "- 只會有兩個數字，與一個運算元\n",
    "  \n",
    "ex:\n",
    "- `11+2` -> 13\n",
    "- `2**3` -> 8\n",
    "- `10%3` -> 1"
   ]
  },
  {
   "cell_type": "markdown",
   "metadata": {},
   "source": [
    "#### Hint: \n",
    "``` python\n",
    "keyin = input(\"請輸入您要計算的內容，限二個數字 ex: 2**3\\n\")\n",
    "if \"+\" in keyin:\n",
    "    \"以+號分割字串，從串列中分別取得兩個數字並貼上標籤，印出兩數相加\"\n",
    "elif \"-\" in keyin:\n",
    "    \"以-號分割字串，從串列中分別取得兩個數字並貼上標籤，印出兩數相減\"  \n",
    ".\n",
    ".\n",
    ".\n",
    "```"
   ]
  },
  {
   "cell_type": "markdown",
   "metadata": {
    "slideshow": {
     "slide_type": "notes"
    }
   },
   "source": [
    "``` python\n",
    "keyin = input(\"請輸入您要計算的內容，限二個數字 ex: 2**3\\n\")\n",
    "if \"+\" in keyin:\n",
    "    split_keyin = keyin.split(\"+\")\n",
    "    a = split_keyin[0]\n",
    "    b = split_keyin[-1]\n",
    "    print (keyin,\"=\",int(a)+int(b))\n",
    "elif \"-\" in keyin:\n",
    "    split_keyin = keyin.split(\"-\")\n",
    "    a = split_keyin[0]\n",
    "    b = split_keyin[-1]\n",
    "    print (keyin,\"=\",int(a)-int(b))\n",
    "elif \"**\" in keyin:\n",
    "    split_keyin = keyin.split(\"**\")\n",
    "    a = split_keyin[0]\n",
    "    b = split_keyin[-1]\n",
    "    print (keyin,\"=\",int(a)**int(b))\n",
    "elif \"*\" in keyin:\n",
    "    split_keyin = keyin.split(\"*\")\n",
    "    a = split_keyin[0]\n",
    "    b = split_keyin[-1]\n",
    "    print (keyin,\"=\",int(a)*int(b))\n",
    "elif \"/\" in keyin:\n",
    "    split_keyin = split_keyin.split(\"/\")\n",
    "    a = split_keyin[0]\n",
    "    b = split_keyin[-1]\n",
    "    print (keyin,\"=\",int(a)/int(b))\n",
    "elif \"%\" in keyin:\n",
    "    split_keyin = keyin.split(\"%\")\n",
    "    a = split_keyin[0]\n",
    "    b = split_keyin[-1]\n",
    "    print (keyin,\"=\",int(a)%int(b))\n",
    "```"
   ]
  }
 ],
 "metadata": {
  "celltoolbar": "Slideshow",
  "kernelspec": {
   "display_name": "Python 3",
   "language": "python",
   "name": "python3"
  },
  "language_info": {
   "codemirror_mode": {
    "name": "ipython",
    "version": 3
   },
   "file_extension": ".py",
   "mimetype": "text/x-python",
   "name": "python",
   "nbconvert_exporter": "python",
   "pygments_lexer": "ipython3",
   "version": "3.6.3"
  }
 },
 "nbformat": 4,
 "nbformat_minor": 1
}
