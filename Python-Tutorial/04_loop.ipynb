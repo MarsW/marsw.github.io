{
 "cells": [
  {
   "cell_type": "markdown",
   "metadata": {
    "slideshow": {
     "slide_type": "slide"
    }
   },
   "source": [
    "# 04 - 迴圈\n",
    "- 迴圈與迭代\n",
    "- 產生連續的數組當成索引-range()\n",
    "- 直接對串列做迭代\n",
    "- 串列的增刪\n",
    "- 避免迴圈內原地修改\n",
    "- 補充知識-zip()、enumerate()"
   ]
  },
  {
   "cell_type": "markdown",
   "metadata": {
    "slideshow": {
     "slide_type": "slide"
    }
   },
   "source": [
    "# 迴圈與迭代"
   ]
  },
  {
   "cell_type": "markdown",
   "metadata": {
    "slideshow": {
     "slide_type": "-"
    }
   },
   "source": [
    "迭代是的概念是「一個接著一個處理」，   \n",
    "需要有供給可迭代的物件的提供者，讓接收方一個個處理。\n",
    "\n",
    "序列可以用索引值標示元素的概念，就是很好者提供者，  \n",
    "而處理這些迭代物件的接收方，在Python裡最常用的就是`for`迴圈！  "
   ]
  },
  {
   "cell_type": "markdown",
   "metadata": {
    "slideshow": {
     "slide_type": "subslide"
    }
   },
   "source": [
    "``` python\n",
    "for 命名物件 in 可迭代者:  \n",
    "    重複要做的事\n",
    "```\n",
    "- 字串、串列 都是可迭代者\n",
    "- 命名物件指向每次從可迭代者拿出的元素\n",
    "- 重複要做的事是在迴圈裡面，所以要記得冒號、縮排\n",
    "- 迴圈會取出所有存在可迭代者中的元素：字串的每個字母、串列的每個元素"
   ]
  },
  {
   "cell_type": "markdown",
   "metadata": {
    "slideshow": {
     "slide_type": "-"
    }
   },
   "source": [
    "```python \n",
    "for i in [1,4,7,9]:\n",
    "    print (i)\n",
    "```\n",
    "等同於\n",
    "```python\n",
    "i=1\n",
    "print(i)\n",
    "i=4\n",
    "print(i)\n",
    "i=7\n",
    "print(i)\n",
    "i=9\n",
    "print(i)\n",
    "```\n",
    "for最方便的地方就是會自動拿取可迭代者下一個元素，直到無法拿取為止。  \n",
    "原理：會將可迭代者轉換成迭代器，然後用next方法，呼叫下一個元素。"
   ]
  },
  {
   "cell_type": "markdown",
   "metadata": {
    "slideshow": {
     "slide_type": "subslide"
    }
   },
   "source": [
    "想像我有一個紀錄員工年資的串列，  \n",
    "薪水是依照`年資*100+22000` 的公式去計算"
   ]
  },
  {
   "cell_type": "code",
   "execution_count": 1,
   "metadata": {
    "slideshow": {
     "slide_type": "-"
    }
   },
   "outputs": [
    {
     "name": "stdout",
     "output_type": "stream",
     "text": [
      "員工1的薪水 22550.0\n",
      "員工2的薪水 22900\n",
      "員工3的薪水 23000\n"
     ]
    }
   ],
   "source": [
    "l = [5.5, 9, 10]\n",
    "print(\"員工1的薪水\",l[0]*100+22000)\n",
    "print(\"員工2的薪水\",l[1]*100+22000)\n",
    "print(\"員工3的薪水\",l[2]*100+22000)"
   ]
  },
  {
   "cell_type": "markdown",
   "metadata": {},
   "source": [
    "3個員工，我就要寫3行告訴我各個員工的薪水，那如果有100個員工...   \n",
    "如果有一個紀錄串列各個索引值0~n的資料型別，就會很方便"
   ]
  },
  {
   "cell_type": "markdown",
   "metadata": {
    "slideshow": {
     "slide_type": "slide"
    }
   },
   "source": [
    "# 產生連續的數組當成索引-range()"
   ]
  },
  {
   "cell_type": "markdown",
   "metadata": {
    "slideshow": {
     "slide_type": "subslide"
    }
   },
   "source": [
    "# range(start,end,stride)\n",
    "- range也是一種序列型別，會回傳一系列能迭代的物件，是可迭代者\n",
    "- start 是 inclusive，預設是0開始\n",
    "- end 是 exclusive，<font color=\"red\">必填值</font>\n",
    "- stride 是跳幾次切割，預設是1\n",
    "    - stride 為負值則由尾端向前端取，需讓start>end\n",
    "\n",
    "### 注意!\n",
    "- start > end ，則等同於空\n",
    "- stride 不得為0"
   ]
  },
  {
   "cell_type": "code",
   "execution_count": 2,
   "metadata": {
    "scrolled": false,
    "slideshow": {
     "slide_type": "-"
    }
   },
   "outputs": [
    {
     "name": "stdout",
     "output_type": "stream",
     "text": [
      "range(5)      [0, 1, 2, 3, 4]\n",
      "range(2,5)    [2, 3, 4]\n",
      "range(2,5,2)  [2, 4]\n",
      "range(5,0)    []\n",
      "range(5,0,-1) [5, 4, 3, 2, 1]\n",
      "range(0,5,-1) []\n"
     ]
    }
   ],
   "source": [
    "print('range(5)     ',list(range(5)))     # 只有一個代表end\n",
    "print('range(2,5)   ',list(range(2,5)))\n",
    "print('range(2,5,2) ',list(range(2,5,2)))\n",
    "print('range(5,0)   ',list(range(5,0)))    \n",
    "print('range(5,0,-1)',list(range(5,0,-1))) # 5-1有<0嗎?\n",
    "print('range(0,5,-1)',list(range(0,5,-1))) # 0-1有<5嗎?"
   ]
  },
  {
   "cell_type": "code",
   "execution_count": 3,
   "metadata": {
    "slideshow": {
     "slide_type": "subslide"
    }
   },
   "outputs": [
    {
     "name": "stdout",
     "output_type": "stream",
     "text": [
      "[0, 1, 2]\n",
      "0\n",
      "1\n",
      "2\n"
     ]
    }
   ],
   "source": [
    "print(list(range(3)))\n",
    "for i in range(3):\n",
    "    print(i)"
   ]
  },
  {
   "cell_type": "markdown",
   "metadata": {},
   "source": [
    "配合迴圈，這樣可分別拿到0~2的數值，可以當成串列索引"
   ]
  },
  {
   "cell_type": "code",
   "execution_count": 4,
   "metadata": {},
   "outputs": [
    {
     "name": "stdout",
     "output_type": "stream",
     "text": [
      "員工1的薪水 22550.0\n",
      "員工2的薪水 22900\n",
      "員工3的薪水 23000\n"
     ]
    }
   ],
   "source": [
    "# 土法煉鋼，一個個員工慢慢列\n",
    "l = [5.5, 9, 10]\n",
    "print(\"員工1的薪水\", l[0]*100+22000)\n",
    "print(\"員工2的薪水\", l[1]*100+22000)\n",
    "print(\"員工3的薪水\", l[2]*100+22000)\n",
    "# ..."
   ]
  },
  {
   "cell_type": "code",
   "execution_count": 5,
   "metadata": {
    "scrolled": true
   },
   "outputs": [
    {
     "name": "stdout",
     "output_type": "stream",
     "text": [
      "0 員工1的薪水 22550.0\n",
      "1 員工2的薪水 22900\n",
      "2 員工3的薪水 23000\n"
     ]
    }
   ],
   "source": [
    "# 使用迴圈\n",
    "l = [5.5, 9, 10]\n",
    "for index in range(3):\n",
    "    print(index, \"員工{}的薪水\".format(index+1), l[index]*100+22000)"
   ]
  },
  {
   "cell_type": "markdown",
   "metadata": {
    "slideshow": {
     "slide_type": "subslide"
    }
   },
   "source": [
    "### `range()`更彈性的寫法\n",
    "`range(數值)`中，數值最好保持彈性，  \n",
    "如果寫死，一但串列增加元素，就得記得改值，很是不方便！"
   ]
  },
  {
   "cell_type": "code",
   "execution_count": 6,
   "metadata": {},
   "outputs": [
    {
     "name": "stdout",
     "output_type": "stream",
     "text": [
      "員工1的薪水 22550.0\n",
      "員工2的薪水 22900\n",
      "員工3的薪水 23000\n"
     ]
    }
   ],
   "source": [
    "l = [5.5, 9, 10]\n",
    "for index in range(3):\n",
    "    print(\"員工{}的薪水\".format(index+1), l[index]*100+22000)"
   ]
  },
  {
   "cell_type": "code",
   "execution_count": 7,
   "metadata": {},
   "outputs": [
    {
     "name": "stdout",
     "output_type": "stream",
     "text": [
      "員工1的薪水 22550.0\n",
      "員工2的薪水 22900\n",
      "員工3的薪水 23000\n",
      "員工4的薪水 22230.0\n"
     ]
    }
   ],
   "source": [
    "l = [5.5, 9, 10, 2.3]\n",
    "for index in range(4):\n",
    "    print(\"員工{}的薪水\".format(index+1), l[index]*100+22000)"
   ]
  },
  {
   "cell_type": "code",
   "execution_count": 8,
   "metadata": {
    "scrolled": true
   },
   "outputs": [
    {
     "name": "stdout",
     "output_type": "stream",
     "text": [
      "員工1的薪水 22550.0\n",
      "員工2的薪水 22900\n",
      "員工3的薪水 23000\n",
      "員工4的薪水 22230.0\n"
     ]
    }
   ],
   "source": [
    "l = [5.5, 9, 10, 2.3]\n",
    "for index in range(len(l)): # 串列有多長就用多長\n",
    "    print(\"員工{}的薪水\".format(index+1), l[index]*100+22000)"
   ]
  },
  {
   "cell_type": "markdown",
   "metadata": {
    "slideshow": {
     "slide_type": "subslide"
    }
   },
   "source": [
    "### [練習] 調分公式：開根號(0.5次方)，再乘10\n",
    "有一列學生的成績`l = [32,56,58,62,79,82,98]`，  \n",
    "我希望將學生調分：\n",
    "> 學生1 56.568542494923804  \n",
    "學生2 74.83314773547883  \n",
    "學生3 76.15773105863909  \n",
    "學生4 78.74007874011811  \n",
    "學生5 88.88194417315589  \n",
    "學生6 90.55385138137417  \n",
    "學生7 98.99494936611666  "
   ]
  },
  {
   "cell_type": "markdown",
   "metadata": {
    "slideshow": {
     "slide_type": "fragment"
    }
   },
   "source": [
    "- 使用range()\n",
    "```python\n",
    "l = [32,56,58,62,79,82,98]\n",
    "for index in range(__):\n",
    "    print(\"學生{}\".format(__),___**0.5*10)\n",
    "```"
   ]
  },
  {
   "cell_type": "markdown",
   "metadata": {
    "slideshow": {
     "slide_type": "notes"
    }
   },
   "source": [
    "- 使用range()\n",
    "```python\n",
    "l = [32,56,58,62,79,82,98]\n",
    "for index in range(len(l)):\n",
    "    print(\"學生{}\".format(index+1),l[index]**0.5*10)\n",
    "```"
   ]
  },
  {
   "cell_type": "markdown",
   "metadata": {
    "slideshow": {
     "slide_type": "slide"
    }
   },
   "source": [
    "# 直接對串列做迭代"
   ]
  },
  {
   "cell_type": "markdown",
   "metadata": {
    "slideshow": {
     "slide_type": "subslide"
    }
   },
   "source": [
    "串列也是一個可迭代者，  \n",
    "如果要取所有串列的元素，除了用索引拿取 `range(0,len(串列))`，  \n",
    "也可以直接用for迴圈處理："
   ]
  },
  {
   "cell_type": "code",
   "execution_count": 9,
   "metadata": {
    "scrolled": true
   },
   "outputs": [
    {
     "name": "stdout",
     "output_type": "stream",
     "text": [
      "5.5\n",
      "9\n",
      "10\n"
     ]
    }
   ],
   "source": [
    "l = [5.5, 9, 10]\n",
    "for year in l:\n",
    "    print(year)"
   ]
  },
  {
   "cell_type": "code",
   "execution_count": 10,
   "metadata": {},
   "outputs": [
    {
     "name": "stdout",
     "output_type": "stream",
     "text": [
      "22550.0\n",
      "22900\n",
      "23000\n"
     ]
    }
   ],
   "source": [
    "l = [5.5, 9, 10]\n",
    "for year in l:\n",
    "    print(year*100+22000)"
   ]
  },
  {
   "cell_type": "code",
   "execution_count": 11,
   "metadata": {},
   "outputs": [
    {
     "name": "stdout",
     "output_type": "stream",
     "text": [
      "22550.0\n",
      "22900\n",
      "23000\n"
     ]
    }
   ],
   "source": [
    "# 對比 range() 寫法\n",
    "l = [5.5, 9, 10]\n",
    "for index in range(3):\n",
    "    print(l[index]*100+22000)"
   ]
  },
  {
   "cell_type": "markdown",
   "metadata": {
    "slideshow": {
     "slide_type": "subslide"
    }
   },
   "source": [
    "想要印出第幾位員工，  \n",
    "因為直接用串列當成可迭代者，需要紀錄現在是第幾個索引"
   ]
  },
  {
   "cell_type": "code",
   "execution_count": 12,
   "metadata": {},
   "outputs": [
    {
     "name": "stdout",
     "output_type": "stream",
     "text": [
      "員工1的薪水 22550.0\n",
      "員工2的薪水 22900\n",
      "員工3的薪水 23000\n"
     ]
    }
   ],
   "source": [
    "l = [5.5, 9, 10]\n",
    "count=0 # 紀錄現在的索引\n",
    "for year in l:\n",
    "    print(\"員工{}的薪水\".format(count+1), year*100+22000)\n",
    "    count = count+1 # count+=1 "
   ]
  },
  {
   "cell_type": "code",
   "execution_count": 13,
   "metadata": {
    "scrolled": true
   },
   "outputs": [
    {
     "name": "stdout",
     "output_type": "stream",
     "text": [
      "員工1的薪水 22550.0\n",
      "員工2的薪水 22900\n",
      "員工3的薪水 23000\n"
     ]
    }
   ],
   "source": [
    "# 對比 range() 寫法\n",
    "l = [5.5, 9, 10]\n",
    "for index in range(3):\n",
    "    print(\"員工{}的薪水\".format(index+1), l[index]*100+22000)"
   ]
  },
  {
   "cell_type": "markdown",
   "metadata": {
    "slideshow": {
     "slide_type": "subslide"
    }
   },
   "source": [
    "### [練習] 調分公式：開根號(0.5次方)，再乘10\n",
    "有一列學生的成績`l = [32,56,58,62,79,82,98]`，  \n",
    "我希望將學生調分：\n",
    "> 學生1 56.568542494923804  \n",
    "學生2 74.83314773547883  \n",
    "學生3 76.15773105863909  \n",
    "學生4 78.74007874011811  \n",
    "學生5 88.88194417315589  \n",
    "學生6 90.55385138137417  \n",
    "學生7 98.99494936611666  "
   ]
  },
  {
   "cell_type": "markdown",
   "metadata": {
    "slideshow": {
     "slide_type": "fragment"
    }
   },
   "source": [
    "- 使用串列，配合紀錄現在索引位置的物件\n",
    "```python\n",
    "l = [32,56,58,62,79,82,98]\n",
    "count = 0\n",
    "for score in l:\n",
    "    print(\"學生{}\".format(__),___**0.5*10)\n",
    "    count = _____\n",
    "```"
   ]
  },
  {
   "cell_type": "markdown",
   "metadata": {
    "slideshow": {
     "slide_type": "notes"
    }
   },
   "source": [
    "- 使用串列，配合紀錄現在索引位置的物件\n",
    "```python\n",
    "l = [32,56,58,62,79,82,98]\n",
    "count = 0\n",
    "for score in l:\n",
    "    print(\"學生{}\".format(count+1),score**0.5*10)\n",
    "    count = count+1 # count+=1\n",
    "```"
   ]
  },
  {
   "cell_type": "markdown",
   "metadata": {
    "slideshow": {
     "slide_type": "slide"
    }
   },
   "source": [
    "# 更多練習"
   ]
  },
  {
   "cell_type": "markdown",
   "metadata": {
    "slideshow": {
     "slide_type": "subslide"
    }
   },
   "source": [
    "### [進階練習]\n",
    "延續上題，  \n",
    "我想計算調分之後，班上的總平均：  \n",
    "調分後的加總/學生人數，但要保留原始的成績。"
   ]
  },
  {
   "cell_type": "markdown",
   "metadata": {
    "slideshow": {
     "slide_type": "fragment"
    }
   },
   "source": [
    "#### Hint:\n",
    "- 學生總數不變\n",
    "- 因為原學生成績串列必須保留，所以無法直接用 sum  \n",
    "=> 跟剛才紀錄索引位置的物件一樣，先設定初始值，  \n",
    "然後每次迴圈的時候就加上調分後的成績。  "
   ]
  },
  {
   "cell_type": "markdown",
   "metadata": {
    "slideshow": {
     "slide_type": "subslide"
    }
   },
   "source": [
    "- 使用range()\n",
    "```python\n",
    "l = [32,56,58,62,79,82,98]\n",
    "total_score = 0\n",
    "for index in range(__):\n",
    "    print(\"學生{}\".format(__),___**0.5*10)\n",
    "    total_score += _____\n",
    "print(\"總平均\",total_score/____)\n",
    "```\n",
    "- 使用串列，配合紀錄現在索引位置的物件\n",
    "```python\n",
    "l = [32,56,58,62,79,82,98]\n",
    "total_score = 0\n",
    "count = 0\n",
    "for score in l:\n",
    "    print(\"學生{}\".format(__),___**0.5*10)\n",
    "    count = _____\n",
    "    total_score += _____\n",
    "print(\"總平均\",total_score/____)\n",
    "```"
   ]
  },
  {
   "cell_type": "markdown",
   "metadata": {
    "slideshow": {
     "slide_type": "notes"
    }
   },
   "source": [
    "- 使用range()\n",
    "``` python\n",
    "l = [32,56,58,62,79,82,98]\n",
    "total_score = 0\n",
    "for index in range(len(l)):\n",
    "    print(\"學生{}\".format(index+1),l[index]**0.5*10)\n",
    "    total_score += l[index]**0.5*10\n",
    "print(\"總平均\",total_score/len(l))\n",
    "```\n",
    "- 使用串列，配合紀錄現在索引位置的物件\n",
    "```python\n",
    "l = [32,56,58,62,79,82,98]\n",
    "count = 0\n",
    "total_score = 0\n",
    "for score in l:\n",
    "    print(\"學生{}\".format(count+1),score**0.5*10)\n",
    "    count = count+1 # count+=1\n",
    "    total_score += score**0.5*10\n",
    "print(\"總平均\",total_score/len(l))\n",
    "```"
   ]
  },
  {
   "cell_type": "markdown",
   "metadata": {
    "slideshow": {
     "slide_type": "subslide"
    }
   },
   "source": [
    "### [進階練習]\n",
    "回文是個正念反念都一樣的詞句，試試看要怎麼判斷字串是否為回文，  \n",
    "以下這些都是回文：\n",
    "\n",
    "- race car\n",
    "- amor, roma\n",
    "- 上海自來水來自海上"
   ]
  },
  {
   "cell_type": "markdown",
   "metadata": {
    "slideshow": {
     "slide_type": "fragment"
    }
   },
   "source": [
    "#### Hint:\n",
    "- 會用到迴圈，把字串從尾跑到頭相加起來(由後到前，只能用`range`)\n",
    "- 會用到[判斷式](http://tw.pyladies.com/~marsw/book_basic/basic_01.slides.html#/6)\n",
    "- 想想看有什麼[字串方法](http://tw.pyladies.com/~marsw/book_basic/basic_02.slides.html#/3)可以把空格、標點符號都取代掉"
   ]
  },
  {
   "cell_type": "markdown",
   "metadata": {
    "slideshow": {
     "slide_type": "fragment"
    }
   },
   "source": [
    "``` python\n",
    "s1 = \"上海自來水來自海上\"\n",
    "s1 = s1.replace(___,___) # 可能不只一個\n",
    "s2 = \"\"\n",
    "for index in range(len(s1)__,__,-1):\n",
    "    s2+=s1[index]\n",
    "__ s1==s2:\n",
    "    print(\"是回文\")\n",
    "____:\n",
    "    print(\"不是回文\")\n",
    "```"
   ]
  },
  {
   "cell_type": "markdown",
   "metadata": {
    "slideshow": {
     "slide_type": "notes"
    }
   },
   "source": [
    "```python\n",
    "s1 = \"上海自來水來自海上\"\n",
    "s1 = s1.replace(\" \",\"\").replace(\",\",\"\")\n",
    "s2 = \"\"\n",
    "for index in range(len(s1)-1,-1,-1):\n",
    "    s2+=s1[index]\n",
    "if s1==s2:\n",
    "    print(\"是回文\")\n",
    "else:\n",
    "    print(\"不是回文\")\n",
    "```"
   ]
  },
  {
   "cell_type": "markdown",
   "metadata": {
    "slideshow": {
     "slide_type": "slide"
    }
   },
   "source": [
    "還記得之前算文章某單字出現幾次嗎？  \n",
    "配合迴圈就可以把每個單字拿出來分別算："
   ]
  },
  {
   "cell_type": "code",
   "execution_count": 14,
   "metadata": {
    "slideshow": {
     "slide_type": "-"
    }
   },
   "outputs": [
    {
     "name": "stdout",
     "output_type": "stream",
     "text": [
      "Bubble 1\n",
      "tea 1\n",
      "represents 1\n"
     ]
    }
   ],
   "source": [
    "article = \"\"\"Bubble tea represents the \"QQ\" food texture that Taiwanese love. \n",
    "The phrase refers to something that is especially chewy, like the tapioca balls that form the 'bubbles' in bubble tea. \n",
    "It's said this unusual drink was invented out of boredom. \n",
    "\"\"\"\n",
    "word_list = article.split(\" \")\n",
    "print(word_list[0],word_list.count(word_list[0]))\n",
    "print(word_list[1],word_list.count(word_list[1]))\n",
    "print(word_list[2],word_list.count(word_list[2]))\n",
    "# ....."
   ]
  },
  {
   "cell_type": "markdown",
   "metadata": {
    "scrolled": true
   },
   "source": [
    "``` python\n",
    "for index in range(len(word_list)):\n",
    "    print(word_list[index],word_list.count(word_list[index]))\n",
    "\n",
    "for word in word_list:\n",
    "    print(word,word_list.count(word))\n",
    "```"
   ]
  },
  {
   "cell_type": "markdown",
   "metadata": {
    "slideshow": {
     "slide_type": "slide"
    }
   },
   "source": [
    "# 串列的增刪\n",
    "- 可變序列皆可通用\n",
    "- 會直接改變串列"
   ]
  },
  {
   "cell_type": "markdown",
   "metadata": {
    "slideshow": {
     "slide_type": "subslide"
    }
   },
   "source": [
    "## 增加：把序列的元素加入串列的末端\n",
    "- `串列+=序列`\n",
    "- `串列.extend(物件)`"
   ]
  },
  {
   "cell_type": "code",
   "execution_count": 15,
   "metadata": {},
   "outputs": [
    {
     "name": "stdout",
     "output_type": "stream",
     "text": [
      "[1, 2, 3, 4, 5, 6, 7]\n",
      "[1, 2, 3, 4, 5, 6, 7, 'H', 'i']\n"
     ]
    }
   ],
   "source": [
    "l = [1,2,3,4,5]\n",
    "l+=[6,7]\n",
    "print(l)\n",
    "l+=\"Hi\"\n",
    "print(l)"
   ]
  },
  {
   "cell_type": "markdown",
   "metadata": {
    "slideshow": {
     "slide_type": "subslide"
    }
   },
   "source": [
    "## 增加：把物件加入串列的末端\n",
    "- `串列.append(物件)`"
   ]
  },
  {
   "cell_type": "code",
   "execution_count": 16,
   "metadata": {},
   "outputs": [
    {
     "name": "stdout",
     "output_type": "stream",
     "text": [
      "[1, 2, 3, 4, 5, [6, 7]]\n",
      "[1, 2, 3, 4, 5, [6, 7], 'Hi']\n"
     ]
    }
   ],
   "source": [
    "l = [1,2,3,4,5]\n",
    "l.append([6,7])\n",
    "print(l)\n",
    "l.append(\"Hi\")\n",
    "print(l)"
   ]
  },
  {
   "cell_type": "markdown",
   "metadata": {
    "slideshow": {
     "slide_type": "subslide"
    }
   },
   "source": [
    "### [練習]\n",
    "資料夾 `files` 有一連串檔案，想整理一個待刪除清單，  \n",
    "列出 **檔名有「大阪」關鍵字**的檔案。\n",
    "``` python\n",
    "files = [\"大阪城.jpg\",\"大阪市夜景.jpg\",\"京都塔水舞.mp4\",\"京都清水寺01.jpg\"]\n",
    "```"
   ]
  },
  {
   "cell_type": "markdown",
   "metadata": {
    "slideshow": {
     "slide_type": "fragment"
    }
   },
   "source": [
    "#### Hint:\n",
    "- 建立一個待刪除清單(串列)，預設為空\n",
    "- 迴圈把 資料夾檔案清單中`files` 裡面的「每一個檔案 `file`」挑出來\n",
    "- [判斷](http://tw.pyladies.com/~marsw/book_basic/basic_01.slides.html#/6)檔案名稱中是否有「大阪」的關鍵字(**是檔案名稱，不是整個清單**)\n",
    "    - 子字串是否出現在父字串中：[序列共同介面 `in`](https://marsw.github.io/Python-Tutorial/03_list.slides.html#/3/4)\n",
    "- 如果檔名中有此關鍵字，則增加該檔案到 待刪除清單(串列)中\n",
    "    - 串列的增加：`串列.append(元素)`"
   ]
  },
  {
   "cell_type": "markdown",
   "metadata": {
    "slideshow": {
     "slide_type": "fragment"
    }
   },
   "source": [
    "``` python\n",
    "files = [\"大阪城.jpg\",\"大阪市夜景.jpg\",\"京都塔水舞.mp4\",\"京都清水寺01.jpg\"]\n",
    "del_list = __ # 建立一個待刪除清單(串列)，預設為空\n",
    "for file in ____:\n",
    "    if \"大阪\" in ___:\n",
    "        del_list._____(file)\n",
    "print(del_list)\n",
    "```"
   ]
  },
  {
   "cell_type": "markdown",
   "metadata": {
    "slideshow": {
     "slide_type": "notes"
    }
   },
   "source": [
    "```python\n",
    "files = [\"大阪城.jpg\",\"大阪市夜景.jpg\",\"京都塔水舞.mp4\",\"京都清水寺01.jpg\"]\n",
    "del_list = []  # 建立一個待刪除清單(串列)，預設為空\n",
    "for file in files:\n",
    "    if \"大阪\" in file:\n",
    "        del_list.append(file)\n",
    "print(del_list)\n",
    "```"
   ]
  },
  {
   "cell_type": "markdown",
   "metadata": {
    "slideshow": {
     "slide_type": "subslide"
    }
   },
   "source": [
    "## 拿出索引的元素，並刪除\n",
    "- `串列.pop(索引)`：索引預設為 `len(串列)-1`"
   ]
  },
  {
   "cell_type": "code",
   "execution_count": 17,
   "metadata": {},
   "outputs": [
    {
     "name": "stdout",
     "output_type": "stream",
     "text": [
      "4\n",
      "[3, 4]\n",
      "[1, 2, 2, 3]\n"
     ]
    }
   ],
   "source": [
    "l = [1,2,[3,4],2,3,4]\n",
    "print(l.pop())\n",
    "print(l.pop(2))\n",
    "print(l)"
   ]
  },
  {
   "cell_type": "markdown",
   "metadata": {
    "slideshow": {
     "slide_type": "subslide"
    }
   },
   "source": [
    "### 注意!\n",
    "- 索引不得超出範圍"
   ]
  },
  {
   "cell_type": "code",
   "execution_count": 18,
   "metadata": {},
   "outputs": [
    {
     "ename": "IndexError",
     "evalue": "pop index out of range",
     "output_type": "error",
     "traceback": [
      "\u001b[0;31m---------------------------------------------------------------------------\u001b[0m",
      "\u001b[0;31mIndexError\u001b[0m                                Traceback (most recent call last)",
      "\u001b[0;32m<ipython-input-18-6cc12e822f3e>\u001b[0m in \u001b[0;36m<module>\u001b[0;34m()\u001b[0m\n\u001b[1;32m      1\u001b[0m \u001b[0ml\u001b[0m \u001b[0;34m=\u001b[0m \u001b[0;34m[\u001b[0m\u001b[0;36m1\u001b[0m\u001b[0;34m,\u001b[0m\u001b[0;36m2\u001b[0m\u001b[0;34m,\u001b[0m\u001b[0;36m3\u001b[0m\u001b[0;34m,\u001b[0m\u001b[0;36m4\u001b[0m\u001b[0;34m,\u001b[0m\u001b[0;36m5\u001b[0m\u001b[0;34m]\u001b[0m\u001b[0;34m\u001b[0m\u001b[0m\n\u001b[0;32m----> 2\u001b[0;31m \u001b[0ma\u001b[0m \u001b[0;34m=\u001b[0m \u001b[0ml\u001b[0m\u001b[0;34m.\u001b[0m\u001b[0mpop\u001b[0m\u001b[0;34m(\u001b[0m\u001b[0;36m6\u001b[0m\u001b[0;34m)\u001b[0m\u001b[0;34m\u001b[0m\u001b[0m\n\u001b[0m",
      "\u001b[0;31mIndexError\u001b[0m: pop index out of range"
     ]
    }
   ],
   "source": [
    "l = [1,2,3,4,5]\n",
    "a = l.pop(6)"
   ]
  },
  {
   "cell_type": "markdown",
   "metadata": {
    "slideshow": {
     "slide_type": "subslide"
    }
   },
   "source": [
    "## 刪除第一個與物件相符的元素\n",
    "- `串列.remove(物件)` \n",
    "\n",
    "### 注意!\n",
    "- 若找不到相符元素會出錯"
   ]
  },
  {
   "cell_type": "code",
   "execution_count": 19,
   "metadata": {
    "scrolled": true
   },
   "outputs": [
    {
     "name": "stdout",
     "output_type": "stream",
     "text": [
      "[1, [3, 4], 2, 3, 4]\n",
      "[1, 2, 3, 4]\n"
     ]
    },
    {
     "ename": "ValueError",
     "evalue": "list.remove(x): x not in list",
     "output_type": "error",
     "traceback": [
      "\u001b[0;31m---------------------------------------------------------------------------\u001b[0m",
      "\u001b[0;31mValueError\u001b[0m                                Traceback (most recent call last)",
      "\u001b[0;32m<ipython-input-19-982bdc614fef>\u001b[0m in \u001b[0;36m<module>\u001b[0;34m()\u001b[0m\n\u001b[1;32m      4\u001b[0m \u001b[0ml\u001b[0m\u001b[0;34m.\u001b[0m\u001b[0mremove\u001b[0m\u001b[0;34m(\u001b[0m\u001b[0;34m[\u001b[0m\u001b[0;36m3\u001b[0m\u001b[0;34m,\u001b[0m\u001b[0;36m4\u001b[0m\u001b[0;34m]\u001b[0m\u001b[0;34m)\u001b[0m\u001b[0;34m\u001b[0m\u001b[0m\n\u001b[1;32m      5\u001b[0m \u001b[0mprint\u001b[0m\u001b[0;34m(\u001b[0m\u001b[0ml\u001b[0m\u001b[0;34m)\u001b[0m\u001b[0;34m\u001b[0m\u001b[0m\n\u001b[0;32m----> 6\u001b[0;31m \u001b[0ml\u001b[0m\u001b[0;34m.\u001b[0m\u001b[0mremove\u001b[0m\u001b[0;34m(\u001b[0m\u001b[0;36m5\u001b[0m\u001b[0;34m)\u001b[0m\u001b[0;34m\u001b[0m\u001b[0m\n\u001b[0m",
      "\u001b[0;31mValueError\u001b[0m: list.remove(x): x not in list"
     ]
    }
   ],
   "source": [
    "l = [1,2,[3,4],2,3,4]\n",
    "l.remove(2)\n",
    "print(l)\n",
    "l.remove([3,4])\n",
    "print(l)\n",
    "l.remove(5)"
   ]
  },
  {
   "cell_type": "markdown",
   "metadata": {
    "slideshow": {
     "slide_type": "subslide"
    }
   },
   "source": [
    "### 想想看\n",
    "\n",
    "利用迴圈、與內建函式或是串列的方法，留下不重複的元素：\n",
    "\n",
    "`l=[1,2,6,1,3,2,5]`，  \n",
    "會有 1,2,3,5,6 這些元素(順序可不一)"
   ]
  },
  {
   "cell_type": "markdown",
   "metadata": {
    "slideshow": {
     "slide_type": "fragment"
    }
   },
   "source": [
    "- 可能的做法：把重複的刪除、新增到新的串列，只新增不存在的元素\n",
    "    - 重複：出現次數超過一次(會用到 `串列.count()`)"
   ]
  },
  {
   "cell_type": "markdown",
   "metadata": {
    "slideshow": {
     "slide_type": "subslide"
    }
   },
   "source": [
    "- 把重複的刪除：從最前面刪除\n",
    "```python\n",
    "l=[1,2,6,1,3,2,5]\n",
    "for ele in l:\n",
    "    if l.count(ele)>1:\n",
    "        l.remove(ele)\n",
    "print(l)\n",
    "```\n",
    "\n",
    "- 把重複的刪除：從最後面刪除\n",
    "```python\n",
    "l=[1,2,6,1,3,2,5]\n",
    "for index in range(len(l)-1,-1,-1):\n",
    "    if l.count(l[index])>1:\n",
    "        l.pop(index)\n",
    "print(l)\n",
    "```\n",
    "\n",
    "- 新增到新的串列，只新增不存在的元素\n",
    "```python\n",
    "l=[1,2,6,1,3,2,5]\n",
    "l1=[]\n",
    "for ele in l:\n",
    "    if ele not in l1:\n",
    "        l1.append(ele)\n",
    "print(l1)\n",
    "```"
   ]
  },
  {
   "cell_type": "markdown",
   "metadata": {
    "slideshow": {
     "slide_type": "slide"
    }
   },
   "source": [
    "## 避免迴圈內原地修改\n",
    "因為迭代器仍會取用原先串列的資訊，  \n",
    "但中途卻更動了原先的串列，小則結果不正確，大則程式出錯中斷"
   ]
  },
  {
   "cell_type": "code",
   "execution_count": 20,
   "metadata": {},
   "outputs": [
    {
     "name": "stdout",
     "output_type": "stream",
     "text": [
      "1 [1, 2, 2, 2, 6, 1, 3, 5]\n",
      "  [2, 2, 2, 6, 1, 3, 5]\n",
      "2 [2, 2, 2, 6, 1, 3, 5]\n",
      "  [2, 2, 6, 1, 3, 5]\n",
      "6 [2, 2, 6, 1, 3, 5]\n",
      "  [2, 2, 6, 1, 3, 5]\n",
      "1 [2, 2, 6, 1, 3, 5]\n",
      "  [2, 2, 6, 1, 3, 5]\n",
      "3 [2, 2, 6, 1, 3, 5]\n",
      "  [2, 2, 6, 1, 3, 5]\n",
      "5 [2, 2, 6, 1, 3, 5]\n",
      "  [2, 2, 6, 1, 3, 5]\n",
      "[2, 2, 6, 1, 3, 5]\n"
     ]
    }
   ],
   "source": [
    "l=[1,2,2,2,6,1,3,5]\n",
    "for ele in l:\n",
    "    print(ele,l)\n",
    "    if l.count(ele)>1:\n",
    "        l.remove(ele)\n",
    "    print(\" \",l)\n",
    "print(l)"
   ]
  },
  {
   "cell_type": "code",
   "execution_count": 21,
   "metadata": {
    "scrolled": true,
    "slideshow": {
     "slide_type": "subslide"
    }
   },
   "outputs": [
    {
     "name": "stdout",
     "output_type": "stream",
     "text": [
      "l[0]=1   [1, 2, 6, 1, 3, 2, 5]\n",
      "\t [2, 6, 1, 3, 2, 5]\n",
      "l[1]=6   [2, 6, 1, 3, 2, 5]\n",
      "\t [2, 6, 1, 3, 2, 5]\n",
      "l[2]=1   [2, 6, 1, 3, 2, 5]\n",
      "\t [2, 6, 1, 3, 2, 5]\n",
      "l[3]=3   [2, 6, 1, 3, 2, 5]\n",
      "\t [2, 6, 1, 3, 2, 5]\n",
      "l[4]=2   [2, 6, 1, 3, 2, 5]\n",
      "\t [2, 6, 1, 3, 5]\n"
     ]
    },
    {
     "ename": "IndexError",
     "evalue": "list index out of range",
     "output_type": "error",
     "traceback": [
      "\u001b[0;31m---------------------------------------------------------------------------\u001b[0m",
      "\u001b[0;31mIndexError\u001b[0m                                Traceback (most recent call last)",
      "\u001b[0;32m<ipython-input-21-2905970df12a>\u001b[0m in \u001b[0;36m<module>\u001b[0;34m()\u001b[0m\n\u001b[1;32m      1\u001b[0m \u001b[0ml\u001b[0m\u001b[0;34m=\u001b[0m\u001b[0;34m[\u001b[0m\u001b[0;36m1\u001b[0m\u001b[0;34m,\u001b[0m\u001b[0;36m2\u001b[0m\u001b[0;34m,\u001b[0m\u001b[0;36m6\u001b[0m\u001b[0;34m,\u001b[0m\u001b[0;36m1\u001b[0m\u001b[0;34m,\u001b[0m\u001b[0;36m3\u001b[0m\u001b[0;34m,\u001b[0m\u001b[0;36m2\u001b[0m\u001b[0;34m,\u001b[0m\u001b[0;36m5\u001b[0m\u001b[0;34m]\u001b[0m\u001b[0;34m\u001b[0m\u001b[0m\n\u001b[1;32m      2\u001b[0m \u001b[0;32mfor\u001b[0m \u001b[0mindex\u001b[0m \u001b[0;32min\u001b[0m \u001b[0mrange\u001b[0m\u001b[0;34m(\u001b[0m\u001b[0mlen\u001b[0m\u001b[0;34m(\u001b[0m\u001b[0ml\u001b[0m\u001b[0;34m)\u001b[0m\u001b[0;34m)\u001b[0m\u001b[0;34m:\u001b[0m\u001b[0;34m\u001b[0m\u001b[0m\n\u001b[0;32m----> 3\u001b[0;31m     \u001b[0mprint\u001b[0m\u001b[0;34m(\u001b[0m\u001b[0;34m\"l[{}]={}  \"\u001b[0m\u001b[0;34m.\u001b[0m\u001b[0mformat\u001b[0m\u001b[0;34m(\u001b[0m\u001b[0mindex\u001b[0m\u001b[0;34m,\u001b[0m\u001b[0ml\u001b[0m\u001b[0;34m[\u001b[0m\u001b[0mindex\u001b[0m\u001b[0;34m]\u001b[0m\u001b[0;34m)\u001b[0m\u001b[0;34m,\u001b[0m\u001b[0ml\u001b[0m\u001b[0;34m)\u001b[0m\u001b[0;34m\u001b[0m\u001b[0m\n\u001b[0m\u001b[1;32m      4\u001b[0m     \u001b[0;32mif\u001b[0m \u001b[0ml\u001b[0m\u001b[0;34m.\u001b[0m\u001b[0mcount\u001b[0m\u001b[0;34m(\u001b[0m\u001b[0ml\u001b[0m\u001b[0;34m[\u001b[0m\u001b[0mindex\u001b[0m\u001b[0;34m]\u001b[0m\u001b[0;34m)\u001b[0m\u001b[0;34m>\u001b[0m\u001b[0;36m1\u001b[0m\u001b[0;34m:\u001b[0m\u001b[0;34m\u001b[0m\u001b[0m\n\u001b[1;32m      5\u001b[0m         \u001b[0ml\u001b[0m\u001b[0;34m.\u001b[0m\u001b[0mpop\u001b[0m\u001b[0;34m(\u001b[0m\u001b[0mindex\u001b[0m\u001b[0;34m)\u001b[0m\u001b[0;34m\u001b[0m\u001b[0m\n",
      "\u001b[0;31mIndexError\u001b[0m: list index out of range"
     ]
    }
   ],
   "source": [
    "l=[1,2,6,1,3,2,5]\n",
    "for index in range(len(l)):\n",
    "    print(\"l[{}]={}  \".format(index,l[index]),l)\n",
    "    if l.count(l[index])>1:\n",
    "        l.pop(index)\n",
    "    print(\"\\t\",l)\n",
    "print(l)"
   ]
  },
  {
   "cell_type": "code",
   "execution_count": 22,
   "metadata": {
    "slideshow": {
     "slide_type": "subslide"
    }
   },
   "outputs": [
    {
     "name": "stdout",
     "output_type": "stream",
     "text": [
      "[1, 2, 3, 4, 5, 6, 6, 6, 6, 6]\n"
     ]
    }
   ],
   "source": [
    "## 其實只會增加5次 (一開始的串列長度=5)\n",
    "l = [1,2,3,4,5]\n",
    "for index in range(len(l)):\n",
    "    l.append(6)\n",
    "print(l)"
   ]
  },
  {
   "cell_type": "markdown",
   "metadata": {},
   "source": [
    "``` python\n",
    "# 造成無限迴圈，因為可以一直next()\n",
    "l = [1,2,3,4,5]\n",
    "for ele in l:\n",
    "    l.append(6)\n",
    "print(l)\n",
    "```"
   ]
  },
  {
   "cell_type": "markdown",
   "metadata": {
    "slideshow": {
     "slide_type": "slide"
    }
   },
   "source": [
    "# 補充知識-zip()、enumerate()\n",
    "- 回傳的型別皆為迭代器"
   ]
  },
  {
   "cell_type": "markdown",
   "metadata": {
    "slideshow": {
     "slide_type": "subslide"
    }
   },
   "source": [
    "## zip(序列1,序列2)\n",
    "- 回傳將兩序列配對成tuple的串列\n",
    "- 若兩序列長度不一，則以最短的串列為主"
   ]
  },
  {
   "cell_type": "code",
   "execution_count": null,
   "metadata": {},
   "outputs": [],
   "source": [
    "l1 = (1,2,3,4,5)\n",
    "l2 = ['a','b','c','d','e']\n",
    "s = zip(l1,l2)\n",
    "print(list(s))"
   ]
  },
  {
   "cell_type": "code",
   "execution_count": null,
   "metadata": {},
   "outputs": [],
   "source": [
    "l1 = [1,2,3,4,5]\n",
    "l2 = ['a','b','c','d']\n",
    "s = zip(l1,l2)\n",
    "print(list(s))"
   ]
  },
  {
   "cell_type": "markdown",
   "metadata": {
    "slideshow": {
     "slide_type": "subslide"
    }
   },
   "source": [
    "### 應用情境-學生姓名與成績"
   ]
  },
  {
   "cell_type": "code",
   "execution_count": null,
   "metadata": {},
   "outputs": [],
   "source": [
    "l1 = ['a','b','c','d','e']\n",
    "l2 = [1,2,3,4,5]\n",
    "for index in range(len(l1)):\n",
    "    print(l1[index],\"的成績為\",l2[index])"
   ]
  },
  {
   "cell_type": "code",
   "execution_count": null,
   "metadata": {
    "scrolled": true
   },
   "outputs": [],
   "source": [
    "l1  = ['a','b','c','d','e']\n",
    "l2 = [1,2,3,4,5]\n",
    "for name,score in zip(l1,l2):\n",
    "    print(name,\"的成績為\",score)"
   ]
  },
  {
   "cell_type": "markdown",
   "metadata": {
    "slideshow": {
     "slide_type": "subslide"
    }
   },
   "source": [
    "## enumerate(序列,起始值)\n",
    "- 常用於同時取得索引與元素\n",
    "- 起始值預設為0"
   ]
  },
  {
   "cell_type": "code",
   "execution_count": null,
   "metadata": {
    "scrolled": true
   },
   "outputs": [],
   "source": [
    "l = ['a','b','c']\n",
    "for index,value in enumerate(l):\n",
    "    print(index,value)"
   ]
  },
  {
   "cell_type": "code",
   "execution_count": null,
   "metadata": {},
   "outputs": [],
   "source": [
    "l = ['a','b','c']\n",
    "for index,value in enumerate(l,1):\n",
    "    print(index,value)"
   ]
  },
  {
   "cell_type": "code",
   "execution_count": null,
   "metadata": {
    "slideshow": {
     "slide_type": "subslide"
    }
   },
   "outputs": [],
   "source": [
    "l = [5.5, 9, 10]\n",
    "for index in range(3):\n",
    "    print(\"員工{}的薪水\".format(index+1), l[index]*100+22000)"
   ]
  },
  {
   "cell_type": "code",
   "execution_count": null,
   "metadata": {},
   "outputs": [],
   "source": [
    "l = [5.5, 9, 10]\n",
    "for index,value in enumerate(l,1):\n",
    "    print(\"員工{}的薪水\".format(index), value*100+22000)"
   ]
  }
 ],
 "metadata": {
  "celltoolbar": "Slideshow",
  "kernelspec": {
   "display_name": "Python 3",
   "language": "python",
   "name": "python3"
  },
  "language_info": {
   "codemirror_mode": {
    "name": "ipython",
    "version": 3
   },
   "file_extension": ".py",
   "mimetype": "text/x-python",
   "name": "python",
   "nbconvert_exporter": "python",
   "pygments_lexer": "ipython3",
   "version": "3.6.3"
  }
 },
 "nbformat": 4,
 "nbformat_minor": 1
}
