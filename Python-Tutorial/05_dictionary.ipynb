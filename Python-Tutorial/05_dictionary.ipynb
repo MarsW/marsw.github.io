{
 "cells": [
  {
   "cell_type": "markdown",
   "metadata": {
    "slideshow": {
     "slide_type": "slide"
    }
   },
   "source": [
    "# 05 - 字典\n",
    "- 字典\n",
    "- 字典的迭代\n",
    "- 常用的資料型別\n",
    "- 補充知識-字典相關好用功能"
   ]
  },
  {
   "cell_type": "markdown",
   "metadata": {
    "slideshow": {
     "slide_type": "slide"
    }
   },
   "source": [
    "# 字典"
   ]
  },
  {
   "cell_type": "markdown",
   "metadata": {
    "slideshow": {
     "slide_type": "subslide"
    }
   },
   "source": [
    "- 字典用大括號{}宣告，每個 key 及其對應的 value 為一組元素   \n",
    "  `{key1:value1, key2:value2}`\n",
    "- key 需為不可變物件 (eg. `int`、`float`、`str`)，且需唯一\n",
    "- `d[key]`：字典以鍵值 key 去取資料 value，很像是串列的索引 index\n",
    "- `d[key] = 物件` ：字典以鍵值 key 去指向資料，  \n",
    "如果 key 不存在會自動建立，否則會指向新值。"
   ]
  },
  {
   "cell_type": "code",
   "execution_count": 1,
   "metadata": {},
   "outputs": [
    {
     "name": "stdout",
     "output_type": "stream",
     "text": [
      "20\n"
     ]
    }
   ],
   "source": [
    "l = [20,25,10]\n",
    "print(l[0])"
   ]
  },
  {
   "cell_type": "code",
   "execution_count": 2,
   "metadata": {},
   "outputs": [
    {
     "name": "stdout",
     "output_type": "stream",
     "text": [
      "20\n",
      "{'Mars': 20, '姿君': 25, '毛毛': 15, 'noname': 30}\n"
     ]
    }
   ],
   "source": [
    "d = {\"Mars\":20,\"姿君\":25,\"毛毛\":10}\n",
    "print(d[\"Mars\"])\n",
    "d[\"毛毛\"] =15\n",
    "d[\"noname\"] = 30\n",
    "print(d)"
   ]
  },
  {
   "cell_type": "markdown",
   "metadata": {
    "slideshow": {
     "slide_type": "subslide"
    }
   },
   "source": [
    "## 想像 會員儲值 的情境\n",
    "- Mars剛開始有 `$20`、姿君有 `$25`、毛毛有 `$10`\n",
    "- Mars儲值 `$15`、姿君儲值 `$5`"
   ]
  },
  {
   "cell_type": "code",
   "execution_count": 3,
   "metadata": {
    "slideshow": {
     "slide_type": "subslide"
    }
   },
   "outputs": [
    {
     "name": "stdout",
     "output_type": "stream",
     "text": [
      "[['Mars', 35], ['姿君', 30], ['毛毛', 10]]\n"
     ]
    }
   ],
   "source": [
    "l = [[\"Mars\",20],[\"姿君\",25],[\"毛毛\",10]]\n",
    "# Mars 儲值 15元, 再來是 姿君儲值 5元\n",
    "l[0][1]+=15\n",
    "l[1][1]+=5\n",
    "print(l)"
   ]
  },
  {
   "cell_type": "code",
   "execution_count": 4,
   "metadata": {
    "slideshow": {
     "slide_type": "fragment"
    }
   },
   "outputs": [
    {
     "name": "stdout",
     "output_type": "stream",
     "text": [
      "[['Mars', 35], ['姿君', 30], ['毛毛', 10]]\n"
     ]
    }
   ],
   "source": [
    "# 比較有彈性\n",
    "l = [[\"Mars\",20],[\"姿君\",25],[\"毛毛\",10]]\n",
    "for member in l:\n",
    "    if member[0]==\"Mars\":\n",
    "        member[1]+=15\n",
    "for member in l:\n",
    "    if member[0]==\"姿君\":\n",
    "        member[1]+=5\n",
    "print(l)"
   ]
  },
  {
   "cell_type": "code",
   "execution_count": 5,
   "metadata": {
    "slideshow": {
     "slide_type": "fragment"
    }
   },
   "outputs": [
    {
     "name": "stdout",
     "output_type": "stream",
     "text": [
      "{'Mars': 35, '姿君': 30, '毛毛': 10}\n",
      "35 30\n"
     ]
    }
   ],
   "source": [
    "d = {\"Mars\":20,\"姿君\":25,\"毛毛\":10}\n",
    "d[\"Mars\"] += 15\n",
    "d[\"姿君\"] += 5\n",
    "print(d)\n",
    "print(d[\"Mars\"],d[\"姿君\"])"
   ]
  },
  {
   "cell_type": "markdown",
   "metadata": {
    "slideshow": {
     "slide_type": "subslide"
    }
   },
   "source": [
    "### 注意!\n",
    "- 字典是可變物件\n",
    "- 取用不存在的 key，會出錯"
   ]
  },
  {
   "cell_type": "code",
   "execution_count": 6,
   "metadata": {
    "slideshow": {
     "slide_type": "-"
    }
   },
   "outputs": [
    {
     "name": "stdout",
     "output_type": "stream",
     "text": [
      "4528636912\n",
      "{'Mars': 20, '姿君': 25, '毛毛': 10}\n",
      "3\n",
      "4528636912\n"
     ]
    }
   ],
   "source": [
    "d = {} # 空字典\n",
    "print(id(d))\n",
    "d[\"Mars\"] = 20\n",
    "d[\"姿君\"] = 25\n",
    "d[\"毛毛\"] = 10\n",
    "print(d)\n",
    "print(len(d))\n",
    "print(id(d))"
   ]
  },
  {
   "cell_type": "code",
   "execution_count": 7,
   "metadata": {
    "scrolled": false
   },
   "outputs": [
    {
     "ename": "KeyError",
     "evalue": "'MarsW'",
     "output_type": "error",
     "traceback": [
      "\u001b[0;31m---------------------------------------------------------------------------\u001b[0m",
      "\u001b[0;31mKeyError\u001b[0m                                  Traceback (most recent call last)",
      "\u001b[0;32m<ipython-input-7-8ab309ac3ada>\u001b[0m in \u001b[0;36m<module>\u001b[0;34m()\u001b[0m\n\u001b[0;32m----> 1\u001b[0;31m \u001b[0mprint\u001b[0m\u001b[0;34m(\u001b[0m\u001b[0md\u001b[0m\u001b[0;34m[\u001b[0m\u001b[0;34m'MarsW'\u001b[0m\u001b[0;34m]\u001b[0m\u001b[0;34m)\u001b[0m\u001b[0;34m\u001b[0m\u001b[0m\n\u001b[0m",
      "\u001b[0;31mKeyError\u001b[0m: 'MarsW'"
     ]
    }
   ],
   "source": [
    "print(d['MarsW'])"
   ]
  },
  {
   "cell_type": "markdown",
   "metadata": {
    "slideshow": {
     "slide_type": "subslide"
    }
   },
   "source": [
    "### [練習] 計算庫存\n",
    "水果庫存、價格都以字典型別儲存，  \n",
    "請計算若水果都賣出後，可賺進多少錢？  "
   ]
  },
  {
   "cell_type": "markdown",
   "metadata": {},
   "source": [
    "``` python\n",
    "stock={\n",
    "    \"banana\":5,\n",
    "    \"apple\":3,\n",
    "    \"orange\":10\n",
    "}\n",
    "price={\n",
    "    \"banana\":5,\n",
    "    \"apple\":20,\n",
    "    \"orange\":15\n",
    "}\n",
    "```"
   ]
  },
  {
   "cell_type": "markdown",
   "metadata": {
    "slideshow": {
     "slide_type": "fragment"
    }
   },
   "source": [
    "#### Hint:\n",
    "``` python\n",
    "revenue = 0\n",
    "revenue += stock[\"____\"] * price[\"____\"]\n",
    "revenue += stock[\"____\"] * price[\"____\"]\n",
    "revenue += stock[\"____\"] * price[\"____\"]\n",
    "print(revenue)\n",
    "```"
   ]
  },
  {
   "cell_type": "markdown",
   "metadata": {
    "slideshow": {
     "slide_type": "notes"
    }
   },
   "source": [
    "``` python\n",
    "revenue = 0\n",
    "revenue += stock[\"banana\"] * price[\"banana\"]\n",
    "revenue += stock[\"apple\"] * price[\"apple\"]\n",
    "revenue += stock[\"orange\"] * price[\"orange\"]\n",
    "print(revenue)\n",
    "```"
   ]
  },
  {
   "cell_type": "markdown",
   "metadata": {
    "slideshow": {
     "slide_type": "slide"
    }
   },
   "source": [
    "# 字典的迭代\n",
    "在 Python 中，迭代、迴圈的使用率很高，  \n",
    "小技巧就是每個東西都用迴圈跑一下，印出裡面的元素，  \n",
    "會很快的了解資料結構的內容！"
   ]
  },
  {
   "cell_type": "code",
   "execution_count": 8,
   "metadata": {
    "slideshow": {
     "slide_type": "-"
    }
   },
   "outputs": [
    {
     "name": "stdout",
     "output_type": "stream",
     "text": [
      "l\n",
      "o\n",
      "o\n",
      "p\n"
     ]
    }
   ],
   "source": [
    "s = \"loop\"\n",
    "for char in s:\n",
    "    print(char)"
   ]
  },
  {
   "cell_type": "code",
   "execution_count": 9,
   "metadata": {},
   "outputs": [
    {
     "name": "stdout",
     "output_type": "stream",
     "text": [
      "l\n",
      "o\n",
      "o\n",
      "p\n"
     ]
    }
   ],
   "source": [
    "print(s[0])\n",
    "print(s[1])\n",
    "print(s[2])\n",
    "print(s[3])"
   ]
  },
  {
   "cell_type": "code",
   "execution_count": 10,
   "metadata": {
    "scrolled": true,
    "slideshow": {
     "slide_type": "subslide"
    }
   },
   "outputs": [
    {
     "name": "stdout",
     "output_type": "stream",
     "text": [
      "1\n",
      "2\n",
      "3\n"
     ]
    }
   ],
   "source": [
    "l = [1,2,3]\n",
    "for ele in l:\n",
    "    print(ele)"
   ]
  },
  {
   "cell_type": "code",
   "execution_count": 11,
   "metadata": {},
   "outputs": [
    {
     "name": "stdout",
     "output_type": "stream",
     "text": [
      "1\n",
      "2\n",
      "3\n"
     ]
    }
   ],
   "source": [
    "print(l[0])\n",
    "print(l[1])\n",
    "print(l[2])"
   ]
  },
  {
   "cell_type": "code",
   "execution_count": 12,
   "metadata": {
    "slideshow": {
     "slide_type": "subslide"
    }
   },
   "outputs": [
    {
     "name": "stdout",
     "output_type": "stream",
     "text": [
      "Mars\n",
      "姿君\n",
      "毛毛\n"
     ]
    }
   ],
   "source": [
    "# 字典以鍵值 key 去存取資料 value\n",
    "d = {\"Mars\":20,\"姿君\":25,\"毛毛\":10}\n",
    "for key in d:\n",
    "    print(key)"
   ]
  },
  {
   "cell_type": "code",
   "execution_count": 13,
   "metadata": {
    "scrolled": true,
    "slideshow": {
     "slide_type": "-"
    }
   },
   "outputs": [
    {
     "name": "stdout",
     "output_type": "stream",
     "text": [
      "Mars 20\n",
      "姿君 25\n",
      "毛毛 10\n"
     ]
    }
   ],
   "source": [
    "d = {\"Mars\":20,\"姿君\":25,\"毛毛\":10}\n",
    "for key in d:\n",
    "    print(key,d[key])"
   ]
  },
  {
   "cell_type": "code",
   "execution_count": 14,
   "metadata": {},
   "outputs": [
    {
     "name": "stdout",
     "output_type": "stream",
     "text": [
      "Mars 20\n",
      "姿君 25\n",
      "毛毛 10\n"
     ]
    }
   ],
   "source": [
    "print(\"Mars\",d[\"Mars\"])\n",
    "print(\"姿君\",d[\"姿君\"])\n",
    "print(\"毛毛\",d[\"毛毛\"])"
   ]
  },
  {
   "cell_type": "markdown",
   "metadata": {
    "slideshow": {
     "slide_type": "subslide"
    }
   },
   "source": [
    "### [練習] 計算庫存-以迴圈處理\n",
    "水果庫存、價格都以字典型別儲存，  \n",
    "請計算若水果都賣出後，可賺進多少錢？  "
   ]
  },
  {
   "cell_type": "markdown",
   "metadata": {},
   "source": [
    "``` python\n",
    "stock={\n",
    "    \"banana\":5,\n",
    "    \"apple\":3,\n",
    "    \"orange\":10\n",
    "}\n",
    "price={\n",
    "    \"banana\":5,\n",
    "    \"apple\":20,\n",
    "    \"orange\":15\n",
    "}\n",
    "```"
   ]
  },
  {
   "cell_type": "markdown",
   "metadata": {
    "slideshow": {
     "slide_type": "fragment"
    }
   },
   "source": [
    "#### Hint:\n",
    "``` python\n",
    "revenue = 0\n",
    "for fruit in stock:\n",
    "    revenue += stock[____] * price[____]\n",
    "print(revenue)\n",
    "```"
   ]
  },
  {
   "cell_type": "markdown",
   "metadata": {
    "slideshow": {
     "slide_type": "notes"
    }
   },
   "source": [
    "``` python\n",
    "revenue = 0\n",
    "for fruit in stock:\n",
    "    print(fruit,stock[fruit],price[fruit])\n",
    "    revenue += stock[fruit] * price[fruit]\n",
    "print(revenue)\n",
    "```"
   ]
  },
  {
   "cell_type": "markdown",
   "metadata": {
    "slideshow": {
     "slide_type": "subslide"
    }
   },
   "source": [
    "### [進階練習] 計算庫存-以迴圈處理、另一種儲存方式\n",
    "改了儲存方式，請計算若水果都賣出後，可賺進多少錢？  \n",
    "\n",
    "``` python\n",
    "product = {\n",
    "    \"banana\":{\n",
    "        \"stock\":5,\n",
    "        \"price\":5\n",
    "    },\n",
    "    \"apple\":{\n",
    "        \"stock\":3,\n",
    "        \"price\":20\n",
    "    },\n",
    "    \"orange\":{\n",
    "        \"stock\":10,\n",
    "        \"price\":15\n",
    "    }\n",
    "}\n",
    "```"
   ]
  },
  {
   "cell_type": "markdown",
   "metadata": {
    "slideshow": {
     "slide_type": "fragment"
    }
   },
   "source": [
    "#### Hint:\n",
    "先把資料直接丟入迴圈，看會印出什麼元素～  \n",
    "確定拿到的元素是對的，再進行處理！   \n",
    "(試試印出香蕉的庫存)"
   ]
  },
  {
   "cell_type": "markdown",
   "metadata": {
    "slideshow": {
     "slide_type": "notes"
    }
   },
   "source": [
    "``` python\n",
    "product = {\n",
    "    \"banana\":{\n",
    "        \"stock\":5,\n",
    "        \"price\":5\n",
    "    },\n",
    "    \"apple\":{\n",
    "        \"stock\":3,\n",
    "        \"price\":20\n",
    "    },\n",
    "    \"orange\":{\n",
    "        \"stock\":10,\n",
    "        \"price\":15\n",
    "    }\n",
    "}\n",
    "revenue = 0\n",
    "for fruit in product:\n",
    "    revenue+=product[fruit][\"stock\"]*product[fruit][\"price\"]\n",
    "print(revenue)\n",
    "```"
   ]
  },
  {
   "cell_type": "markdown",
   "metadata": {
    "slideshow": {
     "slide_type": "slide"
    }
   },
   "source": [
    "# 常用的資料型別"
   ]
  },
  {
   "cell_type": "code",
   "execution_count": 15,
   "metadata": {
    "slideshow": {
     "slide_type": "subslide"
    }
   },
   "outputs": [
    {
     "name": "stdout",
     "output_type": "stream",
     "text": [
      "姿君 25\n",
      "Mars 20\n",
      "毛毛 10\n"
     ]
    }
   ],
   "source": [
    "# 拿出每個元素，再拿出該元素的子元素(名字,分數)\n",
    "l = [[\"姿君\",25],[\"Mars\",20],[\"毛毛\",10]]\n",
    "for item in l:\n",
    "    name = item[0]\n",
    "    score = item[1]\n",
    "    print(name,score)"
   ]
  },
  {
   "cell_type": "code",
   "execution_count": 16,
   "metadata": {
    "slideshow": {
     "slide_type": "fragment"
    }
   },
   "outputs": [
    {
     "name": "stdout",
     "output_type": "stream",
     "text": [
      "Mars 20\n",
      "姿君 25\n",
      "毛毛 10\n"
     ]
    }
   ],
   "source": [
    "# 比較簡短的寫法\n",
    "l = [[\"Mars\",20],[\"姿君\",25],[\"毛毛\",10]]\n",
    "for name,score in l:\n",
    "    print(name,score)"
   ]
  },
  {
   "cell_type": "code",
   "execution_count": 17,
   "metadata": {
    "slideshow": {
     "slide_type": "fragment"
    }
   },
   "outputs": [
    {
     "name": "stdout",
     "output_type": "stream",
     "text": [
      "Mars 20\n",
      "姿君 25\n",
      "毛毛 10\n",
      "{'Mars': 20, '姿君': 25, '毛毛': 10}\n"
     ]
    }
   ],
   "source": [
    "# 拿到名字,分數，就可以用 名字當 key、分數當 value\n",
    "l = [[\"Mars\",20],[\"姿君\",25],[\"毛毛\",10]]\n",
    "d = {}\n",
    "for name,score in l:\n",
    "    print(name,score)\n",
    "    d[name]=score\n",
    "print(d)"
   ]
  },
  {
   "cell_type": "markdown",
   "metadata": {
    "slideshow": {
     "slide_type": "subslide"
    }
   },
   "source": [
    "### [練習] \n",
    "前面的範例有個會員儲值的情境：\n",
    "``` python\n",
    "d = {\"Mars\":20,\"姿君\":25,\"毛毛\":10}\n",
    "d[\"Mars\"] += 15 # !\n",
    "d[\"姿君\"] += 5   # !\n",
    "print(d)\n",
    "```\n",
    "\n",
    "把儲值改成串列內容，試著用迴圈取串列中的值，做到一樣的事情：   \n",
    "Mars 儲值 15 => 35  \n",
    "姿君  儲值  5 => 30  \n",
    "``` python\n",
    "d = {\"Mars\":20,\"姿君\":25,\"毛毛\":10}\n",
    "l = [[\"Mars\",15],[\"姿君\",5]]\n",
    "for name,money in ____:\n",
    "    _[___]+=____\n",
    "print(d)\n",
    "```"
   ]
  },
  {
   "cell_type": "markdown",
   "metadata": {
    "slideshow": {
     "slide_type": "notes"
    }
   },
   "source": [
    "``` python\n",
    "d = {\"Mars\":20,\"姿君\":25,\"毛毛\":10}\n",
    "l = [[\"Mars\",15],[\"姿君\",5]]\n",
    "for name,money in l:\n",
    "    d[name]+=money\n",
    "print(d)\n",
    "```"
   ]
  },
  {
   "cell_type": "markdown",
   "metadata": {
    "slideshow": {
     "slide_type": "subslide"
    }
   },
   "source": [
    "### [進階練習] 遊戲計分\n",
    "遊戲中計分，第一回合：A 得 10 分、第二回合 B 得 5 分...，最後要加總算分數。\n",
    "``` python\n",
    "l = [[\"A\",10],[\"B\",5],[\"C\",23],[\"B\",7],[\"A\",6],[\"A\",3],[\"C\",2]]\n",
    "```\n",
    "答案是：\n",
    "```\n",
    "C的得分25\n",
    "B的得分12\n",
    "A的得分19\n",
    "```"
   ]
  },
  {
   "cell_type": "markdown",
   "metadata": {
    "slideshow": {
     "slide_type": "subslide"
    }
   },
   "source": [
    "#### Hint:\n",
    "可以參考剛才提到的「如何把串列變成字典」：\n",
    "- 先拿出各元素\n",
    "- 再拿出各元素的子元素：名字、分數\n",
    "\n",
    "```python \n",
    "l = [[\"A\",10],[\"B\",5],[\"C\",23],[\"B\",7],[\"A\",6],[\"A\",3],[\"C\",2]]\n",
    "for _____ in l:\n",
    "    print(___,___)\n",
    "```\n",
    "會得到以下結果\n",
    "```xml\n",
    "A 10\n",
    "B 5\n",
    "C 23\n",
    ".\n",
    ".\n",
    ".\n",
    "```\n"
   ]
  },
  {
   "cell_type": "markdown",
   "metadata": {
    "slideshow": {
     "slide_type": "subslide"
    }
   },
   "source": [
    "然後因為要計算總分，  \n",
    "所以每次拿到新的分數 value   \n",
    "是要「加回原本對應 名字(key) 的分數(value)」  \n",
    "eg. \n",
    "``` xml\n",
    "第一回合，A 得 10 分 => A 目前總分為 10 分  \n",
    "第二回合，B 得  5 分 => B 目前總分為  5 分 *\n",
    "第三回合，C 得 23 分 => C 目前總分為 23 分\n",
    "第四回合，B 得  7 分 => B 目前總分為 12 分 * (原來的 5 分加上這次的 7 分)\n",
    ".\n",
    ".\n",
    "```"
   ]
  },
  {
   "cell_type": "markdown",
   "metadata": {
    "slideshow": {
     "slide_type": "fragment"
    }
   },
   "source": [
    "```python \n",
    "l = [[\"A\",10],[\"B\",5],[\"C\",23],[\"B\",7],[\"A\",6],[\"A\",3],[\"C\",2]]\n",
    "d = {\"A\":0, \"B\":0, \"C\":0}\n",
    "\n",
    "for _____ in l:\n",
    "    print(___,___)\n",
    "    d[___] = ______\n",
    "\n",
    "for key in d:\n",
    "    print(\"{}的得分{}\".format(key,d[key]))\n",
    "```"
   ]
  },
  {
   "cell_type": "markdown",
   "metadata": {
    "slideshow": {
     "slide_type": "notes"
    }
   },
   "source": [
    "``` python\n",
    "l = [[\"A\",10],[\"B\",5],[\"C\",23],[\"B\",7],[\"A\",6],[\"A\",3],[\"C\",2]]\n",
    "d = {\"A\":0, \"B\":0, \"C\":0}\n",
    "for name,score in l:\n",
    "    d[name]+=score # d[name]=d[name]+score\n",
    "for key in d:\n",
    "    print(\"{}的得分{}\".format(key,d[key]))\n",
    "```"
   ]
  },
  {
   "cell_type": "markdown",
   "metadata": {
    "slideshow": {
     "slide_type": "subslide"
    }
   },
   "source": [
    "#### 如果不知道有幾個玩家"
   ]
  },
  {
   "cell_type": "code",
   "execution_count": 18,
   "metadata": {},
   "outputs": [
    {
     "name": "stdout",
     "output_type": "stream",
     "text": [
      "A的得分19\n",
      "B的得分12\n",
      "C的得分25\n"
     ]
    }
   ],
   "source": [
    "l = [[\"A\",10],[\"B\",5],[\"C\",23],[\"B\",7],[\"A\",6],[\"A\",3],[\"C\",2]]\n",
    "d = {}\n",
    "for name,score in l:\n",
    "    if name not in d: # 檢查是否存在這個玩家\n",
    "        d[name]=0     # 不存在就把他的得分設為預設值0\n",
    "    d[name]+=score\n",
    "for key in d:\n",
    "    print(\"{}的得分{}\".format(key,d[key]))"
   ]
  },
  {
   "cell_type": "markdown",
   "metadata": {
    "slideshow": {
     "slide_type": "subslide"
    }
   },
   "source": [
    "#### 純文字形式的遊戲計分\n",
    "- 可以轉成前面練習題的串列型別"
   ]
  },
  {
   "cell_type": "code",
   "execution_count": 19,
   "metadata": {
    "scrolled": false
   },
   "outputs": [
    {
     "name": "stdout",
     "output_type": "stream",
     "text": [
      "['']\n",
      "['A', '10']\n",
      "['B', '5']\n",
      "['C', '23']\n",
      "['B', '7']\n",
      "['A', '6']\n",
      "['A', '3']\n",
      "['C', '2']\n",
      "['']\n",
      "[['A', 10], ['B', 5], ['C', 23], ['B', 7], ['A', 6], ['A', 3], ['C', 2]]\n"
     ]
    }
   ],
   "source": [
    "score_log = \"\"\"\n",
    "A,10\n",
    "B,5\n",
    "C,23\n",
    "B,7\n",
    "A,6\n",
    "A,3\n",
    "C,2\n",
    "\"\"\"\n",
    "l = []\n",
    "for line in score_log.split(\"\\n\"):\n",
    "    print(line.split(\",\"))\n",
    "    if len(line.split(\",\"))==2:\n",
    "#     if \",\" in line:\n",
    "        name,score = line.split(\",\")\n",
    "        l.append([name,int(score)])\n",
    "print(l)"
   ]
  },
  {
   "cell_type": "markdown",
   "metadata": {
    "slideshow": {
     "slide_type": "subslide"
    }
   },
   "source": [
    "## 應用情境：正規化\n",
    "- 星期、月份\n",
    "- 中文數字 (eg. 三、參、叄)"
   ]
  },
  {
   "cell_type": "code",
   "execution_count": 20,
   "metadata": {
    "slideshow": {
     "slide_type": "-"
    }
   },
   "outputs": [
    {
     "name": "stdout",
     "output_type": "stream",
     "text": [
      "10/18\n"
     ]
    }
   ],
   "source": [
    "datetime = \"Oct 18\"\n",
    "month,date = datetime.split(\" \")\n",
    "month = month.replace(\"Oct\",\"10\")\n",
    "format_date = \"{}/{}\".format(month,date)\n",
    "print (format_date)"
   ]
  },
  {
   "cell_type": "code",
   "execution_count": 21,
   "metadata": {
    "scrolled": true
   },
   "outputs": [
    {
     "name": "stdout",
     "output_type": "stream",
     "text": [
      "10 ['Oct', 'October']\n",
      "11 ['Nov', 'November']\n",
      "12 ['Dec', 'December']\n",
      "10/18\n"
     ]
    }
   ],
   "source": [
    "datetime = \"Oct 18\"\n",
    "month,date = datetime.split(\" \")\n",
    "month_dict = {\n",
    "    #......\n",
    "    \"10\":[\"Oct\",\"October\"],\n",
    "    \"11\":[\"Nov\",\"November\"],\n",
    "    \"12\":[\"Dec\",\"December\"],\n",
    "}\n",
    "for key in month_dict:\n",
    "    print(key,month_dict[key])\n",
    "    for keyword in month_dict[key]:\n",
    "        if month==keyword:\n",
    "            month = month.replace(month,key)\n",
    "format_date = \"{}/{}\".format(month,date)\n",
    "print (format_date)"
   ]
  },
  {
   "cell_type": "markdown",
   "metadata": {
    "slideshow": {
     "slide_type": "slide"
    }
   },
   "source": [
    "# 補充知識-字典相關好用功能\n",
    "- 取不存在的 key 值\n",
    "- 有預設值的字典"
   ]
  },
  {
   "cell_type": "markdown",
   "metadata": {
    "slideshow": {
     "slide_type": "subslide"
    }
   },
   "source": [
    "## 取值\n",
    "- `字典[key]`：key 不存在會報錯\n",
    "- `字典.get(key,default)`：key 不存在會回傳default\n",
    "    - default 預設為`None`"
   ]
  },
  {
   "cell_type": "code",
   "execution_count": 22,
   "metadata": {},
   "outputs": [
    {
     "name": "stdout",
     "output_type": "stream",
     "text": [
      "1\n",
      "1\n"
     ]
    }
   ],
   "source": [
    "d = {\"A\":1, \"B\":2, \"C\":3}\n",
    "print(d[\"A\"])\n",
    "print(d.get(\"A\"))"
   ]
  },
  {
   "cell_type": "code",
   "execution_count": 23,
   "metadata": {
    "scrolled": true
   },
   "outputs": [
    {
     "name": "stdout",
     "output_type": "stream",
     "text": [
      "None\n",
      "0\n"
     ]
    },
    {
     "ename": "KeyError",
     "evalue": "'D'",
     "output_type": "error",
     "traceback": [
      "\u001b[0;31m---------------------------------------------------------------------------\u001b[0m",
      "\u001b[0;31mKeyError\u001b[0m                                  Traceback (most recent call last)",
      "\u001b[0;32m<ipython-input-23-628ad431d9da>\u001b[0m in \u001b[0;36m<module>\u001b[0;34m()\u001b[0m\n\u001b[1;32m      2\u001b[0m \u001b[0mprint\u001b[0m\u001b[0;34m(\u001b[0m\u001b[0md\u001b[0m\u001b[0;34m.\u001b[0m\u001b[0mget\u001b[0m\u001b[0;34m(\u001b[0m\u001b[0;34m\"D\"\u001b[0m\u001b[0;34m)\u001b[0m\u001b[0;34m)\u001b[0m\u001b[0;34m\u001b[0m\u001b[0m\n\u001b[1;32m      3\u001b[0m \u001b[0mprint\u001b[0m\u001b[0;34m(\u001b[0m\u001b[0md\u001b[0m\u001b[0;34m.\u001b[0m\u001b[0mget\u001b[0m\u001b[0;34m(\u001b[0m\u001b[0;34m\"D\"\u001b[0m\u001b[0;34m,\u001b[0m\u001b[0;36m0\u001b[0m\u001b[0;34m)\u001b[0m\u001b[0;34m)\u001b[0m\u001b[0;34m\u001b[0m\u001b[0m\n\u001b[0;32m----> 4\u001b[0;31m \u001b[0mprint\u001b[0m\u001b[0;34m(\u001b[0m\u001b[0md\u001b[0m\u001b[0;34m[\u001b[0m\u001b[0;34m\"D\"\u001b[0m\u001b[0;34m]\u001b[0m\u001b[0;34m)\u001b[0m\u001b[0;34m\u001b[0m\u001b[0m\n\u001b[0m",
      "\u001b[0;31mKeyError\u001b[0m: 'D'"
     ]
    }
   ],
   "source": [
    "d = {\"A\":1, \"B\":2, \"C\":3}\n",
    "print(d.get(\"D\"))\n",
    "print(d.get(\"D\",0))\n",
    "print(d[\"D\"])"
   ]
  },
  {
   "cell_type": "markdown",
   "metadata": {
    "slideshow": {
     "slide_type": "subslide"
    }
   },
   "source": [
    "## 應用情境：判斷式過於冗長"
   ]
  },
  {
   "cell_type": "code",
   "execution_count": 24,
   "metadata": {},
   "outputs": [
    {
     "name": "stdout",
     "output_type": "stream",
     "text": [
      "敬老票價格為250\n"
     ]
    }
   ],
   "source": [
    "ticket_type=\"敬老票\" \n",
    "if ticket_type==\"學生票\":\n",
    "    price=270\n",
    "elif ticket_type==\"敬老票\":\n",
    "    price=250\n",
    "else:\n",
    "    price=300\n",
    "print(\"{}價格為{}\".format(ticket_type,price))"
   ]
  },
  {
   "cell_type": "code",
   "execution_count": 25,
   "metadata": {},
   "outputs": [
    {
     "name": "stdout",
     "output_type": "stream",
     "text": [
      "敬老票價格為250\n"
     ]
    }
   ],
   "source": [
    "ticket_type=\"敬老票\" \n",
    "d = {\"學生票\":270,\"敬老票\":250}\n",
    "price = d.get(ticket_type,300)\n",
    "print(\"{}價格為{}\".format(ticket_type,price))"
   ]
  },
  {
   "cell_type": "markdown",
   "metadata": {
    "slideshow": {
     "slide_type": "subslide"
    }
   },
   "source": [
    "## 有預設值的字典\n",
    "```python\n",
    "from collections import defaultdict\n",
    "d = defaultdict(物件型別)\n",
    "```\n",
    "- 物件型別若不指定，預設為 `None`\n",
    "- 並不是原生的字典型別，但有跟原生字典型別同樣的操作方式\n",
    "- 就算 key 不存在，直接用 `字典[key]` 也沒關係=>會生成預設值"
   ]
  },
  {
   "cell_type": "code",
   "execution_count": 26,
   "metadata": {},
   "outputs": [
    {
     "name": "stdout",
     "output_type": "stream",
     "text": [
      "int()的預設值為 0\n",
      "defaultdict(<class 'int'>, {})\n",
      "0\n",
      "{'a': 0}\n"
     ]
    }
   ],
   "source": [
    "from collections import defaultdict\n",
    "\n",
    "print(\"int()的預設值為\",int())\n",
    "d = defaultdict(int) \n",
    "print(d)\n",
    "\n",
    "print(d[\"a\"])\n",
    "print(dict(d))"
   ]
  },
  {
   "cell_type": "markdown",
   "metadata": {
    "slideshow": {
     "slide_type": "subslide"
    }
   },
   "source": [
    "可以改寫前面的遊戲計分練習題"
   ]
  },
  {
   "cell_type": "code",
   "execution_count": 27,
   "metadata": {
    "slideshow": {
     "slide_type": "-"
    }
   },
   "outputs": [
    {
     "name": "stdout",
     "output_type": "stream",
     "text": [
      "A的得分19\n",
      "B的得分12\n",
      "C的得分25\n"
     ]
    }
   ],
   "source": [
    "l = [[\"A\",10],[\"B\",5],[\"C\",23],[\"B\",7],[\"A\",6],[\"A\",3],[\"C\",2]]\n",
    "d = {}\n",
    "for name,score in l:\n",
    "    if name not in d: # 檢查是否存在這個玩家\n",
    "        d[name]=0     # 不存在就把他的得分設為預設值0\n",
    "    d[name]+=score\n",
    "for key in d:\n",
    "    print(\"{}的得分{}\".format(key,d[key]))"
   ]
  },
  {
   "cell_type": "code",
   "execution_count": 28,
   "metadata": {},
   "outputs": [
    {
     "name": "stdout",
     "output_type": "stream",
     "text": [
      "A的得分19\n",
      "B的得分12\n",
      "C的得分25\n"
     ]
    }
   ],
   "source": [
    "from collections import defaultdict\n",
    "d = defaultdict(int) \n",
    "\n",
    "for name,score in l:    \n",
    "    d[name]+=score\n",
    "for key in d:\n",
    "    print(\"{}的得分{}\".format(key,d[key]))"
   ]
  },
  {
   "cell_type": "code",
   "execution_count": 29,
   "metadata": {
    "slideshow": {
     "slide_type": "subslide"
    }
   },
   "outputs": [
    {
     "name": "stdout",
     "output_type": "stream",
     "text": [
      "list()的預設值為 []\n",
      "[]\n",
      "{'a': []}\n"
     ]
    }
   ],
   "source": [
    "from collections import defaultdict\n",
    "\n",
    "print(\"list()的預設值為\",list())\n",
    "d = defaultdict(list) \n",
    "\n",
    "print(d[\"a\"])  \n",
    "print(dict(d))"
   ]
  },
  {
   "cell_type": "markdown",
   "metadata": {},
   "source": [
    "### 應用情境-歸類同分學生"
   ]
  },
  {
   "cell_type": "code",
   "execution_count": 30,
   "metadata": {
    "scrolled": true
   },
   "outputs": [
    {
     "name": "stdout",
     "output_type": "stream",
     "text": [
      "70分 的學生有 David\n",
      "58分 的學生有 Mars,Amy\n",
      "90分 的學生有 Kelly\n",
      "40分 的學生有 Bob\n"
     ]
    }
   ],
   "source": [
    "from collections import defaultdict\n",
    "l = [[\"David\",70],[\"Mars\",58],[\"Kelly\",90],[\"Bob\",40],[\"Amy\",58]]\n",
    "d = defaultdict(list) \n",
    "for name,score in l:\n",
    "    d[score].append(name)\n",
    "\n",
    "for key in d:\n",
    "    print(\"{}分 的學生有 {}\".format(key,\",\".join(d[key])))"
   ]
  }
 ],
 "metadata": {
  "celltoolbar": "Slideshow",
  "kernelspec": {
   "display_name": "Python 3",
   "language": "python",
   "name": "python3"
  },
  "language_info": {
   "codemirror_mode": {
    "name": "ipython",
    "version": 3
   },
   "file_extension": ".py",
   "mimetype": "text/x-python",
   "name": "python",
   "nbconvert_exporter": "python",
   "pygments_lexer": "ipython3",
   "version": "3.6.12"
  }
 },
 "nbformat": 4,
 "nbformat_minor": 1
}
