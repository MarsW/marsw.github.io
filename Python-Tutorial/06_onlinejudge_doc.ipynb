{
 "cells": [
  {
   "cell_type": "markdown",
   "metadata": {
    "slideshow": {
     "slide_type": "slide"
    }
   },
   "source": [
    "# 06 - Online Judge & 相關查詢資源\n",
    "- Hacker Rank\n",
    "- CheckiO\n",
    "- 相關查詢資源"
   ]
  },
  {
   "cell_type": "markdown",
   "metadata": {
    "slideshow": {
     "slide_type": "slide"
    }
   },
   "source": [
    "線上解題系統，可以幫助你\n",
    "- 熟悉語法\n",
    "- 了解題目的說明(了解你的程式要做到怎樣的成果)\n",
    "- 把題目拆解成各步驟，並用程式碼達成"
   ]
  },
  {
   "cell_type": "markdown",
   "metadata": {
    "slideshow": {
     "slide_type": "slide"
    }
   },
   "source": [
    "## [Hacker Rank](https://www.hackerrank.com/domains/python/)：練習語法為主\n",
    "- [Introduction](https://www.hackerrank.com/domains/python/py-introduction) \n",
    "    - [Say \"Hello, World!\" With Python](https://www.hackerrank.com/challenges/py-hello-world)\n",
    "    - [Arithmetic Operators](https://www.hackerrank.com/challenges/python-arithmetic-operators)\n",
    "    - [Python: Division](https://www.hackerrank.com/challenges/python-division/problem)\n",
    "    - [Python If-Else](https://www.hackerrank.com/challenges/py-if-else)\n",
    "    - [Loops](https://www.hackerrank.com/challenges/python-loops/problem)\n",
    "- [Math](https://www.hackerrank.com/domains/python/py-math)\n",
    "    - [Integers Come In All Sizes](https://www.hackerrank.com/challenges/python-integers-come-in-all-sizes/problem)\n",
    "    - [Power - Mod Power](https://www.hackerrank.com/challenges/python-power-mod-power)\n",
    "- [String](https://www.hackerrank.com/domains/python?filters%5Bsubdomains%5D%5B%5D=py-strings)\n",
    "    - [What's Your Name?](https://www.hackerrank.com/challenges/whats-your-name/problem)\n",
    "    - [Text Wrap](https://www.hackerrank.com/challenges/text-wrap/problem)\n",
    "- [Basic Data Types](https://www.hackerrank.com/domains/python?filters%5Bsubdomains%5D%5B%5D=py-basic-data-types)\n",
    "    - [Finding the percentage](https://www.hackerrank.com/challenges/finding-the-percentage/problem)"
   ]
  },
  {
   "cell_type": "markdown",
   "metadata": {
    "slideshow": {
     "slide_type": "subslide"
    }
   },
   "source": [
    "### 注意\n",
    "- Hacker Rank 印出的格式要完全一樣\n",
    "    - 所以不能有「提示字」，該換行的也要換行\n",
    "- Hacker Rank 的測試就像有人在對你的程式輸入不同的數字\n",
    "    - 所以不能把程式寫死(直接印出範例的結果)\n",
    "    - 假設希望你做出加法的功能：\n",
    "        - 輸入3+5要得到8\n",
    "        - 下一次可能會輸入6+7，結果應該是13\n",
    "        - 正確的程式就是不管輸入什麼數字，都能執行出兩個數相加的結果"
   ]
  },
  {
   "cell_type": "markdown",
   "metadata": {
    "slideshow": {
     "slide_type": "slide"
    }
   },
   "source": [
    "## [CheckiO](https://py.checkio.org/)：解題為主\n",
    "- [Say Hi](https://py.checkio.org/zh-hans/mission/say-history/)\n",
    "- [The Most Numbers](https://py.checkio.org/zh-hans/mission/most-numbers/)\n",
    "- [Even the Last](https://py.checkio.org/zh-hans/mission/even-last/)\n",
    "- [First Word](https://py.checkio.org/zh-hans/mission/first-word/)\n",
    "- [Second Index](https://py.checkio.org/zh-hans/mission/second-index/)\n",
    "- [Index Power](https://py.checkio.org/zh-hans/mission/index-power/)\n",
    "- [Digits Multiplication](https://py.checkio.org/zh-hans/mission/digits-multiplication/)\n",
    "- [The Most Frequent](https://py.checkio.org/zh-hans/mission/the-most-frequent/)\n",
    "- [Fizz Buzz](https://py.checkio.org/zh-hans/mission/fizz-buzz/)\n",
    "- [Right to Left](https://py.checkio.org/mission/right-to-left/)：把right變成left  \n",
    "- [Non-unique Elements](https://py.checkio.org/mission/non-unique-elements/)：刪除只出現一次的元素  "
   ]
  },
  {
   "cell_type": "markdown",
   "metadata": {
    "slideshow": {
     "slide_type": "subslide"
    }
   },
   "source": [
    "- [Verify anagrams](https://py.checkio.org/mission/verify-anagrams/)：給的兩組單字，將字母排列組合後是否相等  \n",
    "- [Secret Message](https://py.checkio.org/mission/secret-message/)：取出單字第一個字母為大寫的組合  \n",
    "- [Monkey Typing](https://py.checkio.org/zh-hans/mission/monkey-typing/)\n",
    "- [The Most Wanted Letter](https://py.checkio.org/zh-hans/mission/most-wanted-letter/)\n",
    "- [The Fastest Horse](https://py.checkio.org/zh-hans/mission/the-fastest-horse/)\n",
    "- [All the Same](https://py.checkio.org/zh-hans/mission/all-the-same/)\n",
    "- [Time Converter (12h to 24h)](https://py.checkio.org/zh-hans/mission/time-converter-12h-to-24h/)\n",
    "- [Date and Time Converter](https://py.checkio.org/zh-hans/mission/date-and-time-converter/)\n",
    "- [Long Non Repeat](https://py.checkio.org/zh-hans/mission/long-non-repeat/)\n",
    "- [Worth of Words](https://py.checkio.org/zh-hans/mission/worth-of-words/)\n",
    "- [Reverse Roman Numerals](https://py.checkio.org/zh-hans/mission/reverse-roman-numerals/)：用字典會很方便\n",
    "- [The Ship Teams](https://py.checkio.org/zh-hans/mission/the-ship-teams/)\n",
    "- [Best Stock](https://py.checkio.org/zh-hans/mission/best-stock/)\n",
    "- [Popular Words](https://py.checkio.org/zh-hans/mission/popular-words/)\n",
    "- [Xs and Os Referee](https://py.checkio.org/zh-hans/mission/x-o-referee/)"
   ]
  },
  {
   "cell_type": "markdown",
   "metadata": {
    "slideshow": {
     "slide_type": "subslide"
    }
   },
   "source": [
    "### 注意：\n",
    "寫程式的地方是在 `def` 縮排的區域：\n",
    "\n",
    "``` python\n",
    "def XXXX(ooo):\n",
    "    # 寫程式的地方\n",
    "    # 寫程式的地方\n",
    "    # 寫程式的地方\n",
    "if __name__ == '__main__':\n",
    "    ...\n",
    "    ...\n",
    "    ...\n",
    "\n",
    "```"
   ]
  },
  {
   "cell_type": "markdown",
   "metadata": {
    "slideshow": {
     "slide_type": "slide"
    }
   },
   "source": [
    "# 相關查詢資源\n",
    "- [官方文件](https://docs.python.org/3/library/index.html)\n",
    "- [w3schools](https://www.w3schools.com/python/)\n",
    "    - 部分中文翻譯 [w3big](http://www.w3big.com/zh-TW/python3/python3-stdlib.html)"
   ]
  }
 ],
 "metadata": {
  "celltoolbar": "Slideshow",
  "kernelspec": {
   "display_name": "Python 3",
   "language": "python",
   "name": "python3"
  },
  "language_info": {
   "codemirror_mode": {
    "name": "ipython",
    "version": 3
   },
   "file_extension": ".py",
   "mimetype": "text/x-python",
   "name": "python",
   "nbconvert_exporter": "python",
   "pygments_lexer": "ipython3",
   "version": "3.6.3"
  }
 },
 "nbformat": 4,
 "nbformat_minor": 2
}
