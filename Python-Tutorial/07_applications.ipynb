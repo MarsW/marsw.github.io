{
 "cells": [
  {
   "cell_type": "markdown",
   "metadata": {
    "slideshow": {
     "slide_type": "slide"
    }
   },
   "source": [
    "# 07 - 應用\n",
    "- 自然語言處理 - jieba 中文分詞\n",
    "- API 使用 - LINE Notify\n",
    "- API 使用 - Google Maps 與 json 解析\n",
    "- 本機環境安裝\n",
    "- 檔案總管操作 - shutil, os\n",
    "- 圖片處理 - PIL(Pillow)\n",
    "- 檔案讀寫 - open\n",
    "- 綜合應用 - 圖片下載器"
   ]
  },
  {
   "cell_type": "markdown",
   "metadata": {
    "slideshow": {
     "slide_type": "slide"
    }
   },
   "source": [
    "# 自然語言處理 - [jieba 中文分詞](https://github.com/fxsjy/jieba)"
   ]
  },
  {
   "cell_type": "code",
   "execution_count": 1,
   "metadata": {
    "scrolled": true,
    "slideshow": {
     "slide_type": "subslide"
    }
   },
   "outputs": [
    {
     "name": "stderr",
     "output_type": "stream",
     "text": [
      "Building prefix dict from the default dictionary ...\n",
      "Loading model from cache /var/folders/54/vtjvmkpn2fq48gjfxh1xl3hr0000gn/T/jieba.cache\n",
      "Loading model cost 1.209 seconds.\n",
      "Prefix dict has been built succesfully.\n"
     ]
    },
    {
     "name": "stdout",
     "output_type": "stream",
     "text": [
      "Full Mode: 2012/ 年/ 我/ 創/ 立/ 了/ 一/ 間/ 公司/ / / 來/ 教女/ 女孩/ 寫/ 程式\n",
      "Search Mode: 2012/ 年/ 我/ 創立/ 了/ 一間/ 公司/  / 來教/ 女孩/ 寫/ 程式\n"
     ]
    }
   ],
   "source": [
    "import jieba\n",
    "word = \"2012年我創立了一間公司 來教女孩寫程式\"\n",
    "seg_list = jieba.cut(word, cut_all=True)\n",
    "print(\"Full Mode: \" + \"/ \".join(seg_list)) \n",
    "\n",
    "seg_list = jieba.cut_for_search(word)\n",
    "print(\"Search Mode: \" + \"/ \".join(seg_list)) "
   ]
  },
  {
   "cell_type": "markdown",
   "metadata": {
    "slideshow": {
     "slide_type": "fragment"
    }
   },
   "source": [
    "試試看，怎麼使用 jieba 把切出來的詞標註詞性"
   ]
  },
  {
   "cell_type": "markdown",
   "metadata": {
    "slideshow": {
     "slide_type": "slide"
    }
   },
   "source": [
    "# API 使用 - LINE Notify"
   ]
  },
  {
   "cell_type": "markdown",
   "metadata": {
    "slideshow": {
     "slide_type": "subslide"
    }
   },
   "source": [
    "## 建立 LINE Notify 個人權杖\n",
    "[LINE Notify](https://notify-bot.line.me/zh_TW/) 登入   \n",
    "=> [個人頁面](https://notify-bot.line.me/my/)     \n",
    "=> 發行權杖   \n",
    "=> 選擇 「透過1對1聊天接收LINE Notify的通知」或是任何已存在群組  \n",
    "=> 發行  \n",
    "=> 複製權杖\n",
    "\n",
    "> 權杖只會出現一次，請記得複製、保存好"
   ]
  },
  {
   "cell_type": "markdown",
   "metadata": {
    "slideshow": {
     "slide_type": "subslide"
    }
   },
   "source": [
    "<img src=\"images/07_line01.png\" width=\"80%\"/>"
   ]
  },
  {
   "cell_type": "markdown",
   "metadata": {
    "slideshow": {
     "slide_type": "subslide"
    }
   },
   "source": [
    "<img src=\"images/07_line02.png\" width=\"80%\"/>"
   ]
  },
  {
   "cell_type": "markdown",
   "metadata": {
    "slideshow": {
     "slide_type": "subslide"
    }
   },
   "source": [
    "## Coding Time"
   ]
  },
  {
   "cell_type": "code",
   "execution_count": 2,
   "metadata": {
    "collapsed": true,
    "slideshow": {
     "slide_type": "-"
    }
   },
   "outputs": [],
   "source": [
    "import requests\n",
    "token = \"你的權杖\"\n",
    "msg = \"用 Python 發 LINE Notify 通知\"\n",
    "\n",
    "url = \"https://notify-api.line.me/api/notify\"\n",
    "headers = {\n",
    "    \"Authorization\": \"Bearer \" + token, \n",
    "    \"Content-Type\" : \"application/x-www-form-urlencoded\"\n",
    "}\n",
    "payload = {'message': msg}\n",
    "r = requests.post(url, headers = headers, params = payload)"
   ]
  },
  {
   "cell_type": "markdown",
   "metadata": {
    "slideshow": {
     "slide_type": "slide"
    }
   },
   "source": [
    "# API 使用 - Google Maps"
   ]
  },
  {
   "cell_type": "markdown",
   "metadata": {
    "slideshow": {
     "slide_type": "subslide"
    }
   },
   "source": [
    "## 建立 Google API 金鑰\n",
    "[API 管理員](https://console.developers.google.com/?hl=zh-tw) > 憑證 > 建立專案 > 建立憑證 > API 金鑰 > 複製金鑰> 關閉\n",
    "![](http://tw.pyladies.com/~marsw/slide_image/google_api_key.png)"
   ]
  },
  {
   "cell_type": "markdown",
   "metadata": {
    "slideshow": {
     "slide_type": "subslide"
    }
   },
   "source": [
    "## 啟用 Google 各服務 API\n",
    "[API程式庫](https://console.developers.google.com/apis/library?project=api-project-846145501756&folder&organizationId) > [Places API](https://console.developers.google.com/apis/library/places-backend.googleapis.com?project=api-project-846145501756&folder&organizationId) > 啟用\n",
    "<img src=\"images/07_gm.png\" width=\"60%\"/>"
   ]
  },
  {
   "cell_type": "markdown",
   "metadata": {
    "slideshow": {
     "slide_type": "subslide"
    }
   },
   "source": [
    "## 測試「[地點自動完成](https://developers.google.com/places/web-service/autocomplete?hl=zh-tw)」功能\n",
    "https://maps.googleapis.com/maps/api/place/autocomplete/json?input=天瓏書局&key=你的金鑰\n",
    "\n",
    "從文件中找找看，\n",
    "\n",
    "- 「地點的營業時間」、「找尋鄰近地點」的 URL 為？\n",
    "- 需要傳進去的參數是？"
   ]
  },
  {
   "cell_type": "markdown",
   "metadata": {
    "slideshow": {
     "slide_type": "notes"
    }
   },
   "source": [
    "https://maps.googleapis.com/maps/api/place/details/json?placeid=地點編號&key=你的金鑰\n",
    "\n",
    "https://maps.googleapis.com/maps/api/place/nearbysearch/json?location=緯度,經度&key=你的金鑰&rankby=distance&types=police&language=zh-TW"
   ]
  },
  {
   "cell_type": "markdown",
   "metadata": {
    "slideshow": {
     "slide_type": "subslide"
    }
   },
   "source": [
    "## [json 解析](https://docs.python.org/3/library/json.html)\n",
    "- `json.loads(字串)`：json格式字串 -> python字典型態\n",
    "- `json.dumps(字典)`：python字典型態 -> json格式字串\n",
    "\n",
    "> 輔助工具：[Json Parser Online](http://json.parser.online.fr/)"
   ]
  },
  {
   "cell_type": "code",
   "execution_count": 3,
   "metadata": {},
   "outputs": [
    {
     "name": "stdout",
     "output_type": "stream",
     "text": [
      "Taiwan, Taipei City, Zhongzheng District, Section 1, Chongqing South Road, 天瓏書局\n"
     ]
    }
   ],
   "source": [
    "import requests\n",
    "import json\n",
    "url = \"https://maps.googleapis.com/maps/api/place/autocomplete/json?input=天瓏書局&key=你的金鑰\"\n",
    "rep = requests.get(url) # 回傳的Response物件，包含Header、網頁原始碼\n",
    "html = rep.text         #      Response物件，網頁原始碼的部分\n",
    "json_data = json.loads(html)\n",
    "print (json_data['predictions'][0]['description'])"
   ]
  },
  {
   "cell_type": "markdown",
   "metadata": {
    "slideshow": {
     "slide_type": "subslide"
    }
   },
   "source": [
    "### You can do more~\n",
    "- 解析出地點的編號\n",
    "- 拿取地點的營業時間、經緯度\n",
    "- 獲得周邊地點資訊"
   ]
  },
  {
   "cell_type": "markdown",
   "metadata": {
    "slideshow": {
     "slide_type": "slide"
    }
   },
   "source": [
    "# 本機環境安裝\n",
    "程式碼裡面有 \n",
    "```python \n",
    "import XXX\n",
    "```\n",
    "只有 `json`不需要安裝，也就是其餘的都需要自行安裝，  \n",
    "而因為 Python 在不同環境上有不同的設定方式，  \n",
    "全部自行設定會頗為麻煩，建議使用 [Anaconda](https://www.anaconda.com/download/)>[安裝教學](http://tw.pyladies.com/~marsw/jupyter_install.slides.html#/)\n",
    "\n",
    "- 幾乎已經打包好常用的套件\n",
    "- 方便離線操做：處理自己電腦上的檔案很是方便！\n",
    "- jieba 還是需要自行安裝：`pip install jieba`"
   ]
  },
  {
   "cell_type": "markdown",
   "metadata": {
    "slideshow": {
     "slide_type": "slide"
    }
   },
   "source": [
    "# 檔案總管操作 - [os](https://docs.python.org/3/library/os.html#), [shutil](https://docs.python.org/3/library/shutil.html)"
   ]
  },
  {
   "cell_type": "code",
   "execution_count": 4,
   "metadata": {
    "slideshow": {
     "slide_type": "subslide"
    }
   },
   "outputs": [
    {
     "name": "stdout",
     "output_type": "stream",
     "text": [
      "['test5.txt', 'temp', '.DS_Store', 'test1.txt', 'photo.jpg', '07_applications.ipynb', 'myfile.txt', '.ipynb_checkpoints', 'resize.jpg', 'image2.jpg', 'my_dir', 'image.jpg']\n",
      "True False test5.txt\n",
      "False True temp\n",
      "True False .DS_Store\n",
      "True False test1.txt\n",
      "True False photo.jpg\n",
      "True False 07_applications.ipynb\n",
      "True False myfile.txt\n",
      "False True .ipynb_checkpoints\n",
      "True False resize.jpg\n",
      "True False image2.jpg\n",
      "False True my_dir\n",
      "True False image.jpg\n",
      "['test5.txt', 'temp', '.DS_Store', 'test1.txt', 'photo.jpg', '07_applications.ipynb', 'myfile.txt', '.ipynb_checkpoints', 'resize.jpg', 'image2.jpg', 'image.jpg']\n"
     ]
    }
   ],
   "source": [
    "### 資料夾處理\n",
    "import os, shutil\n",
    "print(os.listdir())\n",
    "for name in os.listdir():\n",
    "    print(os.path.isfile(name),os.path.isdir(name),name)\n",
    "\n",
    "dir_name = \"my_dir\"\n",
    "if dir_name not in os.listdir():\n",
    "    os.makedirs(dir_name)\n",
    "else:\n",
    "    shutil.rmtree(dir_name)\n",
    "print(os.listdir())"
   ]
  },
  {
   "cell_type": "code",
   "execution_count": 5,
   "metadata": {
    "slideshow": {
     "slide_type": "subslide"
    }
   },
   "outputs": [
    {
     "name": "stdout",
     "output_type": "stream",
     "text": [
      "['test3.txt', 'test4.txt']\n"
     ]
    }
   ],
   "source": [
    "### 檔案操作 (請先建立一個名稱為「test1.txt」的檔案)\n",
    "import os, shutil\n",
    "filename1 = \"test1.txt\"\n",
    "filename2 = \"test2.txt\"\n",
    "filename3 = \"test3.txt\"\n",
    "filename4 = \"test4.txt\"\n",
    "filename5 = \"test5.txt\"\n",
    "del_list = [filename3,filename4]\n",
    "print(del_list)\n",
    "\n",
    "if filename1 in os.listdir():\n",
    "    shutil.copyfile(filename1,filename2)\n",
    "    shutil.copyfile(filename1,filename3)\n",
    "    shutil.copyfile(filename1,filename4)\n",
    "\n",
    "if filename1 in os.listdir():\n",
    "    shutil.move(filename2,filename5)\n",
    "\n",
    "for name in os.listdir():\n",
    "    if name in [filename3,filename4]:\n",
    "        os.remove(name)"
   ]
  },
  {
   "cell_type": "markdown",
   "metadata": {
    "slideshow": {
     "slide_type": "slide"
    }
   },
   "source": [
    "# 檔案讀寫 - [open](https://docs.python.org/3/tutorial/inputoutput.html#reading-and-writing-files)"
   ]
  },
  {
   "cell_type": "code",
   "execution_count": 6,
   "metadata": {
    "collapsed": true,
    "slideshow": {
     "slide_type": "subslide"
    }
   },
   "outputs": [],
   "source": [
    "fo = open(\"myfile.txt\",\"w\")\n",
    "fo.write(\"Hello\")\n",
    "fo.close()"
   ]
  },
  {
   "cell_type": "code",
   "execution_count": 7,
   "metadata": {
    "collapsed": true
   },
   "outputs": [],
   "source": [
    "# 非文字檔要在後面加上 \"b\" (請先建立一個名稱為「image.jpg」的檔案)\n",
    "fi = open(\"image.jpg\",\"rb\")\n",
    "fo = open(\"image2.jpg\",\"wb\")\n",
    "content = fi.read()\n",
    "fo.write(content)\n",
    "fi.close()\n",
    "fo.close()"
   ]
  },
  {
   "cell_type": "code",
   "execution_count": 8,
   "metadata": {
    "collapsed": true
   },
   "outputs": [],
   "source": [
    "import requests\n",
    "img_src = \"http://4.bp.blogspot.com/-6HCy6DZdqX4/U_3dySRjKPI/AAAAAAAAclI/5e4V6d7t56E/s1600/Photos4.jpg\"\n",
    "img_response = requests.get(img_src)\n",
    "img = img_response.content\n",
    "fo = open(\"photo.jpg\",\"wb\")\n",
    "fo.write(img)\n",
    "fo.close()"
   ]
  },
  {
   "cell_type": "markdown",
   "metadata": {
    "slideshow": {
     "slide_type": "slide"
    }
   },
   "source": [
    "# 圖片處理 - [PIL(Pillow)](https://pillow.readthedocs.io)"
   ]
  },
  {
   "cell_type": "code",
   "execution_count": 9,
   "metadata": {
    "scrolled": true
   },
   "outputs": [
    {
     "name": "stdout",
     "output_type": "stream",
     "text": [
      "2560 1600\n",
      "800 500\n"
     ]
    }
   ],
   "source": [
    "from PIL import Image\n",
    "# 再用 PIL 的 Image 處理\n",
    "image = Image.open(\"image.jpg\")\n",
    "width = int(image.size[0])\n",
    "height = int(image.size[1])\n",
    "print(width,height)\n",
    "\n",
    "# resize\n",
    "image.thumbnail((800,800)) \n",
    "image.save(\"resize.jpg\", 'JPEG', quality=90)\n",
    "width = int(image.size[0])\n",
    "height = int(image.size[1])\n",
    "print(width,height)"
   ]
  },
  {
   "cell_type": "markdown",
   "metadata": {
    "slideshow": {
     "slide_type": "slide"
    }
   },
   "source": [
    "# 綜合應用 - 圖片下載器\n",
    "- 把前面 API 使用到的 `requests`(抓取網址的內容)\n",
    "- 檔案總管操作-建立資料夾\n",
    "- 檔案讀寫-建立圖片檔案\n",
    "\n",
    "### You can do more~\n",
    "- 可以再結合 圖片處理 - PIL(Pillow)，判斷圖片大小\n",
    "- 再用 檔案總管操作-檔案操作，把太小的圖片刪掉"
   ]
  },
  {
   "cell_type": "code",
   "execution_count": 10,
   "metadata": {
    "collapsed": true,
    "slideshow": {
     "slide_type": "subslide"
    }
   },
   "outputs": [],
   "source": [
    "import requests,os\n",
    "\n",
    "### 讀取網頁內容\n",
    "url = \"http://blog.marsw.tw/\"\n",
    "response = requests.get(url)\n",
    "html = response.text\n",
    "\n",
    "### 建立資料夾\n",
    "dir_name = \"photo_dir\"\n",
    "if dir_name not in os.listdir():\n",
    "    os.makedirs(dir_name)\n",
    "\n",
    "### 把圖片網址解析出來\n",
    "for temp in html.split(\"<img\"):\n",
    "    line = temp.split(\"/>\")[0]\n",
    "    if (\"src=\" in line):\n",
    "        img_src = line.replace(\"\\'\",\"\\\"\").split(\"src=\\\"\")[-1].split(\"\\\"\")[0]\n",
    "        if ( (\".jpeg\" in img_src) or (\".jpg\" in img_src) \n",
    "                or (\".JPG\" in img_src) or (\".png\" in img_src) ) :\n",
    "            ### 抓取圖片\n",
    "            img_response = requests.get(img_src)\n",
    "            img_binary = img_response.content\n",
    "\n",
    "            ### 建立圖片檔案\n",
    "            filename=img_src.split(\"/\")[-1]\n",
    "            filepath= \"{}/{}\".format(dir_name,filename)\n",
    "            fo = open(filepath,\"wb\")\n",
    "            fo.write(img_binary)\n",
    "            fo.close()"
   ]
  }
 ],
 "metadata": {
  "celltoolbar": "Slideshow",
  "kernelspec": {
   "display_name": "Python 3",
   "language": "python",
   "name": "python3"
  },
  "language_info": {
   "codemirror_mode": {
    "name": "ipython",
    "version": 3
   },
   "file_extension": ".py",
   "mimetype": "text/x-python",
   "name": "python",
   "nbconvert_exporter": "python",
   "pygments_lexer": "ipython3",
   "version": "3.6.3"
  }
 },
 "nbformat": 4,
 "nbformat_minor": 2
}
