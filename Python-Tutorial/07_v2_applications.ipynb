{
 "cells": [
  {
   "cell_type": "markdown",
   "metadata": {
    "slideshow": {
     "slide_type": "slide"
    }
   },
   "source": [
    "# 07 - 應用\n",
    "- 自然語言處理 - jieba 中文分詞\n",
    "- API 使用 - LINE Notify\n",
    "- API 使用 - Dcard 與 json 解析\n",
    "- 檔案讀寫 - open\n",
    "- 檔案總管操作 - shutil, os\n",
    "- 圖片處理 - PIL(Pillow)\n",
    "- 綜合應用 - 圖片下載器"
   ]
  },
  {
   "cell_type": "markdown",
   "metadata": {
    "slideshow": {
     "slide_type": "slide"
    }
   },
   "source": [
    "# 自然語言處理 - [jieba 中文分詞](https://github.com/fxsjy/jieba)"
   ]
  },
  {
   "cell_type": "code",
   "execution_count": 1,
   "metadata": {
    "scrolled": true,
    "slideshow": {
     "slide_type": "subslide"
    }
   },
   "outputs": [
    {
     "name": "stderr",
     "output_type": "stream",
     "text": [
      "Building prefix dict from the default dictionary ...\n",
      "Loading model from cache /var/folders/54/vtjvmkpn2fq48gjfxh1xl3hr0000gn/T/jieba.cache\n",
      "Loading model cost 1.257 seconds.\n",
      "Prefix dict has been built succesfully.\n"
     ]
    },
    {
     "name": "stdout",
     "output_type": "stream",
     "text": [
      "Full Mode: 2012/ 年/ 我/ 創/ 立/ 了/ 一/ 間/ 公司/ / / 來/ 教女/ 女孩/ 寫/ 程式\n",
      "Search Mode: 2012/ 年/ 我/ 創立/ 了/ 一間/ 公司/  / 來教/ 女孩/ 寫/ 程式\n"
     ]
    }
   ],
   "source": [
    "import jieba\n",
    "word = \"2012年我創立了一間公司 來教女孩寫程式\"\n",
    "seg_list = jieba.cut(word, cut_all=True)\n",
    "print(\"Full Mode: \" + \"/ \".join(seg_list)) \n",
    "\n",
    "seg_list = jieba.cut_for_search(word)\n",
    "print(\"Search Mode: \" + \"/ \".join(seg_list)) "
   ]
  },
  {
   "cell_type": "markdown",
   "metadata": {
    "slideshow": {
     "slide_type": "fragment"
    }
   },
   "source": [
    "試試看，怎麼使用 jieba 把切出來的詞標註詞性"
   ]
  },
  {
   "cell_type": "markdown",
   "metadata": {
    "slideshow": {
     "slide_type": "slide"
    }
   },
   "source": [
    "# API 使用 - LINE Notify"
   ]
  },
  {
   "cell_type": "markdown",
   "metadata": {
    "slideshow": {
     "slide_type": "subslide"
    }
   },
   "source": [
    "## 建立 LINE Notify 個人權杖\n",
    "[LINE Notify](https://notify-bot.line.me/zh_TW/) 登入   \n",
    "=> [個人頁面](https://notify-bot.line.me/my/)     \n",
    "=> 發行權杖   \n",
    "=> 選擇 「透過1對1聊天接收LINE Notify的通知」或是任何已存在群組  \n",
    "=> 發行  \n",
    "=> 複製權杖\n",
    "\n",
    "> 權杖只會出現一次，請記得複製、保存好"
   ]
  },
  {
   "cell_type": "markdown",
   "metadata": {
    "slideshow": {
     "slide_type": "subslide"
    }
   },
   "source": [
    "<img src=\"images/07_line01.png\" width=\"80%\"/>"
   ]
  },
  {
   "cell_type": "markdown",
   "metadata": {
    "slideshow": {
     "slide_type": "subslide"
    }
   },
   "source": [
    "<img src=\"images/07_line02.png\" width=\"80%\"/>"
   ]
  },
  {
   "cell_type": "markdown",
   "metadata": {
    "slideshow": {
     "slide_type": "subslide"
    }
   },
   "source": [
    "## Coding Time"
   ]
  },
  {
   "cell_type": "code",
   "execution_count": 2,
   "metadata": {
    "slideshow": {
     "slide_type": "-"
    }
   },
   "outputs": [],
   "source": [
    "import requests\n",
    "token = \"你的權杖\"\n",
    "msg = \"用 Python 發 LINE Notify 通知\"\n",
    "\n",
    "url = \"https://notify-api.line.me/api/notify\"\n",
    "headers = {\n",
    "    \"Authorization\": \"Bearer \" + token, \n",
    "    \"Content-Type\" : \"application/x-www-form-urlencoded\"\n",
    "}\n",
    "payload = {'message': msg}\n",
    "r = requests.post(url, headers = headers, params = payload)"
   ]
  },
  {
   "cell_type": "markdown",
   "metadata": {
    "slideshow": {
     "slide_type": "slide"
    }
   },
   "source": [
    "# API 使用 - Dcard"
   ]
  },
  {
   "cell_type": "markdown",
   "metadata": {
    "slideshow": {
     "slide_type": "subslide"
    }
   },
   "source": [
    "我們先點開來看看這個連結 http://dcard.tw/_api/forums ，  \n",
    "可以看到 Dcard 所有的看板(看板列表) "
   ]
  },
  {
   "cell_type": "markdown",
   "metadata": {
    "slideshow": {
     "slide_type": "subslide"
    }
   },
   "source": [
    "## [json 解析](https://docs.python.org/3/library/json.html)\n",
    "- `json.loads(字串)`：json格式字串 -> python字典型態\n",
    "- `json.dumps(字典)`：python字典型態 -> json格式字串\n",
    "\n",
    "> 輔助工具：[Json Parser Online](http://json.parser.online.fr/)"
   ]
  },
  {
   "cell_type": "code",
   "execution_count": 3,
   "metadata": {},
   "outputs": [
    {
     "name": "stdout",
     "output_type": "stream",
     "text": [
      "午夜實驗室\n"
     ]
    }
   ],
   "source": [
    "import requests\n",
    "import json\n",
    "url = \"https://www.dcard.tw/_api/forums\"\n",
    "rep = requests.get(url) # 回傳的Response物件，包含Header、網頁原始碼\n",
    "html = rep.text         #      Response物件，網頁原始碼的部分\n",
    "json_data = json.loads(html)\n",
    "print (json_data[0]['name'])"
   ]
  },
  {
   "cell_type": "markdown",
   "metadata": {
    "slideshow": {
     "slide_type": "subslide"
    }
   },
   "source": [
    "### You can do more~\n",
    "- 改寫以上程式印出[寵物版](https://www.dcard.tw/f/pet)的：英文版名、看板描述、有哪些主題標籤\n",
    "- 試試看用補充說明的網址，用程式印出寵物版的文章列表：文章編號、文章名稱\n",
    "- 有了文章編號又可以使用程式進一步做更多其他的應用\n",
    "\n",
    "### 補充說明\n",
    "這個是現在網站常用的開發方式：  \n",
    "後端單純將資料傳出，前端再負責呈現畫面，  \n",
    "因此找到後端跟前端溝通的網址，就可以只要處理資料，  \n",
    "不需要理會網頁畫面看到的圖片配色版型...etc.  \n",
    "這個網址我們常稱為「API」。\n",
    "<table align=\"left\">\n",
    "<tr><td>看板列表</td><td>http://dcard.tw/_api/forums</td></tr>\n",
    "<tr><td>看板文章列表</td><td>http://dcard.tw/_api/forums/{看板名稱}/posts</td></tr>\n",
    "<tr><td>文章內文</td><td>http://dcard.tw/_api/posts/{文章編號}</td></tr>\n",
    "<tr><td>文章內引用連結</td><td>http://dcard.tw/_api/posts/{文章編號}/links</td></tr>\n",
    "<tr><td>文章內留言</td><td>http://dcard.tw/_api/posts/{文章編號}/comments</td></tr>\n",
    "</table>"
   ]
  },
  {
   "cell_type": "markdown",
   "metadata": {
    "slideshow": {
     "slide_type": "slide"
    }
   },
   "source": [
    "# 檔案讀寫 - [open](https://docs.python.org/3/tutorial/inputoutput.html#reading-and-writing-files)"
   ]
  },
  {
   "cell_type": "code",
   "execution_count": 4,
   "metadata": {
    "collapsed": true,
    "slideshow": {
     "slide_type": "subslide"
    }
   },
   "outputs": [],
   "source": [
    "fo = open(\"test1.txt\",\"w\") \n",
    "fo.write(\"Hello\")\n",
    "fo.close()"
   ]
  },
  {
   "cell_type": "code",
   "execution_count": 5,
   "metadata": {
    "collapsed": true,
    "slideshow": {
     "slide_type": "fragment"
    }
   },
   "outputs": [],
   "source": [
    "# 非文字檔要在後面加上 \"b\" \n",
    "import requests\n",
    "img_src = \"http://4.bp.blogspot.com/-6HCy6DZdqX4/U_3dySRjKPI/AAAAAAAAclI/5e4V6d7t56E/s1600/Photos4.jpg\"\n",
    "img_response = requests.get(img_src)\n",
    "img = img_response.content\n",
    "fo = open(\"image.jpg\",\"wb\")\n",
    "fo.write(img)\n",
    "fo.close()"
   ]
  },
  {
   "cell_type": "code",
   "execution_count": 6,
   "metadata": {
    "collapsed": true,
    "slideshow": {
     "slide_type": "fragment"
    }
   },
   "outputs": [],
   "source": [
    "fi = open(\"image.jpg\",\"rb\")\n",
    "fo = open(\"image_copy.jpg\",\"wb\")\n",
    "content = fi.read()\n",
    "fo.write(content)\n",
    "fi.close()\n",
    "fo.close()"
   ]
  },
  {
   "cell_type": "markdown",
   "metadata": {
    "slideshow": {
     "slide_type": "slide"
    }
   },
   "source": [
    "# 檔案總管操作 - [os](https://docs.python.org/3/library/os.html#), [shutil](https://docs.python.org/3/library/shutil.html)"
   ]
  },
  {
   "cell_type": "code",
   "execution_count": 7,
   "metadata": {
    "slideshow": {
     "slide_type": "subslide"
    }
   },
   "outputs": [
    {
     "name": "stdout",
     "output_type": "stream",
     "text": [
      "['02_conditional.slides.html', '.DS_Store', 'test1.txt', '02_conditional.ipynb', 'images', '04_loop.ipynb', '07_v2_applications.ipynb', '01_basicObject_IO.slides.html', '07_v2_applications.slides.html', '06_onlinejudge_doc.ipynb', '07_applications.slides.html', 'image_copy.jpg', '08_resources.ipynb', '08_resources.slides.html', '01_basicObject_IO.ipynb', '05_dictionary.ipynb', '07_applications.ipynb', '03_list.slides.html', '00_intro.ipynb', '06_onlinejudge_doc.slides.html', 'photo_dir', '00_intro.slides.html', '03_list.ipynb', '.ipynb_checkpoints', '04_loop.slides.html', 'reveal.js', '05_dictionary.slides.html', 'image.jpg']\n",
      "True False 02_conditional.slides.html\n",
      "True False .DS_Store\n",
      "True False test1.txt\n",
      "True False 02_conditional.ipynb\n",
      "False True images\n",
      "True False 04_loop.ipynb\n",
      "True False 07_v2_applications.ipynb\n",
      "True False 01_basicObject_IO.slides.html\n",
      "True False 07_v2_applications.slides.html\n",
      "True False 06_onlinejudge_doc.ipynb\n",
      "True False 07_applications.slides.html\n",
      "True False image_copy.jpg\n",
      "True False 08_resources.ipynb\n",
      "True False 08_resources.slides.html\n",
      "True False 01_basicObject_IO.ipynb\n",
      "True False 05_dictionary.ipynb\n",
      "True False 07_applications.ipynb\n",
      "True False 03_list.slides.html\n",
      "True False 00_intro.ipynb\n",
      "True False 06_onlinejudge_doc.slides.html\n",
      "False True photo_dir\n",
      "True False 00_intro.slides.html\n",
      "True False 03_list.ipynb\n",
      "False True .ipynb_checkpoints\n",
      "True False 04_loop.slides.html\n",
      "False True reveal.js\n",
      "True False 05_dictionary.slides.html\n",
      "True False image.jpg\n",
      "['02_conditional.slides.html', '.DS_Store', 'test1.txt', '02_conditional.ipynb', 'images', '04_loop.ipynb', '07_v2_applications.ipynb', '01_basicObject_IO.slides.html', '07_v2_applications.slides.html', '06_onlinejudge_doc.ipynb', '07_applications.slides.html', 'image_copy.jpg', '08_resources.ipynb', '08_resources.slides.html', '01_basicObject_IO.ipynb', '05_dictionary.ipynb', '07_applications.ipynb', '03_list.slides.html', '00_intro.ipynb', '06_onlinejudge_doc.slides.html', 'photo_dir', '00_intro.slides.html', '03_list.ipynb', '.ipynb_checkpoints', '04_loop.slides.html', 'reveal.js', '05_dictionary.slides.html', 'my_dir', 'image.jpg']\n"
     ]
    }
   ],
   "source": [
    "### 資料夾處理\n",
    "import os, shutil\n",
    "print(os.listdir())\n",
    "for name in os.listdir():\n",
    "    print(os.path.isfile(name),os.path.isdir(name),name)\n",
    "\n",
    "dir_name = \"my_dir\"\n",
    "if dir_name not in os.listdir():\n",
    "    os.makedirs(dir_name)\n",
    "else:\n",
    "    shutil.rmtree(dir_name)\n",
    "print(os.listdir())"
   ]
  },
  {
   "cell_type": "code",
   "execution_count": 8,
   "metadata": {
    "slideshow": {
     "slide_type": "subslide"
    }
   },
   "outputs": [
    {
     "name": "stdout",
     "output_type": "stream",
     "text": [
      "['test3.txt', 'test4.txt']\n"
     ]
    }
   ],
   "source": [
    "### 檔案操作\n",
    "import os, shutil\n",
    "filename1 = \"test1.txt\" \n",
    "filename2 = \"test2.txt\"\n",
    "filename3 = \"test3.txt\"\n",
    "filename4 = \"test4.txt\"\n",
    "filename5 = \"test5.txt\"\n",
    "del_list = [filename3,filename4]\n",
    "print(del_list)\n",
    "\n",
    "# 前面已經有建立一個 test1.txt 檔案\n",
    "if filename1 in os.listdir():\n",
    "    shutil.copyfile(filename1,filename2)\n",
    "    shutil.copyfile(filename1,filename3)\n",
    "    shutil.copyfile(filename1,filename4)\n",
    "\n",
    "if filename1 in os.listdir():\n",
    "    shutil.move(filename2,filename5)\n",
    "\n",
    "for name in os.listdir():\n",
    "    if name in [filename3,filename4]:\n",
    "        os.remove(name)"
   ]
  },
  {
   "cell_type": "markdown",
   "metadata": {
    "slideshow": {
     "slide_type": "slide"
    }
   },
   "source": [
    "# 圖片處理 - [PIL(Pillow)](https://pillow.readthedocs.io)"
   ]
  },
  {
   "cell_type": "code",
   "execution_count": 9,
   "metadata": {
    "scrolled": true
   },
   "outputs": [
    {
     "name": "stdout",
     "output_type": "stream",
     "text": [
      "1600 1067\n",
      "800 533\n"
     ]
    }
   ],
   "source": [
    "from PIL import Image\n",
    "# 再用 PIL 的 Image 處理\n",
    "# 前面已經有建立一個 image.jpg 檔案\n",
    "image = Image.open(\"image.jpg\")\n",
    "width = int(image.size[0])\n",
    "height = int(image.size[1])\n",
    "print(width,height)\n",
    "\n",
    "# resize\n",
    "image.thumbnail((800,800)) \n",
    "image.save(\"image_resize.jpg\", 'JPEG', quality=90)\n",
    "width = int(image.size[0])\n",
    "height = int(image.size[1])\n",
    "print(width,height)"
   ]
  },
  {
   "cell_type": "markdown",
   "metadata": {
    "slideshow": {
     "slide_type": "slide"
    }
   },
   "source": [
    "# 綜合應用 - 圖片下載器\n",
    "我們結合今天所學到的技巧，  \n",
    "抓取 Dcard 一篇文章內的所有圖片：  \n",
    "- 把前面 API 使用到的 `requests`(抓取網址的內容)\n",
    "- 檔案總管操作-建立資料夾\n",
    "- 解析網頁內容：可直接對原文做字串處理，或是剛好有API可用json處理\n",
    "- 檔案讀寫-建立圖片檔案\n",
    "\n",
    "### You can do more~\n",
    "- 可以再結合 圖片處理 - PIL(Pillow)，判斷圖片大小\n",
    "- 再用 檔案總管操作-檔案操作，把太小的圖片刪掉"
   ]
  },
  {
   "cell_type": "code",
   "execution_count": 10,
   "metadata": {
    "collapsed": true,
    "slideshow": {
     "slide_type": "subslide"
    }
   },
   "outputs": [],
   "source": [
    "import requests,os\n",
    "\n",
    "### 讀取網頁內容\n",
    "url = \"https://www.dcard.tw/f/pet/p/232135806\"\n",
    "response = requests.get(url)\n",
    "html = response.text\n",
    "\n",
    "### 建立資料夾\n",
    "dir_name = \"photo_dir\"\n",
    "if dir_name not in os.listdir():\n",
    "    os.makedirs(dir_name)\n",
    "\n",
    "### 把圖片網址解析出來\n",
    "for temp in html.split(\"<img\"):\n",
    "    line = temp.split(\"/>\")[0]\n",
    "    if (\"src=\" in line):\n",
    "        img_src = line.replace(\"\\'\",\"\\\"\").split(\"src=\\\"\")[-1].split(\"\\\"\")[0]\n",
    "        if ( (\".jpeg\" in img_src) or (\".jpg\" in img_src) \n",
    "                or (\".JPG\" in img_src) or (\".png\" in img_src) ) :\n",
    "            ### 抓取圖片\n",
    "            img_response = requests.get(img_src)\n",
    "            img_binary = img_response.content\n",
    "\n",
    "            ### 建立圖片檔案\n",
    "            filename=img_src.split(\"/\")[-1]\n",
    "            filepath= \"{}/{}\".format(dir_name,filename)\n",
    "            fo = open(filepath,\"wb\")\n",
    "            fo.write(img_binary)\n",
    "            fo.close()"
   ]
  }
 ],
 "metadata": {
  "celltoolbar": "Slideshow",
  "kernelspec": {
   "display_name": "Python 3",
   "language": "python",
   "name": "python3"
  },
  "language_info": {
   "codemirror_mode": {
    "name": "ipython",
    "version": 3
   },
   "file_extension": ".py",
   "mimetype": "text/x-python",
   "name": "python",
   "nbconvert_exporter": "python",
   "pygments_lexer": "ipython3",
   "version": "3.6.3"
  }
 },
 "nbformat": 4,
 "nbformat_minor": 2
}
