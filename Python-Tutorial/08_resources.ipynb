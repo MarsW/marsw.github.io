{
 "cells": [
  {
   "cell_type": "markdown",
   "metadata": {
    "slideshow": {
     "slide_type": "slide"
    }
   },
   "source": [
    "# 08 - 學習資源\n",
    "- 書籍 \n",
    "- PyLadies 過往活動\n",
    "- Python Taiwan\n",
    "- 提問的智慧\n",
    "- 線上學習資源"
   ]
  },
  {
   "cell_type": "markdown",
   "metadata": {
    "slideshow": {
     "slide_type": "slide"
    }
   },
   "source": [
    "## 書籍\n",
    "把 Python 3 的書籍都拿起來翻一翻，  \n",
    "**「看哪一本順眼」**(用語比較容易看得懂、排版比較賞心悅目...etc.)，  \n",
    "那就選那一本當你的工具書。  \n",
    "\n",
    "一本看得順眼的書，就算他的內容並不是最豐富，  \n",
    "但能帶你在初學的時候就能看得很舒服，  \n",
    "就能讓你在學習Python基礎的時候非常順心。  \n",
    "之後如果還想更深入，不管是網路資源，  \n",
    "或是挑選更深入的書籍，你就已經有足夠的背景知識去判斷了！  "
   ]
  },
  {
   "cell_type": "markdown",
   "metadata": {
    "slideshow": {
     "slide_type": "slide"
    }
   },
   "source": [
    "# PyLadies 過往活動\n",
    "\n",
    "### 入門到應用\n",
    "- [Python 入門](https://tw.pyladies.com/events/topic.html?id=36)\n",
    "    - [Python 程式設計入門 (適用於 2.x 與 3.x 版)](https://www.tenlong.com.tw/products/9789864340057)\n",
    "- [生活中的程式-Python自動化](https://tw.pyladies.com/events/topic.html?id=42)\n",
    "    - [Python 自動化的樂趣｜搞定重複瑣碎 & 單調無聊的工作](https://www.tenlong.com.tw/products/9789864762729)\n",
    "- [Sikuli 截圖寫程式](https://tw.pyladies.com/events/topic.html?id=44)\n",
    "    \n",
    "### 進階\n",
    "- [Effective Python](https://tw.pyladies.com/events/topic.html?id=20)\n",
    "    - [Effective Python 中文版 | 寫出良好 Python 程式的 59 個具體做法](https://www.tenlong.com.tw/products/9789863477020)\n"
   ]
  },
  {
   "cell_type": "markdown",
   "metadata": {
    "slideshow": {
     "slide_type": "subslide"
    }
   },
   "source": [
    "### 資料科學\n",
    "- [從0到1的網頁爬蟲](https://tw.pyladies.com/events/topic.html?id=21)\n",
    "- [進階網頁爬蟲](https://tw.pyladies.com/events/topic.html?id=25)\n",
    "- [Python 資料視覺化應用](https://tw.pyladies.com/events/topic.html?id=43)\n",
    "- [Introduction to Data Science with Python](https://tw.pyladies.com/events/topic.html?id=39)\n",
    "- [Production TensorFlow](https://tw.pyladies.com/events/topic.html?id=45)\n",
    "- [Business Intelligence](https://tw.pyladies.com/events/event.html?id=149)\n",
    "- [資料科學家體驗工作坊](https://tw.pyladies.com/events/event.html?id=168)\n",
    "- [一日 AI 工程師 - Deep learning with PyTorch](https://tw.pyladies.com/events/event.html?id=189)\n",
    "\n",
    "### 金融相關\n",
    "- [金融數據應用](https://tw.pyladies.com/events/topic.html?id=50)"
   ]
  },
  {
   "cell_type": "markdown",
   "metadata": {
    "slideshow": {
     "slide_type": "subslide"
    }
   },
   "source": [
    "### 網站平台\n",
    "- [Flask Web 開發實戰](https://tw.pyladies.com/events/topic.html?id=35)\n",
    "    - [Flask Web 開發:基於 Python 的 Web 應用開發實戰](https://www.tenlong.com.tw/products/9787115373991)\n",
    "\n",
    "### 其他\n",
    "- [Line Bot Workshop](https://tw.pyladies.com/events/topic.html?id=27)\n",
    "- [PyCharm](https://tw.pyladies.com/events/event.html?id=145)\n",
    "- [Unit Test](https://tw.pyladies.com/events/event.html?id=147)\n",
    "- [Distributed Tasks](https://tw.pyladies.com/events/event.html?id=150)"
   ]
  },
  {
   "cell_type": "markdown",
   "metadata": {
    "slideshow": {
     "slide_type": "slide"
    }
   },
   "source": [
    "## [Python Taiwan](https://www.facebook.com/groups/pythontw/)\n",
    "- 可以在上面發問\n",
    "- 因為很多人問問題，所以也可以知道大家都用 Python 在做什麼\n",
    "\n",
    "\n",
    "> 在網路社群中，參與其中的人都是花費自己寶貴的時間來回覆你的問題，\n",
    "因此有「提問的智慧」是非常重要的："
   ]
  },
  {
   "cell_type": "markdown",
   "metadata": {
    "slideshow": {
     "slide_type": "slide"
    }
   },
   "source": [
    "## [提問的智慧](https://github.com/ryanhanwu/How-To-Ask-Questions-The-Smart-Way)"
   ]
  },
  {
   "cell_type": "markdown",
   "metadata": {
    "slideshow": {
     "slide_type": "subslide"
    }
   },
   "source": [
    "### 提問前\n",
    "請試著使用Google大神，先行研究一下，如果還是找不到滿意的解答，才進行提問。  \n",
    "**[Google技巧]**  \n",
    "可以將「錯誤代碼」直接google、或是用「英文的專有名詞」去搜尋，  \n",
    "如果看到搜尋結果有StackOverflow，請毫不猶豫點進去，  \n",
    "StackOverflow 是全世界最大的程式問答論壇，  \n",
    "裡面有綠色勾勾的通常就是被發問者視為正確解答的回應！  \n",
    "\n",
    "### 提問時\n",
    "請仔細描述你遇到的問題，例如：\n",
    "- 是在什麼環境執行(MacOS, Win10...)\n",
    "- Python的版本是什麼\n",
    "- 看過哪些搜尋結果\n",
    "- 試過哪些解決方案\n",
    "附上「截圖」或是「程式碼」，並且禮貌的發問！\n",
    "ps. 可利用[codepad](http://codepad.org/)貼程式碼，避免跑版\n",
    "\n",
    "### 提問後\n",
    "有熱心人士回答時，請也給予回應與感謝。"
   ]
  },
  {
   "cell_type": "markdown",
   "metadata": {
    "slideshow": {
     "slide_type": "slide"
    }
   },
   "source": [
    "# 線上學習資源\n",
    "- [CodeCademy](https://www.codecademy.com/learn/learn-python)：一步步透過遊戲互動方式學習 Python 每個觀念，很適合入門學習\n",
    "- [Coursera](https://zh-tw.coursera.org/)：像大學修學分，一門課程的內容頗為豐富，有些跟著交作業、考試，可以付費得到名校修課證明\n",
    "- [Udacity](https://www.udacity.com/)：強調以完成專案來學習跟實戰各種技術，許多知名科技公司會一起開設相關課程\n",
    "- [Treehouse](https://teamtreehouse.com/)：月費制，內容頗為精實，適合短期衝刺學習\n",
    "- [hahow 好學校](https://hahow.in/courses?page=1&search=python)：中文的學習平台，但種類相對較少\n",
    "- [Udemy](https://www.udemy.com/)：全球的學習平台，種類多，偶而會有中文教學。\n",
    "> [【選對自學平台，才有未來】程式語言入門必去 Udemy 、職場轉職必去 Udacity](https://buzzorange.com/techorange/2017/09/12/coursera-udemy-skillshare-udacity-which-one-best-for-u/)  \n",
    "[【Life】學海無涯之線上課程教學評比：Coding/Programming Training篇 – Blue Bottle🇹🇼🇳🇿](https://bluebottle.idv.tw/?p=11844)"
   ]
  },
  {
   "cell_type": "markdown",
   "metadata": {
    "slideshow": {
     "slide_type": "slide"
    }
   },
   "source": [
    "## [Soft & Share - 特價資訊分享](https://www.facebook.com/groups/softnshareGroupBuy/search/?query=python)(Udemy為主)\n",
    "\n",
    "### 入門到應用\n",
    "- [Python 練習簿：解決 100 個練習問題](https://softnshare.com/2017/06/30/pythonworkbooksolve100exercises)\n",
    "- [最新的 Python 3 訓練營](https://softnshare.com/2018/04/10/modern-python-bootcamp)\n",
    "\n",
    "### 進階\n",
    "- [Python 的演算法和資料結構](https://softnshare.com/2017/11/07/python-algorithms-data-structures)\n",
    "- [寫出高效能的 Python 程式](https://softnshare.com/2018/05/16/writinghigh-performance-python/)\n",
    "- [Python 設計模式](https://softnshare.com/2018/01/20/python-design-patterns-2/)\n"
   ]
  },
  {
   "cell_type": "markdown",
   "metadata": {
    "slideshow": {
     "slide_type": "subslide"
    }
   },
   "source": [
    "### 資料科學\n",
    "- [使用 Pandas 和 Python 做資料分析](https://softnshare.com/2017/09/21/data-analysis-with-pandas/)\n",
    "- [Python爬蟲：腳本爬蟲和 Scrapy框架](https://softnshare.com/2018/05/19/bulabean-superscrapy/)\n",
    "- [用 Python 做金融分析與演算法交易](https://softnshare.com/2017/08/15/python-financial-analysis-algorithmic-trading)\n",
    "- [資料科學 : 用 Python 做自然語言處理 (NLP)](https://softnshare.com/2018/05/21/data-science-natural-language-processing-nlp-in-python)\n",
    "- [使用 Python 、 Plotly 和 Dash 製作可互動的儀表板](https://softnshare.com/2018/05/02/interactive-python-dashboards-with-plotly-and-dash)\n",
    "- [運用 Python 和 Bokeh 做互動的資料視覺化](https://softnshare.com/2017/12/21/interactive-data-visualization-python-bokeh/)\n",
    "- [中文課程 – Python 數據分析：從入門到精通](https://softnshare.com/2018/08/06/bittiger-python-analyst)\n",
    "- [從頭學習使用 Python 的機器學習課程](https://softnshare.com/2018/06/29/machinelearning-python-from-scratch)\n",
    "\n",
    "### 金融相關\n",
    "- [中文課程 – Python 入門到製作股市分析](https://softnshare.com/2018/06/06/python-stock-data/)\n",
    "- [中文課程 – Python 匯率即時提醒平台](https://softnshare.com/2018/02/21/python-currency_remind)\n",
    "- [使用 Python 開發一個加密貨幣投資組合應用程式](https://softnshare.com/2018/02/04/build-a-crypto-currency-portfolio-app-with-python/)\n",
    "- [由建立區塊鏈與加密貨幣來學習 Python](https://softnshare.com/2018/05/07/learn-python-by-building-blockchain-cryptocurrency/)"
   ]
  },
  {
   "cell_type": "markdown",
   "metadata": {
    "slideshow": {
     "slide_type": "subslide"
    }
   },
   "source": [
    "### 網站平台\n",
    "- [中文課程 – Python Flask 入門 : 從無到有開發美食資料庫](https://softnshare.com/2018/06/03/pythonflask-and-sqlalchemy-orm)\n",
    "- [Python 電子商務：開發一個 Django 電子商務Web 應用程式](https://softnshare.com/2017/11/16/python-ecommerce-build-a-django-ecommerce-web-application)\n",
    "- [學習使用 Django 建立一個部落格網頁應用程式](https://softnshare.com/2016/11/13/trydjangoblog)\n",
    "- [使用 Celery ＆ Python解密分散式任務](https://softnshare.com/2018/03/31/distributed-tasks-demystified-celery-python/)\n",
    "\n",
    "### 其他\n",
    "- [使用 OpenCV 與深度學習的 Python 電腦視覺課程](https://softnshare.com/2018/11/02/python-for-computer-vision-with-opencv-and-deep-learning/)\n",
    "- [2018 年 Raspberry Pi 的終極指南: 提示、訣竅和駭客技巧](https://softnshare.com/2018/10/15/pi-ultimate-guide-2)\n",
    "- [Python 的自動化軟體測試](https://softnshare.com/2017/12/01/automated-software-testing-python)\n",
    "- [Python 3: 建構一個功能出色的計算機和其它 GUI 專案](https://softnshare.com/2018/09/17/python-calculator)\n",
    "- [給網路工程師的 Python 網路程式設計 ( Python 3 )](https://softnshare.com/2018/07/18/python-network-programming-network-engineers-python-3)\n",
    "- [運用 ArcGIS Pro 的 Python 開發者課程](https://softnshare.com/2018/10/29/arcpy-for-python-developers)\n",
    "- [精通 Python ：網路安全](https://softnshare.com/2018/05/22/masteringpython-networking-security/)"
   ]
  }
 ],
 "metadata": {
  "celltoolbar": "Slideshow",
  "kernelspec": {
   "display_name": "Python 3",
   "language": "python",
   "name": "python3"
  },
  "language_info": {
   "codemirror_mode": {
    "name": "ipython",
    "version": 3
   },
   "file_extension": ".py",
   "mimetype": "text/x-python",
   "name": "python",
   "nbconvert_exporter": "python",
   "pygments_lexer": "ipython3",
   "version": "3.6.12"
  }
 },
 "nbformat": 4,
 "nbformat_minor": 2
}
